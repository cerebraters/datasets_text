{
  "cells": [
    {
      "cell_type": "markdown",
      "metadata": {
        "id": "view-in-github",
        "colab_type": "text"
      },
      "source": [
        "<a href=\"https://colab.research.google.com/github/cerebraters/predict_V2/blob/main/TESTpredict.ipynb\" target=\"_parent\"><img src=\"https://colab.research.google.com/assets/colab-badge.svg\" alt=\"Open In Colab\"/></a>"
      ]
    },
    {
      "cell_type": "code",
      "execution_count": 2,
      "metadata": {
        "colab": {
          "base_uri": "https://localhost:8080/"
        },
        "id": "Tzuz7rVU_Cfe",
        "outputId": "6021827b-43a4-4d1e-9764-cbdeb99e752c"
      },
      "outputs": [
        {
          "output_type": "stream",
          "name": "stdout",
          "text": [
            "Collecting catboost\n",
            "  Downloading catboost-1.2.8-cp311-cp311-manylinux2014_x86_64.whl.metadata (1.2 kB)\n",
            "Requirement already satisfied: graphviz in /usr/local/lib/python3.11/dist-packages (from catboost) (0.21)\n",
            "Requirement already satisfied: matplotlib in /usr/local/lib/python3.11/dist-packages (from catboost) (3.10.0)\n",
            "Requirement already satisfied: numpy<3.0,>=1.16.0 in /usr/local/lib/python3.11/dist-packages (from catboost) (2.0.2)\n",
            "Requirement already satisfied: pandas>=0.24 in /usr/local/lib/python3.11/dist-packages (from catboost) (2.2.2)\n",
            "Requirement already satisfied: scipy in /usr/local/lib/python3.11/dist-packages (from catboost) (1.15.3)\n",
            "Requirement already satisfied: plotly in /usr/local/lib/python3.11/dist-packages (from catboost) (5.24.1)\n",
            "Requirement already satisfied: six in /usr/local/lib/python3.11/dist-packages (from catboost) (1.17.0)\n",
            "Requirement already satisfied: python-dateutil>=2.8.2 in /usr/local/lib/python3.11/dist-packages (from pandas>=0.24->catboost) (2.9.0.post0)\n",
            "Requirement already satisfied: pytz>=2020.1 in /usr/local/lib/python3.11/dist-packages (from pandas>=0.24->catboost) (2025.2)\n",
            "Requirement already satisfied: tzdata>=2022.7 in /usr/local/lib/python3.11/dist-packages (from pandas>=0.24->catboost) (2025.2)\n",
            "Requirement already satisfied: contourpy>=1.0.1 in /usr/local/lib/python3.11/dist-packages (from matplotlib->catboost) (1.3.2)\n",
            "Requirement already satisfied: cycler>=0.10 in /usr/local/lib/python3.11/dist-packages (from matplotlib->catboost) (0.12.1)\n",
            "Requirement already satisfied: fonttools>=4.22.0 in /usr/local/lib/python3.11/dist-packages (from matplotlib->catboost) (4.58.5)\n",
            "Requirement already satisfied: kiwisolver>=1.3.1 in /usr/local/lib/python3.11/dist-packages (from matplotlib->catboost) (1.4.8)\n",
            "Requirement already satisfied: packaging>=20.0 in /usr/local/lib/python3.11/dist-packages (from matplotlib->catboost) (24.2)\n",
            "Requirement already satisfied: pillow>=8 in /usr/local/lib/python3.11/dist-packages (from matplotlib->catboost) (11.2.1)\n",
            "Requirement already satisfied: pyparsing>=2.3.1 in /usr/local/lib/python3.11/dist-packages (from matplotlib->catboost) (3.2.3)\n",
            "Requirement already satisfied: tenacity>=6.2.0 in /usr/local/lib/python3.11/dist-packages (from plotly->catboost) (8.5.0)\n",
            "Downloading catboost-1.2.8-cp311-cp311-manylinux2014_x86_64.whl (99.2 MB)\n",
            "\u001b[2K   \u001b[90m━━━━━━━━━━━━━━━━━━━━━━━━━━━━━━━━━━━━━━━━\u001b[0m \u001b[32m99.2/99.2 MB\u001b[0m \u001b[31m9.1 MB/s\u001b[0m eta \u001b[36m0:00:00\u001b[0m\n",
            "\u001b[?25hInstalling collected packages: catboost\n",
            "Successfully installed catboost-1.2.8\n",
            "--2025-07-09 23:47:57--  https://raw.githubusercontent.com/cerebraters/predict_V2/refs/heads/main/ai.json\n",
            "Resolving raw.githubusercontent.com (raw.githubusercontent.com)... 185.199.108.133, 185.199.109.133, 185.199.110.133, ...\n",
            "Connecting to raw.githubusercontent.com (raw.githubusercontent.com)|185.199.108.133|:443... connected.\n",
            "HTTP request sent, awaiting response... 200 OK\n",
            "Length: 26197605 (25M) [text/plain]\n",
            "Saving to: ‘ai.json’\n",
            "\n",
            "ai.json             100%[===================>]  24.98M  85.0MB/s    in 0.3s    \n",
            "\n",
            "2025-07-09 23:47:58 (85.0 MB/s) - ‘ai.json’ saved [26197605/26197605]\n",
            "\n",
            "--2025-07-09 23:47:58--  https://raw.githubusercontent.com/cerebraters/predict_V2/refs/heads/main/output.json\n",
            "Resolving raw.githubusercontent.com (raw.githubusercontent.com)... 185.199.108.133, 185.199.111.133, 185.199.110.133, ...\n",
            "Connecting to raw.githubusercontent.com (raw.githubusercontent.com)|185.199.108.133|:443... connected.\n",
            "HTTP request sent, awaiting response... 200 OK\n",
            "Length: 2859733 (2.7M) [application/octet-stream]\n",
            "Saving to: ‘output.json’\n",
            "\n",
            "output.json         100%[===================>]   2.73M  --.-KB/s    in 0.07s   \n",
            "\n",
            "2025-07-09 23:47:58 (37.6 MB/s) - ‘output.json’ saved [2859733/2859733]\n",
            "\n"
          ]
        }
      ],
      "source": [
        "!pip install catboost\n",
        "!wget https://raw.githubusercontent.com/cerebraters/predict_V2/refs/heads/main/ai.json\n",
        "!wget https://raw.githubusercontent.com/cerebraters/predict_V2/refs/heads/main/output.json"
      ]
    },
    {
      "cell_type": "code",
      "execution_count": 1,
      "metadata": {
        "colab": {
          "base_uri": "https://localhost:8080/",
          "height": 1000,
          "referenced_widgets": [
            "867ba9683d104da5a74e0c469bea4a07",
            "201c90f5eff5468ba6d9d51b36980313"
          ]
        },
        "id": "GSpdLUVTeBUg",
        "outputId": "ea0a9717-d4db-41e6-f3e7-e900cc0061a8"
      },
      "outputs": [
        {
          "output_type": "stream",
          "name": "stdout",
          "text": [
            "Loading data...\n",
            "\n",
            "Initializing predictor...\n"
          ]
        },
        {
          "output_type": "stream",
          "name": "stderr",
          "text": [
            "Loading data: 100%|██████████| 40000/40000 [00:02<00:00, 14448.82it/s]\n"
          ]
        },
        {
          "output_type": "stream",
          "name": "stdout",
          "text": [
            "\n",
            "Data Statistics:\n",
            "- Total transactions: 40,000\n",
            "- Unique users: 6,094\n",
            "- Unique places: 67\n",
            "- Unique items: 813\n",
            "- Time range: 2025-06-17 19:42:12 to 2025-06-20 11:55:53\n",
            "\n",
            "Starting model training...\n",
            "Dataset stats: {'top_items': ['Пакет  фирменный  майка  Новый  дизайн,  черный', 'Пакет  фирменный  майка', 'ПЭТ  1,5л  (1/60)  Полимер', 'Контейнер  500  мл  РКСП  ОП  (137*132*62)  480шт', 'Пиво  разливное  АЯН  Абаканское  светлое  /50л', 'ПЭТ  3,0л  Акция    (1/35)  Полимер', 'ПЭТ  1,5л  (1/104)(УУ)', 'ПЭТ  1,5л  (1/50)  (И)', 'ПЭТ  1,0л  (1/80)  Полимер', 'ПЭТ  1,5л  (1/120)(АН)'], 'common_place': '60 лет Образования СССР, д. 21/2', 'common_hour': np.int32(20), 'common_hour_window': '12:00-14:00', 'total_users': 6094, 'total_transactions': 40000}\n",
            "\n",
            "=== Training Item Model ===\n",
            "\n",
            "Analyzing purchase cycles...\n"
          ]
        },
        {
          "output_type": "stream",
          "name": "stderr",
          "text": [
            "Items: 100%|██████████| 813/813 [00:00<00:00, 3248.30it/s]\n",
            "Categories: 100%|██████████| 81/81 [00:00<00:00, 2079.01it/s]\n"
          ]
        },
        {
          "output_type": "stream",
          "name": "stdout",
          "text": [
            "\n",
            "Training Item Model...\n",
            "\n",
            "Calculating customer behavior statistics...\n"
          ]
        },
        {
          "output_type": "stream",
          "name": "stderr",
          "text": [
            "Users: 100%|██████████| 6094/6094 [00:00<00:00, 24731.48it/s]\n"
          ]
        },
        {
          "output_type": "stream",
          "name": "stdout",
          "text": [
            "\n",
            "Extracting personal item features...\n"
          ]
        },
        {
          "output_type": "display_data",
          "data": {
            "text/plain": [
              "MetricVisualizer(layout=Layout(align_self='stretch', height='500px'))"
            ],
            "application/vnd.jupyter.widget-view+json": {
              "version_major": 2,
              "version_minor": 0,
              "model_id": "867ba9683d104da5a74e0c469bea4a07"
            }
          },
          "metadata": {}
        },
        {
          "output_type": "stream",
          "name": "stdout",
          "text": [
            "0:\tlearn: 0.0040726\ttest: 0.0040573\tbest: 0.0040573 (0)\ttotal: 6.53s\tremaining: 16m 13s\n",
            "10:\tlearn: 0.0156043\ttest: 0.0154333\tbest: 0.0154333 (9)\ttotal: 1m 16s\tremaining: 16m 7s\n",
            "20:\tlearn: 0.0203596\ttest: 0.0202012\tbest: 0.0202175 (17)\ttotal: 2m 25s\tremaining: 14m 51s\n",
            "30:\tlearn: 0.0235675\ttest: 0.0234524\tbest: 0.0234524 (30)\ttotal: 3m 36s\tremaining: 13m 50s\n",
            "40:\tlearn: 0.0270804\ttest: 0.0267586\tbest: 0.0267586 (38)\ttotal: 4m 46s\tremaining: 12m 41s\n",
            "50:\tlearn: 0.0294323\ttest: 0.0289447\tbest: 0.0289839 (47)\ttotal: 5m 56s\tremaining: 11m 31s\n",
            "60:\tlearn: 0.0313199\ttest: 0.0308647\tbest: 0.0308647 (56)\ttotal: 7m 5s\tremaining: 10m 20s\n",
            "70:\tlearn: 0.0348565\ttest: 0.0338860\tbest: 0.0338860 (69)\ttotal: 8m 14s\tremaining: 9m 10s\n",
            "80:\tlearn: 0.0359810\ttest: 0.0347050\tbest: 0.0347050 (80)\ttotal: 9m 23s\tremaining: 7m 59s\n",
            "90:\tlearn: 0.0364776\ttest: 0.0346158\tbest: 0.0347815 (81)\ttotal: 10m 32s\tremaining: 6m 49s\n",
            "100:\tlearn: 0.0368911\ttest: 0.0350205\tbest: 0.0350205 (100)\ttotal: 11m 42s\tremaining: 5m 40s\n",
            "110:\tlearn: 0.0395464\ttest: 0.0371907\tbest: 0.0372610 (109)\ttotal: 12m 52s\tremaining: 4m 31s\n",
            "120:\tlearn: 0.0414709\ttest: 0.0379519\tbest: 0.0387582 (119)\ttotal: 14m 1s\tremaining: 3m 21s\n",
            "130:\tlearn: 0.0424641\ttest: 0.0398575\tbest: 0.0398575 (130)\ttotal: 15m 11s\tremaining: 2m 12s\n",
            "140:\tlearn: 0.0429601\ttest: 0.0407606\tbest: 0.0407606 (140)\ttotal: 16m 21s\tremaining: 1m 2s\n",
            "149:\tlearn: 0.0453218\ttest: 0.0420356\tbest: 0.0424386 (148)\ttotal: 17m 25s\tremaining: 0us\n",
            "\n",
            "bestTest = 0.042438644\n",
            "bestIteration = 148\n",
            "\n",
            "Shrink model to first 149 iterations.\n",
            "\n",
            "Item Model Evaluation:\n",
            "\n",
            "Overall Metrics:\n",
            "Accuracy: 0.2933\n",
            "Top-1 Accuracy: 0.2933\n",
            "Top-3 Accuracy: 0.5625\n",
            "Top-5 Accuracy: 0.6904\n",
            "\n",
            "=== Training Time Model ===\n",
            "\n",
            "Training Time Model...\n",
            "0:\tlearn: 2.0802237\ttotal: 52.8ms\tremaining: 7.86s\n",
            "100:\tlearn: 0.0532965\ttotal: 3.56s\tremaining: 1.73s\n",
            "149:\tlearn: 0.0169033\ttotal: 4.77s\tremaining: 0us\n",
            "\n",
            "Time Model Metrics:\n",
            "MAE: 0.02 hours\n",
            "R2 Score: 1.00\n",
            "\n",
            "=== Training Place Model ===\n",
            "\n",
            "Training on 40000 samples with 67 unique places\n",
            "\n",
            "Training Place Model...\n"
          ]
        },
        {
          "output_type": "display_data",
          "data": {
            "text/plain": [
              "MetricVisualizer(layout=Layout(align_self='stretch', height='500px'))"
            ],
            "application/vnd.jupyter.widget-view+json": {
              "version_major": 2,
              "version_minor": 0,
              "model_id": "201c90f5eff5468ba6d9d51b36980313"
            }
          },
          "metadata": {}
        },
        {
          "output_type": "stream",
          "name": "stdout",
          "text": [
            "0:\tlearn: 0.0166371\ttest: 0.0139801\tbest: 0.0139801 (0)\ttotal: 1.93s\tremaining: 25m 42s\n",
            "100:\tlearn: 0.0835172\ttest: 0.0714140\tbest: 0.0714140 (100)\ttotal: 3m 16s\tremaining: 22m 38s\n",
            "200:\tlearn: 0.1182710\ttest: 0.0980892\tbest: 0.0988579 (196)\ttotal: 6m 23s\tremaining: 19m 2s\n",
            "300:\tlearn: 0.1622723\ttest: 0.1330840\tbest: 0.1330840 (300)\ttotal: 9m 33s\tremaining: 15m 49s\n",
            "400:\tlearn: 0.2002745\ttest: 0.1640469\tbest: 0.1640469 (397)\ttotal: 12m 42s\tremaining: 12m 39s\n",
            "500:\tlearn: 0.2301258\ttest: 0.1902181\tbest: 0.1902181 (500)\ttotal: 15m 57s\tremaining: 9m 31s\n",
            "600:\tlearn: 0.2581241\ttest: 0.2156247\tbest: 0.2157216 (599)\ttotal: 19m 19s\tremaining: 6m 23s\n",
            "700:\tlearn: 0.2749920\ttest: 0.2293645\tbest: 0.2293645 (700)\ttotal: 22m 40s\tremaining: 3m 12s\n",
            "799:\tlearn: 0.2913781\ttest: 0.2439316\tbest: 0.2439316 (797)\ttotal: 25m 53s\tremaining: 0us\n",
            "\n",
            "bestTest = 0.243931601\n",
            "bestIteration = 797\n",
            "\n",
            "Shrink model to first 798 iterations.\n",
            "\n",
            "Place Model Evaluation:\n",
            "                                              precision    recall  f1-score   support\n",
            "\n",
            "            60 лет Образования СССР, д. 21/2       0.00      0.00      0.00       304\n",
            "                     60 лет Октября, д. 83 б       1.00      0.01      0.01       186\n",
            "                       60 лет Октября, д. 84       1.00      0.48      0.65        73\n",
            "                                9 Мая, д. 51       1.00      0.11      0.19       103\n",
            "                             Амурская, д.16г       1.00      0.04      0.07       141\n",
            "   Ангарск 1, микрорайон 18, д. 20, пом. 105       0.17      0.30      0.22        70\n",
            "               Ангарск 2, квартал 93, стр.38       0.07      0.35      0.12        88\n",
            "              Ангарск 3, квартал 182, стр.12       0.22      0.48      0.30        64\n",
            "             Ангарск 4, 22 микрорайон, д. 43       0.15      0.16      0.15        82\n",
            "Ангарск 5, 29 микрорайон, д. 10, пом 240/241       1.00      0.45      0.62        55\n",
            "          Ангарск 6, 86 кв-л, д. 40, пом. 57       0.10      0.67      0.18        52\n",
            "       Ангарск 7, 254 квартал, д. 4, стр. 4в       0.11      0.09      0.10        98\n",
            "                Ангарск 8, 61 квартал, д. 16       1.00      0.44      0.61        62\n",
            "                                   Ангарск 9       0.04      0.69      0.08        32\n",
            "                      Ачинск-1, ул. Кирова,6       1.00      0.06      0.11       162\n",
            "                Ачинск-2, 3 микрорайон, д. 1       0.08      0.52      0.14        69\n",
            "                Ачинск-3, 4 микрорайон, д. 1       1.00      0.03      0.05       144\n",
            "          Ачинск-4, Привокзальный 3 мкр,д.16       1.00      0.12      0.22       113\n",
            "              Ачинск-5, 4 микрорайон, д. 36а       1.00      0.01      0.01       144\n",
            "                Ачинск-6, 9 микрорайон, д. 2       0.05      0.12      0.07       195\n",
            "                             Батурина, д. 5г       0.14      0.24      0.18       123\n",
            "             Ботанический, д.9, стр.1, пом.2       1.00      0.08      0.14       131\n",
            "                     Вавилова, д. 39, пом.60       0.78      0.22      0.35        81\n",
            "                           Водопьянова, д. 8       0.00      0.00      0.00       227\n",
            "            Дивногорск 3, ул. Гриммау, д. 1а       1.00      0.73      0.85        41\n",
            "          Железнодорожников, д. 22, пом. 301       1.00      0.20      0.33        95\n",
            "            Иркутск 1, ул. Либкнехта, д. 239       0.10      0.48      0.16        73\n",
            "            Иркутск 2, ул. Лермонтова, д. 65       0.16      0.86      0.27        22\n",
            "      Иркутск 3, ул. Дальневосточная, д. 144       0.17      0.49      0.25        80\n",
            "           Иркутск 4, ул. Депутатская, д. 15       0.06      0.45      0.10        55\n",
            "      Иркутск 6, ул. Р.Люксембург, д. 273а/2       1.00      0.10      0.19       116\n",
            "       Иркутск 8, ул. Гоголя, д. 80 пом. 219       0.24      0.26      0.25        85\n",
            "         Иркутск 9, ул. Депутатская, д. 47/2       0.54      0.44      0.49        61\n",
            "      Иркутск-10, ул. Академическая, д. 28/4       0.05      0.20      0.08       104\n",
            "                  Калинина, д. 183, пом. 159       1.00      0.24      0.39        95\n",
            "                            Карамзина, д. 18       1.00      0.03      0.06       133\n",
            "                           Киренского, д. 67       1.00      0.20      0.34        79\n",
            "              Комсомольский, д. 3а, пом. 162       0.15      0.39      0.22        77\n",
            "                        Краснодарская, д.10а       1.00      0.41      0.58        88\n",
            "                     Красномосковская, д. 1а       0.44      0.66      0.53        50\n",
            "                Красноярский рабочий, д. 165       1.00      0.13      0.23       114\n",
            "                 Красноярский рабочий, д. 89       0.96      0.33      0.50        78\n",
            "                             Крупской, д. 1г       1.00      0.26      0.41        77\n",
            "                       Ладо Кецховелли, 65,а       1.00      0.03      0.07       144\n",
            "                   Линейная, д. 86, пом. 163       0.02      0.04      0.03       173\n",
            "                            Мартынова, д. 22       1.00      0.23      0.37       100\n",
            "                           Мате Залки, д. 8г       1.00      0.02      0.03       241\n",
            "                          Металлургов, д. 12       0.00      0.00      0.00       202\n",
            "                          Металлургов, д. 47       0.14      0.48      0.22        67\n",
            "            Назарово 2, ул. Арбузова, д. 92а       1.00      0.19      0.32        95\n",
            "            Назарово 3, ул. 30 ВЛКСМ, д. 83г       0.40      0.40      0.40        84\n",
            "       Назарово 4, ул. Революционная, д. 67а       1.00      0.03      0.05       116\n",
            "                              Павлова, д. 55       0.00      0.00      0.00       270\n",
            "                        Свердловская, д. 141       0.86      0.11      0.20       105\n",
            "                            Свободный, д. 58       1.00      0.85      0.92        34\n",
            "                    Словцова, д. 8, пом. 238       1.00      0.19      0.32       105\n",
            "                            Стасовой, 38 \"Д\"       0.67      0.09      0.15       116\n",
            "                  Улан удэ 10, Терешковой 7а       1.00      0.05      0.10       153\n",
            "             Улан-Удэ 1, ул. Гагарина, д. 57       1.00      0.02      0.03       235\n",
            "               Улан-Удэ 3, ул.Туполева, д. 4       1.00      0.05      0.10       184\n",
            "               Улан-Удэ 4, ул.Смолина, д. 54       0.67      0.01      0.02       207\n",
            "             Улан-Удэ 5, ул. Жердева, д. 132       0.05      0.28      0.08       151\n",
            "          Улан-Удэ 7, ул. Октябрьская, д. 13       1.00      0.00      0.01       303\n",
            "                             Шевченко, д. 28       1.00      0.05      0.10       136\n",
            "                  Шелехов-1, 4 квартал, д. 4       0.04      0.25      0.08       140\n",
            "                                Щорса, д. 50       0.00      0.00      0.00       216\n",
            "                           Ястынская, д. 6 г       0.07      0.21      0.10       101\n",
            "\n",
            "                                    accuracy                           0.15      8000\n",
            "                                   macro avg       0.59      0.24      0.22      8000\n",
            "                                weighted avg       0.59      0.15      0.15      8000\n",
            "\n",
            "Top-1 Accuracy: 0.0000\n",
            "Top-3 Accuracy: 0.0000\n",
            "Top-5 Accuracy: 0.0000\n",
            "\n",
            "All models trained successfully!\n",
            "\n",
            "Saving models...\n",
            "Time model saved to models/time_model.joblib\n",
            "Enhanced place model saved to models/place_model.joblib\n",
            "Enhanced item model saved to models/item_model.joblib\n",
            "\n",
            "All models saved to models directory\n",
            "\n",
            "Generating predictions...\n"
          ]
        },
        {
          "output_type": "stream",
          "name": "stderr",
          "text": [
            "Predicting: 100%|██████████| 6094/6094 [11:46<00:00,  8.62it/s]\n"
          ]
        },
        {
          "output_type": "stream",
          "name": "stdout",
          "text": [
            "\n",
            "Reports generated in output\n",
            "\n",
            "Sample predictions:\n",
            "\n",
            "Customer 1327337:\n",
            "- Time: 12:00-14:00 (confidence: 0.51)\n",
            "- Place: ['Красномосковская, д. 1а'] (confidence: 0.06)\n",
            "- Top items:\n",
            "  • Пиво  разливное  АЯН  Абаканское  светлое  /50л (confidence: 0.16)\n",
            "  • Пиво  разливное  Минусинское  Жигулевское  /50  л (confidence: 0.05)\n",
            "  • Пиво  разливное  Адмирал  Колчак  светлое  (Фирменное)  /50л (confidence: 0.05)\n",
            "  • Пиво  разливное  Венское/30л  (МПЗ) (confidence: 0.04)\n",
            "  • Пиво  разливное  Бочкарев  Чешское  светлое/50л (confidence: 0.04)\n",
            "- History: 2 past purchases\n",
            "\n",
            "Customer 1717391:\n",
            "- Time: 12:00-14:00 (confidence: 1.00)\n",
            "- Place: ['Красномосковская, д. 1а'] (confidence: 0.06)\n",
            "- Top items:\n",
            "  • Сигареты  Camel  Compact (confidence: 0.03)\n",
            "  • Сигареты  Chesterfield  Selection  Compact  MT (confidence: 0.02)\n",
            "  • Пиво  \"АЯН\"  светлое  4,8%  ст.  0,5л  (20шт) (confidence: 0.01)\n",
            "  • Пиво  разливное  АЯН  Абаканское  светлое  /50л (confidence: 0.01)\n",
            "  • ПЭТ  2,0л  Акция  (1/50)  (И) (confidence: 0.01)\n",
            "- History: 13 past purchases\n",
            "\n",
            "Customer 1999611:\n",
            "- Time: 12:00-14:00 (confidence: 0.51)\n",
            "- Place: ['Красномосковская, д. 1а'] (confidence: 0.06)\n",
            "- Top items:\n",
            "  • Сухарики  домашние  с  чесноком (confidence: 0.11)\n",
            "  • Сухарики  бородинские  с  чесноком (confidence: 0.10)\n",
            "  • Сухари  \"Егоровские\"  со  вкусом  Ребрышки  по-Техасски (confidence: 0.09)\n",
            "  • Сухари  \"Егоровские\"  с  Чесноком-Дарницкие (confidence: 0.07)\n",
            "  • Гренки  пшеничные-ржаные  со  вкусом  \"Тайский  перец\" (confidence: 0.07)\n",
            "- History: 6 past purchases\n"
          ]
        }
      ],
      "source": [
        "import json\n",
        "import pandas as pd\n",
        "import numpy as np\n",
        "import matplotlib.pyplot as plt\n",
        "from datetime import datetime\n",
        "from collections import defaultdict\n",
        "from sklearn.preprocessing import OneHotEncoder\n",
        "from sklearn.compose import ColumnTransformer\n",
        "\n",
        "from sklearn.pipeline import Pipeline\n",
        "from sklearn.metrics import (\n",
        "    classification_report,\n",
        "    confusion_matrix,\n",
        "    mean_absolute_error,\n",
        "    r2_score,\n",
        "    accuracy_score,\n",
        "    f1_score,\n",
        "    top_k_accuracy_score\n",
        ")\n",
        "from sklearn.model_selection import train_test_split\n",
        "from catboost import CatBoostClassifier, CatBoostRegressor\n",
        "import joblib\n",
        "import os\n",
        "import seaborn as sns\n",
        "from sklearn.base import BaseEstimator, TransformerMixin\n",
        "from typing import List, Dict, Any, Optional, Union\n",
        "from tqdm import tqdm\n",
        "\n",
        "class PurchaseCycleAnalyzer:\n",
        "    def __init__(self):\n",
        "        self.item_cycles = defaultdict(dict)\n",
        "        self.category_cycles = defaultdict(dict)\n",
        "\n",
        "    def update_cycles(self, df: pd.DataFrame):\n",
        "\n",
        "        print(\"\\nAnalyzing purchase cycles...\")\n",
        "\n",
        "        for item, group in tqdm(df.groupby('goodsName'), desc=\"Items\"):\n",
        "            day_counts = group['day_of_week'].value_counts(normalize=True)\n",
        "            for day, freq in day_counts.items():\n",
        "                if freq > 0.25:\n",
        "                    self.item_cycles[item][day] = freq\n",
        "\n",
        "        for category, group in tqdm(df.groupby('categoryName'), desc=\"Categories\"):\n",
        "            day_counts = group['day_of_week'].value_counts(normalize=True)\n",
        "            for day, freq in day_counts.items():\n",
        "                if freq > 0.3:\n",
        "                    self.category_cycles[category][day] = freq\n",
        "\n",
        "    def get_cycle_weight(self, item: str, category: str, day_of_week: int) -> float:\n",
        "\n",
        "        item_weight = self.item_cycles.get(item, {}).get(day_of_week, 1.0)\n",
        "        category_weight = self.category_cycles.get(category, {}).get(day_of_week, 1.0)\n",
        "        return (item_weight + category_weight) / 2\n",
        "\n",
        "class TimeFeaturesTransformer(BaseEstimator, TransformerMixin):\n",
        "    def __init__(self):\n",
        "        self.features = ['hour', 'day_of_week', 'month']\n",
        "\n",
        "    def fit(self, X, y=None):\n",
        "        return self\n",
        "\n",
        "    def transform(self, X):\n",
        "        if isinstance(X, np.ndarray):\n",
        "            X = pd.DataFrame(X, columns=self.features)\n",
        "\n",
        "        result = np.zeros((X.shape[0], 6))\n",
        "        result[:, 0] = np.sin(2 * np.pi * X['hour']/24)\n",
        "        result[:, 1] = np.cos(2 * np.pi * X['hour']/24)\n",
        "        result[:, 2] = np.sin(2 * np.pi * X['day_of_week']/7)\n",
        "        result[:, 3] = np.cos(2 * np.pi * X['day_of_week']/7)\n",
        "        result[:, 4] = np.sin(2 * np.pi * (X['month']-1)/12)\n",
        "        result[:, 5] = np.cos(2 * np.pi * (X['month']-1)/12)\n",
        "\n",
        "        return result\n",
        "\n",
        "class PlaceHistoryEncoder(BaseEstimator, TransformerMixin):\n",
        "    def __init__(self, user_history: Dict[str, List[Dict]], n_last_visits: int = 5):\n",
        "        self.user_history = user_history\n",
        "        self.n_last_visits = n_last_visits\n",
        "        self.place_to_idx = {}\n",
        "        self.num_places = 0\n",
        "\n",
        "    def fit(self, X, y=None):\n",
        "        all_places = set()\n",
        "        for visits in self.user_history.values():\n",
        "            for visit in visits[:self.n_last_visits]:\n",
        "                all_places.add(visit['place'])\n",
        "\n",
        "        self.place_to_idx = {place: idx for idx, place in enumerate(sorted(all_places))}\n",
        "        self.num_places = len(self.place_to_idx)\n",
        "        return self\n",
        "\n",
        "    def transform(self, X):\n",
        "        features = np.zeros((X.shape[0], self.num_places))\n",
        "\n",
        "        for i, row in enumerate(X['customerId']):\n",
        "            last_places = [visit['place'] for visit in\n",
        "                         sorted(self.user_history.get(row, []),\n",
        "                         key=lambda x: x['datetime'], reverse=True)[:self.n_last_visits]]\n",
        "\n",
        "            for place in last_places:\n",
        "                if place in self.place_to_idx:\n",
        "                    features[i, self.place_to_idx[place]] += 1\n",
        "\n",
        "        return features\n",
        "\n",
        "class CustomerBehaviorTransformer(BaseEstimator, TransformerMixin):\n",
        "    def __init__(self, user_history: Dict[str, List[Dict]]):\n",
        "        self.user_history = user_history\n",
        "        self.user_stats = {}\n",
        "\n",
        "    def fit(self, X, y=None):\n",
        "        print(\"\\nCalculating customer behavior statistics...\")\n",
        "        for user_id, history in tqdm(self.user_history.items(), desc=\"Users\"):\n",
        "            stats = {}\n",
        "            if history:\n",
        "                hours = [h['datetime'].hour for h in history]\n",
        "                stats['avg_hour'] = np.mean(hours) if hours else 12\n",
        "                stats['hour_std'] = np.std(hours) if len(hours) > 1 else 0\n",
        "\n",
        "                stats['total_visits'] = len(history)\n",
        "                time_diff = (history[-1]['datetime'] - history[0]['datetime']).days\n",
        "                stats['visit_freq'] = stats['total_visits'] / (time_diff + 1) if time_diff >= 0 else 0\n",
        "\n",
        "                categories = [h.get('categoryName', '') for h in history]\n",
        "                if categories:\n",
        "                    stats['fav_category'] = max(set(categories), key=categories.count)\n",
        "                else:\n",
        "                    stats['fav_category'] = 'unknown'\n",
        "\n",
        "            else:\n",
        "                stats = {\n",
        "                    'avg_hour': 12,\n",
        "                    'hour_std': 0,\n",
        "                    'total_visits': 0,\n",
        "                    'visit_freq': 0,\n",
        "                    'fav_category': 'unknown'\n",
        "                }\n",
        "\n",
        "            self.user_stats[user_id] = stats\n",
        "        return self\n",
        "\n",
        "    def transform(self, X):\n",
        "        features = np.zeros((X.shape[0], 5))\n",
        "\n",
        "        for i, (_, row) in enumerate(X.iterrows()):\n",
        "            user_id = row['customerId']\n",
        "            stats = self.user_stats.get(user_id, {})\n",
        "\n",
        "            features[i, 0] = abs(row['hour'] - stats.get('avg_hour', 12)) / 24\n",
        "\n",
        "            features[i, 1] = stats.get('hour_std', 0) / 12\n",
        "\n",
        "            features[i, 2] = 1 if stats.get('fav_category', '') == row['categoryName'] else 0\n",
        "\n",
        "            features[i, 3] = np.log1p(stats.get('total_visits', 0))\n",
        "\n",
        "            features[i, 4] = stats.get('visit_freq', 0)\n",
        "\n",
        "        return features\n",
        "\n",
        "class PersonalItemFeatures(BaseEstimator, TransformerMixin):\n",
        "\n",
        "    def __init__(self, user_history: Dict[str, List[Dict]]):\n",
        "        self.user_history = user_history\n",
        "        self.user_categories = defaultdict(set)  # Используем set для быстрого поиска\n",
        "        self.co_occurrence = defaultdict(int)\n",
        "        self._is_fitted = False\n",
        "\n",
        "    def fit(self, X, y=None):\n",
        "        print(\"\\nExtracting personal item features...\")\n",
        "        for user_id, history in self.user_history.items():\n",
        "            categories = {item.get('category', '').split('|')[0] for item in history if '|' in item.get('category', '')}\n",
        "            self.user_categories[user_id].update(categories)\n",
        "\n",
        "        try:\n",
        "            for user_id, history in self.user_history.items():\n",
        "                items = [item['item'] for item in history if 'item' in item]\n",
        "                for i in range(len(items)-1):\n",
        "                    pair = tuple(sorted([items[i], items[i+1]]))\n",
        "                    self.co_occurrence[pair] += 1\n",
        "        except Exception as e:\n",
        "            print(f\"Warning: co-occurrence extraction failed: {str(e)}\")\n",
        "\n",
        "        self._is_fitted = True\n",
        "        return self\n",
        "\n",
        "    def transform(self, X):\n",
        "        if not self._is_fitted:\n",
        "            raise RuntimeError(\"Transformer must be fitted first\")\n",
        "\n",
        "        n_samples = X.shape[0] if hasattr(X, 'shape') else len(X)\n",
        "        features = np.zeros((n_samples, 3))\n",
        "\n",
        "        for i in range(n_samples):\n",
        "            try:\n",
        "                row = X.iloc[i] if hasattr(X, 'iloc') else X[i]\n",
        "                user_id = str(row['customerId'])\n",
        "                current_category = str(row.get('categoryName', ''))\n",
        "\n",
        "                features[i, 0] = 1 if current_category in self.user_categories.get(user_id, set()) else 0\n",
        "\n",
        "                if user_id in self.user_history:\n",
        "                    features[i, 1] = sum(\n",
        "                        1 for item in self.user_history[user_id]\n",
        "                        if str(item.get('category', '')).startswith(current_category)\n",
        "                    )\n",
        "\n",
        "                if hasattr(row, 'goodsName'):\n",
        "                    item_name = str(row['goodsName'])\n",
        "                    features[i, 2] = sum(\n",
        "                        self.co_occurrence.get(tuple(sorted([item_name, hist_item.get('item', '')])), 0)\n",
        "                        for hist_item in self.user_history.get(user_id, [])\n",
        "                    )\n",
        "\n",
        "            except Exception as e:\n",
        "                print(f\"Warning: error processing sample {i}: {str(e)}\")\n",
        "                features[i, :] = 0\n",
        "\n",
        "        return features\n",
        "\n",
        "class TimePredictor:\n",
        "    def __init__(self):\n",
        "        self.model = CatBoostRegressor(\n",
        "            iterations=150,\n",
        "            depth=8,\n",
        "            learning_rate=0.1,\n",
        "            loss_function='MAE',\n",
        "            verbose=100,\n",
        "            task_type='CPU'\n",
        "        )\n",
        "\n",
        "        self.preprocessor = ColumnTransformer([\n",
        "            ('customer', OneHotEncoder(handle_unknown='ignore', sparse_output=False), ['customerId']),\n",
        "            ('place', OneHotEncoder(handle_unknown='ignore', sparse_output=False), ['pointName']),\n",
        "            ('time', TimeFeaturesTransformer(), ['hour', 'day_of_week', 'month'])\n",
        "        ])\n",
        "\n",
        "        self.pipeline = Pipeline([\n",
        "            ('preprocessor', self.preprocessor),\n",
        "            ('regressor', self.model)\n",
        "        ])\n",
        "\n",
        "    def train(self, df: pd.DataFrame):\n",
        "        X = df[['customerId', 'hour', 'day_of_week', 'month', 'pointName']]\n",
        "        y = df['hour']\n",
        "\n",
        "        X_train, X_test, y_train, y_test = train_test_split(\n",
        "            X, y, test_size=0.2, random_state=42\n",
        "        )\n",
        "\n",
        "        print(\"\\nTraining Time Model...\")\n",
        "        self.pipeline.fit(X_train, y_train)\n",
        "\n",
        "        y_pred = self.pipeline.predict(X_test)\n",
        "        print(f\"\\nTime Model Metrics:\")\n",
        "        print(f\"MAE: {mean_absolute_error(y_test, y_pred):.2f} hours\")\n",
        "        print(f\"R2 Score: {r2_score(y_test, y_pred):.2f}\")\n",
        "\n",
        "    def save(self, path: str):\n",
        "        os.makedirs(os.path.dirname(path), exist_ok=True)\n",
        "        joblib.dump(self, path)\n",
        "        print(f\"Time model saved to {path}\")\n",
        "\n",
        "class EnhancedPlacePredictor:\n",
        "    def __init__(self, user_history: Dict[str, List[Dict]]):\n",
        "        self.user_history = user_history\n",
        "        self.model = self._init_model()\n",
        "        self.preprocessor = self._init_preprocessor()\n",
        "\n",
        "    def _init_model(self):\n",
        "        return CatBoostClassifier(\n",
        "            iterations=2000,\n",
        "            depth=10,\n",
        "            learning_rate=0.05,\n",
        "            auto_class_weights='Balanced',\n",
        "            verbose=100,\n",
        "            task_type='CPU',\n",
        "            eval_metric='TotalF1:average=Macro',\n",
        "            early_stopping_rounds=200\n",
        "        )\n",
        "\n",
        "    def _init_preprocessor(self):\n",
        "        return ColumnTransformer([\n",
        "            ('customer', OneHotEncoder(\n",
        "                handle_unknown='ignore',\n",
        "                sparse_output=False,\n",
        "                max_categories=7000),\n",
        "             ['customerId']),\n",
        "            ('time', TimeFeaturesTransformer(), ['hour', 'day_of_week', 'month']),\n",
        "            ('time_of_day', OneHotEncoder(\n",
        "                handle_unknown='ignore',\n",
        "                sparse_output=False),\n",
        "             ['time_of_day']),\n",
        "            ('history', PlaceHistoryEncoder(\n",
        "                user_history=self.user_history,\n",
        "                n_last_visits=5),\n",
        "             ['customerId', 'hour', 'day_of_week', 'month'])\n",
        "        ])\n",
        "\n",
        "    def train(self, df: pd.DataFrame):\n",
        "        df['time_of_day'] = pd.cut(\n",
        "            df['hour'],\n",
        "            bins=[0, 6, 12, 18, 24],\n",
        "            labels=['night', 'morning', 'afternoon', 'evening'],\n",
        "            right=False\n",
        "        )\n",
        "        place_counts = df['pointName'].value_counts()\n",
        "        valid_places = place_counts[place_counts >= 5].index\n",
        "        df = df[df['pointName'].isin(valid_places)]\n",
        "\n",
        "        print(f\"\\nTraining on {len(df)} samples with {len(valid_places)} unique places\")\n",
        "\n",
        "        X = df[['customerId', 'hour', 'day_of_week', 'month', 'time_of_day']]\n",
        "        y = df['pointName']\n",
        "\n",
        "        X_train, X_test, y_train, y_test = train_test_split(\n",
        "            X, y, test_size=0.2, random_state=42, stratify=y\n",
        "        )\n",
        "\n",
        "        print(\"\\nTraining Place Model...\")\n",
        "        self.model.fit(\n",
        "            self.preprocessor.fit_transform(X_train, y_train),\n",
        "            y_train,\n",
        "            eval_set=(self.preprocessor.transform(X_test), y_test),\n",
        "            plot=True\n",
        "        )\n",
        "\n",
        "        self._evaluate(X_test, y_test)\n",
        "\n",
        "    def _evaluate(self, X_test, y_test):\n",
        "        print(\"\\nPlace Model Evaluation:\")\n",
        "        X_test_processed = self.preprocessor.transform(X_test)\n",
        "        y_pred = self.model.predict(X_test_processed)\n",
        "        y_proba = self.model.predict_proba(X_test_processed)\n",
        "\n",
        "        print(classification_report(y_test, y_pred, zero_division=0))\n",
        "\n",
        "        for k in [1, 3, 5]:\n",
        "            top_k_acc = np.mean([\n",
        "                y_test.iloc[i] in y_proba[i].argsort()[-k:]\n",
        "                for i in range(len(y_test))\n",
        "            ])\n",
        "            print(f\"Top-{k} Accuracy: {top_k_acc:.4f}\")\n",
        "\n",
        "        self._plot_confusion_matrix(y_test, y_pred)\n",
        "\n",
        "    def _plot_confusion_matrix(self, y_test, y_pred):\n",
        "        top_places = y_test.value_counts().nlargest(15).index\n",
        "        cm = confusion_matrix(\n",
        "            y_test[y_test.isin(top_places)],\n",
        "            y_pred[y_test.isin(top_places)],\n",
        "            labels=top_places,\n",
        "            normalize='true'\n",
        "        )\n",
        "\n",
        "        plt.figure(figsize=(15, 12))\n",
        "        sns.heatmap(\n",
        "            cm,\n",
        "            annot=True,\n",
        "            fmt='.2f',\n",
        "            xticklabels=top_places,\n",
        "            yticklabels=top_places,\n",
        "            cmap='Blues'\n",
        "        )\n",
        "        plt.title('Confusion Matrix for Top 15 Places')\n",
        "        plt.xticks(rotation=45, ha='right')\n",
        "        plt.tight_layout()\n",
        "        plt.savefig('place_confusion_matrix.png', dpi=300)\n",
        "        plt.close()\n",
        "\n",
        "    def save(self, path: str):\n",
        "        os.makedirs(os.path.dirname(path), exist_ok=True)\n",
        "        joblib.dump(self, path)\n",
        "        print(f\"Enhanced place model saved to {path}\")\n",
        "\n",
        "class EnhancedItemRecommender:\n",
        "    def __init__(self, user_history: Dict[str, List[Dict]], top_k: int = 5):\n",
        "        self.top_k = top_k\n",
        "        self.user_history = user_history\n",
        "        self.cycle_analyzer = PurchaseCycleAnalyzer()\n",
        "        self.model = CatBoostClassifier(\n",
        "            iterations=150,\n",
        "            depth=5,\n",
        "            learning_rate=0.05,\n",
        "            loss_function='MultiClass',\n",
        "            verbose=10,\n",
        "            task_type='CPU',\n",
        "            eval_metric='TotalF1:average=Macro',\n",
        "            early_stopping_rounds=50\n",
        "        )\n",
        "\n",
        "        self.preprocessor = ColumnTransformer([\n",
        "            ('customer', OneHotEncoder(handle_unknown='ignore', sparse_output=False, max_categories=7000), ['customerId']),\n",
        "            ('category', OneHotEncoder(handle_unknown='ignore', sparse_output=False), ['categoryName']),\n",
        "            ('time', TimeFeaturesTransformer(), ['hour', 'day_of_week', 'month']),\n",
        "            ('behavior', CustomerBehaviorTransformer(user_history=self.user_history), ['customerId', 'hour', 'categoryName']),\n",
        "            ('personal', PersonalItemFeatures(user_history=self.user_history), ['customerId', 'categoryName'])\n",
        "        ])\n",
        "\n",
        "    def train(self, df: pd.DataFrame):\n",
        "        self.cycle_analyzer.update_cycles(df)\n",
        "\n",
        "        df = self._filter_data(df)\n",
        "\n",
        "        X = df[['customerId', 'hour', 'day_of_week', 'month', 'categoryName']]\n",
        "        y = df['goodsName']\n",
        "\n",
        "        X_train, X_test, y_train, y_test = train_test_split(\n",
        "            X, y, test_size=0.2, random_state=42, stratify=y\n",
        "        )\n",
        "\n",
        "        print(\"\\nTraining Item Model...\")\n",
        "        self.model.fit(\n",
        "            self.preprocessor.fit_transform(X_train, y_train),\n",
        "            y_train,\n",
        "            eval_set=(self.preprocessor.transform(X_test), y_test),\n",
        "            plot=True\n",
        "        )\n",
        "\n",
        "        self._evaluate(X_test, y_test)\n",
        "\n",
        "    def _filter_data(self, df):\n",
        "\n",
        "        mask = ~df['goodsName'].str.contains('пакет', case=False, na=False)\n",
        "        df = df[mask]\n",
        "\n",
        "        mask = ~df['categoryName'].str.contains('пакет', case=False, na=False)\n",
        "        df = df[mask]\n",
        "\n",
        "        item_counts = df['goodsName'].value_counts()\n",
        "        valid_items = item_counts[item_counts >= 5].index\n",
        "        return df[df['goodsName'].isin(valid_items)]\n",
        "\n",
        "    def _evaluate(self, X_test, y_test):\n",
        "        print(\"\\nItem Model Evaluation:\")\n",
        "        X_test_processed = self.preprocessor.transform(X_test)\n",
        "        y_pred = self.model.predict(X_test_processed)\n",
        "        y_proba = self.model.predict_proba(X_test_processed)\n",
        "\n",
        "        print(\"\\nOverall Metrics:\")\n",
        "        print(f\"Accuracy: {accuracy_score(y_test, y_pred):.4f}\")\n",
        "        print(f\"Top-1 Accuracy: {top_k_accuracy_score(y_test, y_proba, k=1):.4f}\")\n",
        "        print(f\"Top-3 Accuracy: {top_k_accuracy_score(y_test, y_proba, k=3):.4f}\")\n",
        "        print(f\"Top-5 Accuracy: {top_k_accuracy_score(y_test, y_proba, k=5):.4f}\")\n",
        "\n",
        "        self._plot_confusion_matrix(y_test, y_pred)\n",
        "\n",
        "    def _plot_confusion_matrix(self, y_test, y_pred):\n",
        "        top_n = 10\n",
        "        top_classes = y_test.value_counts().nlargest(top_n).index\n",
        "        mask = y_test.isin(top_classes)\n",
        "\n",
        "        if sum(mask) == 0:\n",
        "            print(\"No samples available for confusion matrix\")\n",
        "            return\n",
        "\n",
        "        cm = confusion_matrix(\n",
        "            y_test[mask],\n",
        "            y_pred[mask],\n",
        "            labels=top_classes,\n",
        "            normalize='true'\n",
        "        )\n",
        "\n",
        "        plt.figure(figsize=(12, 10))\n",
        "        sns.heatmap(\n",
        "            cm,\n",
        "            annot=True,\n",
        "            fmt='.2f',\n",
        "            xticklabels=top_classes,\n",
        "            yticklabels=top_classes,\n",
        "            cmap='Blues'\n",
        "        )\n",
        "        plt.title(f'Confusion Matrix for Top {top_n} Items')\n",
        "        plt.xticks(rotation=45, ha='right')\n",
        "        plt.tight_layout()\n",
        "        plt.savefig('item_confusion_matrix.png', dpi=300)\n",
        "        plt.close()\n",
        "\n",
        "    def predict_top_items(self, X: pd.DataFrame, day_of_week: int) -> List[List[str]]:\n",
        "        X_processed = self.preprocessor.transform(X)\n",
        "        probs = self.model.predict_proba(X_processed)\n",
        "\n",
        "        for i, (item, category) in enumerate(zip(X['goodsName'], X['categoryName'])):\n",
        "            for j, class_name in enumerate(self.model.classes_):\n",
        "                weight = self.cycle_analyzer.get_cycle_weight(\n",
        "                    item=class_name,\n",
        "                    category=category,\n",
        "                    day_of_week=day_of_week\n",
        "                )\n",
        "                probs[i, j] *= weight\n",
        "\n",
        "        probs = probs / probs.sum(axis=1, keepdims=True)\n",
        "        top_indices = np.argsort(-probs, axis=1)[:, :self.top_k]\n",
        "        return [[str(self.model.classes_[i]) for i in row] for row in top_indices]\n",
        "\n",
        "    def save(self, path: str):\n",
        "        os.makedirs(os.path.dirname(path), exist_ok=True)\n",
        "        joblib.dump(self, path)\n",
        "        print(f\"Enhanced item model saved to {path}\")\n",
        "\n",
        "class PurchasePredictor:\n",
        "    def __init__(self, top_k_items: int = 5):\n",
        "        self.time_model = TimePredictor()\n",
        "        self.place_model = None\n",
        "        self.item_model = None\n",
        "        self.user_history = defaultdict(list)\n",
        "        self.general_stats = {\n",
        "            'top_items': [],\n",
        "            'common_place': \"\",\n",
        "            'common_hour': 12,\n",
        "            'common_hour_window': \"12:00-14:00\",\n",
        "            'total_users': 0,\n",
        "            'total_transactions': 0\n",
        "        }\n",
        "\n",
        "    def load_data(self, json_data: List[Dict]):\n",
        "        df = pd.DataFrame(json_data)\n",
        "\n",
        "        required_cols = ['customerId', 'timeCheck', 'pointName', 'goodsName', 'categoryName']\n",
        "        missing_cols = [col for col in required_cols if col not in df.columns]\n",
        "        if missing_cols:\n",
        "            raise ValueError(f\"Missing required columns: {missing_cols}\")\n",
        "\n",
        "        df['datetime'] = pd.to_datetime(df['timeCheck'])\n",
        "        df['hour'] = df['datetime'].dt.hour\n",
        "        df['day_of_week'] = df['datetime'].dt.dayofweek\n",
        "        df['month'] = df['datetime'].dt.month\n",
        "\n",
        "        self.general_stats.update({\n",
        "            'top_items': df['goodsName'].value_counts().head(10).index.tolist(),\n",
        "            'common_place': df['pointName'].mode()[0] if not df['pointName'].empty else \"unknown\",\n",
        "            'common_hour': df['hour'].mode()[0] if not df['hour'].empty else 12,\n",
        "            'common_hour_window': f\"{self.general_stats['common_hour']:02d}:00-{(self.general_stats['common_hour']+2)%24:02d}:00\",\n",
        "            'total_users': df['customerId'].nunique(),\n",
        "            'total_transactions': len(df)\n",
        "        })\n",
        "\n",
        "        for _, row in tqdm(df.iterrows(), total=len(df), desc=\"Loading data\"):\n",
        "            self.user_history[str(row['customerId'])].append({\n",
        "                'datetime': row['datetime'],\n",
        "                'item': row['goodsName'],\n",
        "                'place': row['pointName'],\n",
        "                'category': row['categoryName']\n",
        "            })\n",
        "\n",
        "        self.place_model = EnhancedPlacePredictor(self.user_history)\n",
        "        self.item_model = EnhancedItemRecommender(self.user_history, top_k=5)\n",
        "\n",
        "        return df\n",
        "\n",
        "    def train(self, df: pd.DataFrame):\n",
        "        print(\"\\nStarting model training...\")\n",
        "        print(f\"Dataset stats: {self.general_stats}\")\n",
        "\n",
        "        print(\"\\n=== Training Item Model ===\")\n",
        "        self.item_model.train(df)\n",
        "\n",
        "        print(\"\\n=== Training Time Model ===\")\n",
        "        self.time_model.train(df)\n",
        "\n",
        "        print(\"\\n=== Training Place Model ===\")\n",
        "        self.place_model.train(df)\n",
        "\n",
        "        print(\"\\nAll models trained successfully!\")\n",
        "\n",
        "    def predict_for_user(self, user_id: str, current_date: Optional[datetime] = None) -> Dict[str, Any]:\n",
        "        current_date = current_date or datetime.now()\n",
        "        user_id = str(user_id)\n",
        "\n",
        "        result = {\n",
        "            'customerId': user_id,\n",
        "            'predicted_time': self.general_stats['common_hour_window'],\n",
        "            'time_confidence': 0.5,\n",
        "            'predicted_place': self.general_stats['common_place'],\n",
        "            'place_confidence': 0.5,\n",
        "            'top_items': self.general_stats['top_items'][:self.item_model.top_k],\n",
        "            'items_confidence': [0.5] * self.item_model.top_k,\n",
        "            'model_version': 'enhanced-v1.0',\n",
        "            'generated_at': datetime.now().isoformat(),\n",
        "            'user_history_count': len(self.user_history.get(user_id, []))\n",
        "        }\n",
        "\n",
        "        try:\n",
        "\n",
        "            time_pred = self._predict_time(user_id, current_date)\n",
        "            result.update(time_pred)\n",
        "\n",
        "            place_pred = self._predict_place(user_id, current_date, result['predicted_hour'])\n",
        "            result.update(place_pred)\n",
        "\n",
        "            item_pred = self._predict_items(user_id, current_date,\n",
        "                                         result['predicted_hour'],\n",
        "                                         result['predicted_place'])\n",
        "            result.update(item_pred)\n",
        "\n",
        "        except Exception as e:\n",
        "            print(f\"\\nPrediction error for user {user_id}: {str(e)}\")\n",
        "            result['error'] = str(e)\n",
        "\n",
        "        return result\n",
        "\n",
        "    def _predict_time(self, user_id: str, current_date: datetime) -> Dict[str, Any]:\n",
        "        last_visits = sorted(\n",
        "            self.user_history.get(user_id, []),\n",
        "            key=lambda x: x['datetime'],\n",
        "            reverse=True\n",
        "        )[:3]\n",
        "\n",
        "        if not last_visits:\n",
        "            return {\n",
        "                'predicted_hour': self.general_stats['common_hour'],\n",
        "                'predicted_time': self.general_stats['common_hour_window'],\n",
        "                'time_confidence': 0.7\n",
        "            }\n",
        "\n",
        "        weighted_hour = sum(\n",
        "            visit['datetime'].hour * (0.6 ** i)\n",
        "            for i, visit in enumerate(last_visits)\n",
        "        )\n",
        "        sum_weights = sum(0.6 ** i for i in range(len(last_visits)))\n",
        "        avg_hour = round(weighted_hour / sum_weights)\n",
        "\n",
        "        time_input = pd.DataFrame([{\n",
        "            'customerId': user_id,\n",
        "            'hour': avg_hour,\n",
        "            'day_of_week': current_date.weekday(),\n",
        "            'month': current_date.month,\n",
        "            'pointName': last_visits[0]['place']\n",
        "        }])\n",
        "\n",
        "        predicted_hour = int(round(self.time_model.pipeline.predict(time_input)[0]))\n",
        "        predicted_hour = max(8, min(22, predicted_hour))\n",
        "\n",
        "        return {\n",
        "            'predicted_hour': predicted_hour,\n",
        "            'predicted_time': f\"{predicted_hour:02d}:00-{(predicted_hour+2)%24:02d}:00\",\n",
        "            'time_confidence': 1.0 - min(1.0, abs(self.time_model.pipeline.predict(time_input)[0] - predicted_hour))\n",
        "        }\n",
        "\n",
        "    def _predict_place(self, user_id: str, current_date: datetime, hour: int) -> Dict[str, Any]:\n",
        "        default_result = {\n",
        "            'predicted_place': self.general_stats['common_place'],\n",
        "            'place_confidence': 0.5\n",
        "        }\n",
        "\n",
        "        try:\n",
        "            place_input = pd.DataFrame([{\n",
        "                'customerId': user_id,\n",
        "                'hour': hour,\n",
        "                'day_of_week': current_date.weekday(),\n",
        "                'month': current_date.month,\n",
        "                'time_of_day': self._get_time_of_day(hour)\n",
        "            }])\n",
        "\n",
        "            if not hasattr(self.place_model, 'model') or not hasattr(self.place_model, 'preprocessor'):\n",
        "                print(f\"Place model not properly initialized for user {user_id}\")\n",
        "                return default_result\n",
        "\n",
        "            X_processed = self.place_model.preprocessor.transform(place_input)\n",
        "\n",
        "            if not hasattr(self.place_model.model, 'classes_'):\n",
        "                print(f\"Place model not trained for user {user_id}\")\n",
        "                return default_result\n",
        "\n",
        "            place = self.place_model.model.predict(X_processed)[0]\n",
        "            place_proba = np.max(self.place_model.model.predict_proba(X_processed))\n",
        "\n",
        "            return {\n",
        "                'predicted_place': str(place),\n",
        "                'place_confidence': float(place_proba)\n",
        "            }\n",
        "\n",
        "        except Exception as e:\n",
        "            print(f\"Place prediction error for user {user_id}: {str(e)}\")\n",
        "            return default_result\n",
        "\n",
        "    def predict_for_user(self, user_id: str, current_date: Optional[datetime] = None) -> Dict[str, Any]:\n",
        "        current_date = current_date or datetime.now()\n",
        "        user_id = str(user_id)\n",
        "\n",
        "        result = {\n",
        "            'customerId': user_id,\n",
        "            'predicted_time': self.general_stats['common_hour_window'],\n",
        "            'time_confidence': 0.5,\n",
        "            'predicted_place': self.general_stats['common_place'],\n",
        "            'place_confidence': 0.5,\n",
        "            'top_items': self.general_stats['top_items'][:self.item_model.top_k],\n",
        "            'items_confidence': [0.5] * self.item_model.top_k,\n",
        "            'model_version': 'enhanced-v1.0',\n",
        "            'generated_at': datetime.now().isoformat(),\n",
        "            'user_history_count': len(self.user_history.get(user_id, []))\n",
        "        }\n",
        "\n",
        "        try:\n",
        "            time_pred = self._predict_time(user_id, current_date)\n",
        "            result.update(time_pred)\n",
        "\n",
        "            place_pred = self._predict_place(user_id, current_date, result['predicted_hour'])\n",
        "            result.update(place_pred)\n",
        "\n",
        "            if result['user_history_count'] > 0:\n",
        "                item_pred = self._predict_items(user_id, current_date,\n",
        "                                            result['predicted_hour'],\n",
        "                                            result['predicted_place'])\n",
        "                result.update(item_pred)\n",
        "\n",
        "        except Exception as e:\n",
        "            print(f\"\\nPrediction error for user {user_id}: {str(e)}\")\n",
        "            result['error'] = str(e)\n",
        "\n",
        "        return result\n",
        "\n",
        "    def _predict_items(self, user_id: str, current_date: datetime, hour: int, place: str) -> Dict[str, Any]:\n",
        "        user_history = self.user_history.get(user_id, [])\n",
        "        if not user_history:\n",
        "            return {\n",
        "                'top_items': self.general_stats['top_items'][:self.item_model.top_k],\n",
        "                'items_confidence': [0.5] * self.item_model.top_k\n",
        "            }\n",
        "\n",
        "        categories = []\n",
        "        for item in user_history:\n",
        "            try:\n",
        "                if 'category' in item:\n",
        "                    categories.append(item['category'])\n",
        "                elif 'categoryName' in item:\n",
        "                    categories.append(item['categoryName'])\n",
        "            except:\n",
        "                continue\n",
        "\n",
        "        fav_category = max(set(categories), key=categories.count) if categories else 'unknown'\n",
        "\n",
        "        item_input = pd.DataFrame([{\n",
        "            'customerId': user_id,\n",
        "            'hour': hour,\n",
        "            'day_of_week': current_date.weekday(),\n",
        "            'month': current_date.month,\n",
        "            'categoryName': fav_category,\n",
        "            'goodsName': 'unknown'\n",
        "        }])\n",
        "\n",
        "        try:\n",
        "            top_items = self.item_model.predict_top_items(\n",
        "                item_input,\n",
        "                current_date.weekday()\n",
        "            )[0]\n",
        "\n",
        "            X_processed = self.item_model.preprocessor.transform(item_input)\n",
        "            all_probs = self.item_model.model.predict_proba(X_processed)[0]\n",
        "\n",
        "            item_indices = [\n",
        "                np.where(self.item_model.model.classes_ == item)[0][0]\n",
        "                for item in top_items\n",
        "                if item in self.item_model.model.classes_\n",
        "            ]\n",
        "            item_confs = [float(all_probs[idx]) for idx in item_indices[:self.item_model.top_k]]\n",
        "\n",
        "            return {\n",
        "                'top_items': top_items[:self.item_model.top_k],\n",
        "                'items_confidence': item_confs\n",
        "            }\n",
        "        except Exception as e:\n",
        "            print(f\"Item prediction error for user {user_id}: {str(e)}\")\n",
        "            return {\n",
        "                'top_items': self.general_stats['top_items'][:self.item_model.top_k],\n",
        "                'items_confidence': [0.5] * self.item_model.top_k\n",
        "            }\n",
        "\n",
        "    def _get_time_of_day(self, hour: int) -> str:\n",
        "        if 0 <= hour < 6:\n",
        "            return 'night'\n",
        "        elif 6 <= hour < 12:\n",
        "            return 'morning'\n",
        "        elif 12 <= hour < 18:\n",
        "            return 'afternoon'\n",
        "        else:\n",
        "            return 'evening'\n",
        "\n",
        "    def save_models(self, model_dir: str = \"models\"):\n",
        "        os.makedirs(model_dir, exist_ok=True)\n",
        "\n",
        "        print(\"\\nSaving models...\")\n",
        "        self.time_model.save(f\"{model_dir}/time_model.joblib\")\n",
        "        self.place_model.save(f\"{model_dir}/place_model.joblib\")\n",
        "        self.item_model.save(f\"{model_dir}/item_model.joblib\")\n",
        "\n",
        "        print(f\"\\nAll models saved to {model_dir} directory\")\n",
        "\n",
        "    @classmethod\n",
        "    def load_models(cls, model_dir: str = \"models\"):\n",
        "        predictor = cls()\n",
        "\n",
        "        print(\"\\nLoading models...\")\n",
        "        predictor.time_model = joblib.load(f\"{model_dir}/time_model.joblib\")\n",
        "        predictor.place_model = joblib.load(f\"{model_dir}/place_model.joblib\")\n",
        "        predictor.item_model = joblib.load(f\"{model_dir}/item_model.joblib\")\n",
        "\n",
        "        print(f\"\\nAll models loaded from {model_dir} directory\")\n",
        "        return predictor\n",
        "\n",
        "def generate_reports(predictions: List[Dict], output_dir: str):\n",
        "    os.makedirs(output_dir, exist_ok=True)\n",
        "\n",
        "    with open(f\"{output_dir}/predictions.json\", 'w', encoding='utf-8') as f:\n",
        "        json.dump(predictions, f, ensure_ascii=False, indent=2)\n",
        "\n",
        "    df_pred = pd.DataFrame(predictions)\n",
        "\n",
        "    try:\n",
        "        item_counts = pd.Series([\n",
        "            item for sublist in df_pred['top_items']\n",
        "            for item in sublist\n",
        "        ]).value_counts()\n",
        "\n",
        "        plt.figure(figsize=(15, 8))\n",
        "        item_counts.head(20).plot(kind='bar')\n",
        "        plt.title(\"Top 20 Recommended Items\")\n",
        "        plt.ylabel(\"Recommendation Count\")\n",
        "        plt.xticks(rotation=45, ha='right')\n",
        "        plt.tight_layout()\n",
        "        plt.savefig(f\"{output_dir}/top_recommended_items.png\", dpi=300)\n",
        "        plt.close()\n",
        "    except Exception as e:\n",
        "        print(f\"Error generating items plot: {str(e)}\")\n",
        "\n",
        "    try:\n",
        "        plt.figure(figsize=(12, 6))\n",
        "        for metric in ['time_confidence', 'place_confidence']:\n",
        "            if metric in df_pred.columns:\n",
        "                sns.kdeplot(df_pred[metric], label=metric.replace('_', ' ').title())\n",
        "\n",
        "        if 'items_confidence' in df_pred.columns:\n",
        "            avg_item_conf = df_pred['items_confidence'].apply(\n",
        "                lambda x: np.mean(x) if isinstance(x, list) else x\n",
        "            )\n",
        "            sns.kdeplot(avg_item_conf, label='Avg Items Confidence')\n",
        "\n",
        "        plt.title(\"Confidence Scores Distribution\")\n",
        "        plt.xlabel(\"Confidence Score\")\n",
        "        plt.legend()\n",
        "        plt.savefig(f\"{output_dir}/confidence_distribution.png\", dpi=300)\n",
        "        plt.close()\n",
        "    except Exception as e:\n",
        "        print(f\"Error generating confidence plot: {str(e)}\")\n",
        "\n",
        "    metrics = {\n",
        "        'statistics': {\n",
        "            'total_users': len(predictions),\n",
        "            'users_with_history': sum(\n",
        "                1 for p in predictions\n",
        "                if p['user_history_count'] > 0\n",
        "            ),\n",
        "            'avg_history_length': np.mean([\n",
        "                p['user_history_count']\n",
        "                for p in predictions\n",
        "            ]),\n",
        "            'generated_at': datetime.now().isoformat()\n",
        "        },\n",
        "        'confidence_metrics': {}\n",
        "    }\n",
        "\n",
        "    for metric in ['time_confidence', 'place_confidence']:\n",
        "        if metric in df_pred.columns:\n",
        "            metrics['confidence_metrics'][metric] = {\n",
        "                'mean': float(df_pred[metric].mean()),\n",
        "                'median': float(df_pred[metric].median()),\n",
        "                'std': float(df_pred[metric].std())\n",
        "            }\n",
        "\n",
        "    if 'items_confidence' in df_pred.columns:\n",
        "        avg_item_conf = df_pred['items_confidence'].apply(\n",
        "            lambda x: np.mean(x) if isinstance(x, list) else x\n",
        "        )\n",
        "        metrics['confidence_metrics']['items_confidence'] = {\n",
        "            'mean': float(avg_item_conf.mean()),\n",
        "            'median': float(avg_item_conf.median()),\n",
        "            'std': float(avg_item_conf.std())\n",
        "        }\n",
        "\n",
        "    with open(f\"{output_dir}/metrics.json\", 'w') as f:\n",
        "        json.dump(metrics, f, indent=2)\n",
        "\n",
        "    print(f\"\\nReports generated in {output_dir}\")\n",
        "\n",
        "def main(input_path: str = \"ai.json\",\n",
        "         output_dir: str = \"output\",\n",
        "         model_dir: str = \"models\",\n",
        "         ):\n",
        "\n",
        "    print(\"Loading data...\")\n",
        "    with open(input_path, 'r', encoding='utf-8') as f:\n",
        "        data = json.load(f)\n",
        "\n",
        "    print(\"\\nInitializing predictor...\")\n",
        "    predictor = PurchasePredictor(top_k_items=5)\n",
        "    df = predictor.load_data(data)\n",
        "\n",
        "    print(f\"\\nData Statistics:\")\n",
        "    print(f\"- Total transactions: {len(df):,}\")\n",
        "    print(f\"- Unique users: {df['customerId'].nunique():,}\")\n",
        "    print(f\"- Unique places: {df['pointName'].nunique():,}\")\n",
        "    print(f\"- Unique items: {df['goodsName'].nunique():,}\")\n",
        "    print(f\"- Time range: {df['datetime'].min()} to {df['datetime'].max()}\")\n",
        "\n",
        "    predictor.train(df)\n",
        "\n",
        "    predictor.save_models(model_dir)\n",
        "\n",
        "    print(\"\\nGenerating predictions...\")\n",
        "\n",
        "    user_ids = df['customerId'].astype(str).unique()\n",
        "    predictions = []\n",
        "\n",
        "    for uid in tqdm(user_ids, desc=\"Predicting\"):\n",
        "        try:\n",
        "            pred = predictor.predict_for_user(uid)\n",
        "            predictions.append(pred)\n",
        "        except Exception as e:\n",
        "            print(f\"\\nError predicting for user {uid}: {str(e)}\")\n",
        "            continue\n",
        "\n",
        "    if predictions:\n",
        "        generate_reports(predictions, output_dir)\n",
        "\n",
        "        print(\"\\nSample predictions:\")\n",
        "        for pred in predictions[:3]:\n",
        "            print(f\"\\nCustomer {pred['customerId']}:\")\n",
        "            print(f\"- Time: {pred['predicted_time']} (confidence: {pred['time_confidence']:.2f})\")\n",
        "            print(f\"- Place: {pred['predicted_place']} (confidence: {pred['place_confidence']:.2f})\")\n",
        "            print(\"- Top items:\")\n",
        "            for item, conf in zip(pred['top_items'], pred['items_confidence']):\n",
        "                print(f\"  • {item} (confidence: {conf:.2f})\")\n",
        "            print(f\"- History: {pred['user_history_count']} past purchases\")\n",
        "    else:\n",
        "        print(\"\\nNo predictions generated due to errors\")\n",
        "\n",
        "    return predictions\n",
        "\n",
        "\n",
        "\n",
        "if __name__ == \"__main__\":\n",
        "    predictions = main(\n",
        "        input_path=\"ai.json\",\n",
        "        output_dir=\"output\",\n",
        "        model_dir=\"models\"\n",
        "    )"
      ]
    },
    {
      "cell_type": "code",
      "source": [
        "import json\n",
        "import pandas as pd\n",
        "import numpy as np\n",
        "from datetime import datetime\n",
        "from collections import defaultdict\n",
        "from tqdm import tqdm\n",
        "import os\n",
        "from typing import Dict, List, Any\n",
        "\n",
        "class EnhancedJSONEncoder(json.JSONEncoder):\n",
        "    def default(self, obj):\n",
        "        if isinstance(obj, (pd.Timestamp, datetime)):\n",
        "            return obj.isoformat()\n",
        "        elif isinstance(obj, np.integer):\n",
        "            return int(obj)\n",
        "        elif isinstance(obj, np.floating):\n",
        "            return float(obj)\n",
        "        elif isinstance(obj, np.ndarray):\n",
        "            return obj.tolist()\n",
        "        return super().default(obj)\n",
        "\n",
        "class PredictionComparator:\n",
        "    def __init__(self):\n",
        "        self.comparison_results = []\n",
        "        self.summary_stats = {\n",
        "            'time': defaultdict(int),\n",
        "            'place': defaultdict(int),\n",
        "            'items': defaultdict(int),\n",
        "            'users': defaultdict(int)\n",
        "        }\n",
        "        self.user_comparisons = []\n",
        "\n",
        "    def _clean_data(self, data: Any) -> Any:\n",
        "        if isinstance(data, (pd.Timestamp, datetime)):\n",
        "            return data.isoformat()\n",
        "        elif isinstance(data, dict):\n",
        "            return {k: self._clean_data(v) for k, v in data.items()}\n",
        "        elif isinstance(data, (list, tuple)):\n",
        "            return [self._clean_data(item) for item in data]\n",
        "        elif isinstance(data, (np.integer, np.floating)):\n",
        "            return int(data) if isinstance(data, np.integer) else float(data)\n",
        "        elif isinstance(data, np.ndarray):\n",
        "            return data.tolist()\n",
        "        return data\n",
        "\n",
        "    def load_data(self, predictions_path: str, actual_path: str):\n",
        "        try:\n",
        "            with open(predictions_path, 'r', encoding='utf-8') as f:\n",
        "                self.predictions = json.load(f)\n",
        "\n",
        "            if actual_path.endswith('.json'):\n",
        "                with open(actual_path, 'r', encoding='utf-8') as f:\n",
        "                    actual_data = json.load(f)\n",
        "            elif actual_path.endswith('.parquet'):\n",
        "                actual_data = pd.read_parquet(actual_path).to_dict('records')\n",
        "\n",
        "            self.actual_df = pd.DataFrame(actual_data)\n",
        "            self.actual_df['datetime'] = pd.to_datetime(self.actual_df['timeCheck'])\n",
        "            self.actual_df['hour'] = self.actual_df['datetime'].dt.hour\n",
        "            self.actual_df['customerId'] = self.actual_df['customerId'].astype(str)\n",
        "\n",
        "            self.predictions = self._clean_data(self.predictions)\n",
        "            self.actual_data = self._clean_data(actual_data)\n",
        "\n",
        "            self.pred_dict = {p['customerId']: p for p in self.predictions}\n",
        "            self.actual_dict = defaultdict(list)\n",
        "\n",
        "            for _, row in self.actual_df.iterrows():\n",
        "                row_dict = row.to_dict()\n",
        "                row_dict = self._clean_data(row_dict)\n",
        "                self.actual_dict[row['customerId']].append(row_dict)\n",
        "\n",
        "        except Exception as e:\n",
        "            raise ValueError(f\"Error loading data: {str(e)}\")\n",
        "\n",
        "    def save_results(self, output_dir: str = \"comparison_results\"):\n",
        "        os.makedirs(output_dir, exist_ok=True)\n",
        "\n",
        "        results = {\n",
        "            'metadata': {\n",
        "                'generated_at': datetime.now().isoformat(),\n",
        "                'num_users': len(self.user_comparisons),\n",
        "                'num_visits': len(self.comparison_results)\n",
        "            },\n",
        "            'summary_stats': self.summary_stats,\n",
        "            'user_comparisons_sample': self.user_comparisons[:100]\n",
        "        }\n",
        "\n",
        "        try:\n",
        "            with open(f\"{output_dir}/results.json\", 'w', encoding='utf-8') as f:\n",
        "                json.dump(results, f, indent=2, cls=EnhancedJSONEncoder, ensure_ascii=False)\n",
        "        except Exception as e:\n",
        "            print(f\"Failed to save results: {str(e)}\")\n",
        "            with open(f\"{output_dir}/results_fallback.json\", 'w', encoding='utf-8') as f:\n",
        "                json.dump({\n",
        "                    'metadata': results['metadata'],\n",
        "                    'summary_stats': results['summary_stats']\n",
        "                }, f, indent=2, ensure_ascii=False)\n",
        "\n",
        "def compare_predictions(predictions_file: str, actual_file: str, output_dir: str = \"comparison_results\"):\n",
        "    try:\n",
        "        print(f\"Starting comparison at {datetime.now()}\")\n",
        "        comparator = PredictionComparator()\n",
        "\n",
        "        print(\"Loading data...\")\n",
        "        comparator.load_data(predictions_file, actual_file)\n",
        "\n",
        "        if not hasattr(comparator, 'pred_dict') or not hasattr(comparator, 'actual_dict'):\n",
        "            raise ValueError(\"Data loading failed - no dictionaries created\")\n",
        "\n",
        "        print(\"Comparing data...\")\n",
        "        common_users = set(comparator.pred_dict.keys()) & set(comparator.actual_dict.keys())\n",
        "        print(f\"Found {len(common_users)} common users\")\n",
        "\n",
        "        if not common_users:\n",
        "            raise ValueError(\"No common users found between predictions and actual data\")\n",
        "\n",
        "        print(\"Saving results...\")\n",
        "        comparator.save_results(output_dir)\n",
        "\n",
        "        print(f\"Successfully completed at {datetime.now()}\")\n",
        "        return True\n",
        "\n",
        "    except Exception as e:\n",
        "        print(f\"\\nError during comparison: {str(e)}\")\n",
        "        return False\n",
        "\n",
        "if __name__ == \"__main__\":\n",
        "    success = compare_predictions(\n",
        "        predictions_file=\"/content/output/predictions.json\",\n",
        "        actual_file=\"/content/ai020725.json\",\n",
        "        output_dir=\"comparison_results\"\n",
        "    )\n",
        "\n",
        ""
      ],
      "metadata": {
        "colab": {
          "base_uri": "https://localhost:8080/"
        },
        "id": "1a2h8gNjJF7S",
        "outputId": "f37251d9-8568-4053-da98-fb5df2d3b995"
      },
      "execution_count": 4,
      "outputs": [
        {
          "output_type": "stream",
          "name": "stdout",
          "text": [
            "Starting comparison at 2025-07-10 03:46:10.090367\n",
            "Loading data...\n",
            "Comparing data...\n",
            "Found 2614 common users\n",
            "Saving results...\n",
            "Successfully completed at 2025-07-10 03:46:14.620967\n"
          ]
        }
      ]
    },
    {
      "cell_type": "code",
      "source": [
        "import json\n",
        "import pandas as pd\n",
        "import numpy as np\n",
        "from datetime import datetime\n",
        "from collections import defaultdict\n",
        "from tqdm import tqdm\n",
        "from sklearn.metrics import accuracy_score, precision_score, recall_score, f1_score\n",
        "import os\n",
        "from typing import Dict, List, Any, Tuple\n",
        "\n",
        "class PredictionComparator:\n",
        "    def __init__(self):\n",
        "        self.comparison_results = []\n",
        "        self.metrics = {\n",
        "            'time': {'correct': 0, 'total': 0, 'accuracy': 0.0},\n",
        "            'place': {'correct': 0, 'total': 0, 'accuracy': 0.0},\n",
        "            'items': {'correct': 0, 'total': 0, 'precision@3': 0.0}\n",
        "        }\n",
        "        self.user_stats = []\n",
        "\n",
        "    def _clean_data(self, data: Any) -> Any:\n",
        "        if isinstance(data, (pd.Timestamp, datetime)):\n",
        "            return data.isoformat()\n",
        "        elif isinstance(data, (np.integer, np.floating)):\n",
        "            return int(data) if isinstance(data, np.integer) else float(data)\n",
        "        elif isinstance(data, np.ndarray):\n",
        "            return data.tolist()\n",
        "        elif isinstance(data, dict):\n",
        "            return {k: self._clean_data(v) for k, v in data.items()}\n",
        "        elif isinstance(data, (list, tuple)):\n",
        "            return [self._clean_data(item) for item in data]\n",
        "        return data\n",
        "\n",
        "    def load_data(self, predictions_path: str, actual_path: str):\n",
        "        try:\n",
        "            with open(predictions_path, 'r', encoding='utf-8') as f:\n",
        "                self.predictions = json.load(f)\n",
        "\n",
        "            if actual_path.endswith('.json'):\n",
        "                with open(actual_path, 'r', encoding='utf-8') as f:\n",
        "                    actual_data = json.load(f)\n",
        "            elif actual_path.endswith('.parquet'):\n",
        "                actual_data = pd.read_parquet(actual_path)\n",
        "            else:\n",
        "                actual_data = pd.read_csv(actual_path)\n",
        "\n",
        "            self.actual_df = pd.DataFrame(actual_data)\n",
        "            self.actual_df['datetime'] = pd.to_datetime(self.actual_df['timeCheck'])\n",
        "            self.actual_df['hour'] = self.actual_df['datetime'].dt.hour\n",
        "            self.actual_df['customerId'] = self.actual_df['customerId'].astype(str)\n",
        "\n",
        "            self.pred_dict = {p['customerId']: p for p in self.predictions}\n",
        "            self.actual_dict = defaultdict(list)\n",
        "\n",
        "            for _, row in self.actual_df.iterrows():\n",
        "                self.actual_dict[row['customerId']].append(row.to_dict())\n",
        "\n",
        "            print(f\"Loaded {len(self.predictions)} predictions and {len(self.actual_df)} actual records\")\n",
        "\n",
        "        except Exception as e:\n",
        "            raise ValueError(f\"Data loading error: {str(e)}\")\n",
        "\n",
        "    def _compare_time(self, pred: Dict, actual: Dict) -> bool:\n",
        "        pred_hour = pred.get('predicted_hour', -1)\n",
        "        actual_hour = actual['datetime'].hour\n",
        "\n",
        "        if pred_hour == -1:\n",
        "            return False\n",
        "\n",
        "        is_correct = abs(pred_hour - actual_hour) <= 1\n",
        "        self.metrics['time']['correct'] += int(is_correct)\n",
        "        self.metrics['time']['total'] += 1\n",
        "\n",
        "        return is_correct\n",
        "\n",
        "    def _compare_place(self, pred: Dict, actual: Dict) -> bool:\n",
        "        pred_place = pred.get('predicted_place', '')\n",
        "        actual_place = actual.get('pointName', '')\n",
        "\n",
        "        is_correct = pred_place == actual_place\n",
        "        self.metrics['place']['correct'] += int(is_correct)\n",
        "        self.metrics['place']['total'] += 1\n",
        "\n",
        "        return is_correct\n",
        "\n",
        "    def _compare_items(self, pred: Dict, actual: Dict) -> bool:\n",
        "        pred_items = pred.get('top_items', [])\n",
        "        actual_item = actual.get('goodsName', '')\n",
        "\n",
        "        is_correct = actual_item in pred_items[:3]\n",
        "        self.metrics['items']['correct'] += int(is_correct)\n",
        "        self.metrics['items']['total'] += 1\n",
        "\n",
        "        return is_correct\n",
        "\n",
        "    def compare_all(self):\n",
        "        common_users = set(self.pred_dict.keys()) & set(self.actual_dict.keys())\n",
        "        print(f\"Found {len(common_users)} common users for comparison\")\n",
        "\n",
        "        for user_id in tqdm(common_users, desc=\"Comparing users\"):\n",
        "            pred = self.pred_dict[user_id]\n",
        "            actual_visits = self.actual_dict[user_id]\n",
        "\n",
        "            if not actual_visits:\n",
        "                continue\n",
        "\n",
        "            last_visit = actual_visits[-1]\n",
        "\n",
        "            time_correct = self._compare_time(pred, last_visit)\n",
        "            place_correct = self._compare_place(pred, last_visit)\n",
        "            items_correct = self._compare_items(pred, last_visit)\n",
        "\n",
        "            self.user_stats.append({\n",
        "                'user_id': user_id,\n",
        "                'time_correct': time_correct,\n",
        "                'place_correct': place_correct,\n",
        "                'items_correct': items_correct,\n",
        "                'actual_time': last_visit['datetime'].hour,\n",
        "                'predicted_time': pred.get('predicted_hour', None),\n",
        "                'actual_place': last_visit.get('pointName', ''),\n",
        "                'predicted_place': pred.get('predicted_place', ''),\n",
        "                'actual_item': last_visit.get('goodsName', ''),\n",
        "                'predicted_items': pred.get('top_items', [])\n",
        "            })\n",
        "\n",
        "    def calculate_metrics(self):\n",
        "\n",
        "        if self.metrics['time']['total'] > 0:\n",
        "            self.metrics['time']['accuracy'] = round(\n",
        "                self.metrics['time']['correct'] / self.metrics['time']['total'], 3)\n",
        "\n",
        "        if self.metrics['place']['total'] > 0:\n",
        "            self.metrics['place']['accuracy'] = round(\n",
        "                self.metrics['place']['correct'] / self.metrics['place']['total'], 3)\n",
        "\n",
        "        if self.metrics['items']['total'] > 0:\n",
        "            self.metrics['items']['precision@3'] = round(\n",
        "                self.metrics['items']['correct'] / self.metrics['items']['total'], 3)\n",
        "\n",
        "    def print_summary(self):\n",
        "        \"\"\"Вывод статистики в консоль\"\"\"\n",
        "        print(\"\\n=== Comparison Summary ===\")\n",
        "        print(f\"Total users compared: {len(self.user_stats)}\")\n",
        "\n",
        "        print(\"\\nTime Prediction:\")\n",
        "        print(f\"Accuracy (±1 hour): {self.metrics['time']['accuracy']} \"\n",
        "              f\"({self.metrics['time']['correct']}/{self.metrics['time']['total']})\")\n",
        "\n",
        "        print(\"\\nPlace Prediction:\")\n",
        "        print(f\"Accuracy: {self.metrics['place']['accuracy']} \"\n",
        "              f\"({self.metrics['place']['correct']}/{self.metrics['place']['total']})\")\n",
        "\n",
        "        print(\"\\nItem Recommendations:\")\n",
        "        print(f\"Precision@3: {self.metrics['items']['precision@3']} \"\n",
        "              f\"({self.metrics['items']['correct']}/{self.metrics['items']['total']})\")\n",
        "\n",
        "        success_example = next((u for u in self.user_stats if u['time_correct'] and u['place_correct'] and u['items_correct']), None)\n",
        "        fail_example = next((u for u in self.user_stats if not (u['time_correct'] and u['place_correct'] and u['items_correct'])), None)\n",
        "\n",
        "        if success_example:\n",
        "            print(\"\\nSuccessful Prediction Example:\")\n",
        "            print(f\"User: {success_example['user_id']}\")\n",
        "            print(f\"Time: Predicted {success_example['predicted_time']}, Actual {success_example['actual_time']}\")\n",
        "            print(f\"Place: Predicted '{success_example['predicted_place']}', Actual '{success_example['actual_place']}'\")\n",
        "            print(f\"Item: Actual '{success_example['actual_item']}' in top-3: {success_example['actual_item'] in success_example['predicted_items'][:3]}\")\n",
        "\n",
        "        if fail_example:\n",
        "            print(\"\\nFailed Prediction Example:\")\n",
        "            print(f\"User: {fail_example['user_id']}\")\n",
        "            print(f\"Time: Predicted {fail_example['predicted_time']}, Actual {fail_example['actual_time']}\")\n",
        "            print(f\"Place: Predicted '{fail_example['predicted_place']}', Actual '{fail_example['actual_place']}'\")\n",
        "            print(f\"Item: Actual '{fail_example['actual_item']}' in top-3: {fail_example['actual_item'] in fail_example['predicted_items'][:3]}\")\n",
        "\n",
        "    def save_results(self, output_dir: str):\n",
        "        os.makedirs(output_dir, exist_ok=True)\n",
        "\n",
        "        result = {\n",
        "            'metadata': {\n",
        "                'generated_at': datetime.now().isoformat(),\n",
        "                'total_users': len(self.user_stats),\n",
        "                'time_window_used': '±1 hour'\n",
        "            },\n",
        "            'metrics': self.metrics,\n",
        "            'user_stats_sample': self.user_stats[:1000],  # Сохраняем выборку\n",
        "            'comparison_summary': {\n",
        "                'perfect_predictions': sum(\n",
        "                    1 for u in self.user_stats\n",
        "                    if u['time_correct'] and u['place_correct'] and u['items_correct']\n",
        "                ),\n",
        "                'failed_predictions': sum(\n",
        "                    1 for u in self.user_stats\n",
        "                    if not (u['time_correct'] or u['place_correct'] or u['items_correct'])\n",
        "                )\n",
        "            }\n",
        "        }\n",
        "\n",
        "        with open(f\"{output_dir}/comparison_results.json\", 'w', encoding='utf-8') as f:\n",
        "            json.dump(result, f, indent=2, ensure_ascii=False, cls=EnhancedJSONEncoder)\n",
        "\n",
        "        print(f\"\\nFull results saved to {output_dir}/comparison_results.json\")\n",
        "\n",
        "def run_comparison(predictions_path: str, actual_path: str, output_dir: str):\n",
        "    print(\"Starting prediction comparison...\")\n",
        "    comparator = PredictionComparator()\n",
        "\n",
        "    try:\n",
        "        print(\"Loading data...\")\n",
        "        comparator.load_data(predictions_path, actual_path)\n",
        "\n",
        "        print(\"Running comparisons...\")\n",
        "        comparator.compare_all()\n",
        "\n",
        "        comparator.calculate_metrics()\n",
        "\n",
        "        comparator.print_summary()\n",
        "\n",
        "        comparator.save_results(output_dir)\n",
        "\n",
        "        print(\"\\nComparison completed successfully!\")\n",
        "        return True\n",
        "    except Exception as e:\n",
        "        print(f\"\\nError during comparison: {str(e)}\")\n",
        "        return False\n",
        "\n",
        "if __name__ == \"__main__\":\n",
        "\n",
        "\n",
        "    predictions_file = \"/content/output/predictions.json\"\n",
        "    actual_file = \"/content/ai020725.json\"\n",
        "    output_dir = \"/content/comparison_results\"\n",
        "\n",
        "    run_comparison(\n",
        "        predictions_path=predictions_file,\n",
        "        actual_path=actual_file,\n",
        "        output_dir=output_dir\n",
        "    )"
      ],
      "metadata": {
        "colab": {
          "base_uri": "https://localhost:8080/"
        },
        "id": "gGsvNU4IdECb",
        "outputId": "c0982ec9-5c70-47f7-a4ff-1c201e9891e7"
      },
      "execution_count": 11,
      "outputs": [
        {
          "output_type": "stream",
          "name": "stdout",
          "text": [
            "Starting prediction comparison...\n",
            "Loading data...\n",
            "Loaded 6094 predictions and 50000 actual records\n",
            "Running comparisons...\n",
            "Found 2614 common users for comparison\n"
          ]
        },
        {
          "output_type": "stream",
          "name": "stderr",
          "text": [
            "Comparing users: 100%|██████████| 2614/2614 [00:00<00:00, 166579.21it/s]"
          ]
        },
        {
          "output_type": "stream",
          "name": "stdout",
          "text": [
            "\n",
            "=== Comparison Summary ===\n",
            "Total users compared: 2614\n",
            "\n",
            "Time Prediction:\n",
            "Accuracy (±1 hour): 0.453 (1185/2614)\n",
            "\n",
            "Place Prediction:\n",
            "Accuracy: 0.0 (0/2614)\n",
            "\n",
            "Item Recommendations:\n",
            "Precision@3: 0.076 (198/2614)\n",
            "\n",
            "Failed Prediction Example:\n",
            "User: 1319037\n",
            "Time: Predicted 14, Actual 18\n",
            "Place: Predicted '['Ангарск 6, 86 кв-л, д. 40, пом. 57']', Actual 'Улан-Удэ 4, ул.Смолина, д. 54'\n",
            "Item: Actual 'Пиво  \"Крушовице  Velvet\"  светлое  5%  жб  0,43л  (24шт)' in top-3: False\n",
            "\n",
            "Full results saved to /content/comparison_results/comparison_results.json\n",
            "\n",
            "Comparison completed successfully!\n"
          ]
        },
        {
          "output_type": "stream",
          "name": "stderr",
          "text": [
            "\n"
          ]
        }
      ]
    }
  ],
  "metadata": {
    "colab": {
      "provenance": [],
      "mount_file_id": "1MqESltQkL78Ix2nf2sW14jlx766nT-DE",
      "authorship_tag": "ABX9TyNiPNNHnEinOUlgvyRDfBlg",
      "include_colab_link": true
    },
    "kernelspec": {
      "display_name": "Python 3",
      "name": "python3"
    },
    "language_info": {
      "name": "python"
    },
    "widgets": {
      "application/vnd.jupyter.widget-state+json": {
        "867ba9683d104da5a74e0c469bea4a07": {
          "model_module": "catboost-widget",
          "model_name": "CatboostWidgetModel",
          "model_module_version": "^1.0.0",
          "state": {
            "_dom_classes": [],
            "_model_module": "catboost-widget",
            "_model_module_version": "^1.0.0",
            "_model_name": "CatboostWidgetModel",
            "_view_count": null,
            "_view_module": "catboost-widget",
            "_view_module_version": "^1.0.0",
            "_view_name": "CatboostWidgetView",
            "data": {
              "catboost_info": {
                "path": "catboost_info",
                "name": "catboost_info",
                "content": {
                  "passed_iterations": 149,
                  "total_iterations": 150,
                  "data": {
                    "iterations": [
                      {
                        "learn": [
                          0.004072569896,
                          5.405614319
                        ],
                        "iteration": 0,
                        "passed_time": 6.532799703,
                        "remaining_time": 973.3871557,
                        "test": [
                          0.004057306488,
                          5.403417669
                        ]
                      },
                      {
                        "learn": [
                          0.007839096499,
                          5.195486628
                        ],
                        "iteration": 1,
                        "passed_time": 13.76023009,
                        "remaining_time": 1018.257027,
                        "test": [
                          0.007823875089,
                          5.19266209
                        ]
                      },
                      {
                        "learn": [
                          0.007894323913,
                          5.011806813
                        ],
                        "iteration": 2,
                        "passed_time": 19.99212631,
                        "remaining_time": 979.6141892,
                        "test": [
                          0.007823924906,
                          5.009573121
                        ]
                      },
                      {
                        "learn": [
                          0.01075558248,
                          4.877307124
                        ],
                        "iteration": 3,
                        "passed_time": 28.27786137,
                        "remaining_time": 1032.14194,
                        "test": [
                          0.01064767395,
                          4.875029065
                        ]
                      },
                      {
                        "learn": [
                          0.01230895215,
                          4.718806377
                        ],
                        "iteration": 4,
                        "passed_time": 34.6121129,
                        "remaining_time": 1003.751274,
                        "test": [
                          0.01220310485,
                          4.715775453
                        ]
                      },
                      {
                        "learn": [
                          0.01233375467,
                          4.634788902
                        ],
                        "iteration": 5,
                        "passed_time": 42.08187054,
                        "remaining_time": 1009.964893,
                        "test": [
                          0.01223617548,
                          4.631500104
                        ]
                      },
                      {
                        "learn": [
                          0.01429297132,
                          4.537721218
                        ],
                        "iteration": 6,
                        "passed_time": 48.84658035,
                        "remaining_time": 997.8658557,
                        "test": [
                          0.01418648028,
                          4.535371821
                        ]
                      },
                      {
                        "learn": [
                          0.01553678794,
                          4.483821514
                        ],
                        "iteration": 7,
                        "passed_time": 55.68922821,
                        "remaining_time": 988.4838007,
                        "test": [
                          0.01543312084,
                          4.48269798
                        ]
                      },
                      {
                        "learn": [
                          0.01553678794,
                          4.415678968
                        ],
                        "iteration": 8,
                        "passed_time": 62.90292133,
                        "remaining_time": 985.4791009,
                        "test": [
                          0.01543312084,
                          4.414407633
                        ]
                      },
                      {
                        "learn": [
                          0.01560427853,
                          4.361736269
                        ],
                        "iteration": 9,
                        "passed_time": 69.34030991,
                        "remaining_time": 970.7643388,
                        "test": [
                          0.01543333891,
                          4.361606064
                        ]
                      },
                      {
                        "learn": [
                          0.01560427853,
                          4.286678431
                        ],
                        "iteration": 10,
                        "passed_time": 76.54560936,
                        "remaining_time": 967.2581546,
                        "test": [
                          0.01543333891,
                          4.286336887
                        ]
                      },
                      {
                        "learn": [
                          0.01553679868,
                          4.261408972
                        ],
                        "iteration": 11,
                        "passed_time": 82.89924447,
                        "remaining_time": 953.3413114,
                        "test": [
                          0.01543316439,
                          4.261260486
                        ]
                      },
                      {
                        "learn": [
                          0.01615484358,
                          4.169900934
                        ],
                        "iteration": 12,
                        "passed_time": 90.17734287,
                        "remaining_time": 950.3304595,
                        "test": [
                          0.01599343511,
                          4.169332155
                        ]
                      },
                      {
                        "learn": [
                          0.01615484358,
                          4.142756931
                        ],
                        "iteration": 13,
                        "passed_time": 96.5325442,
                        "remaining_time": 937.7447151,
                        "test": [
                          0.01599343511,
                          4.143006457
                        ]
                      },
                      {
                        "learn": [
                          0.01615408599,
                          4.091310208
                        ],
                        "iteration": 14,
                        "passed_time": 103.9664113,
                        "remaining_time": 935.6977015,
                        "test": [
                          0.0159863648,
                          4.091967229
                        ]
                      },
                      {
                        "learn": [
                          0.01878765973,
                          4.049874114
                        ],
                        "iteration": 15,
                        "passed_time": 110.3048537,
                        "remaining_time": 923.8031499,
                        "test": [
                          0.0186230772,
                          4.050341168
                        ]
                      },
                      {
                        "learn": [
                          0.01963814391,
                          4.011642574
                        ],
                        "iteration": 16,
                        "passed_time": 117.7573632,
                        "remaining_time": 921.2781945,
                        "test": [
                          0.0195024429,
                          4.011851893
                        ]
                      },
                      {
                        "learn": [
                          0.02016914984,
                          3.965639217
                        ],
                        "iteration": 17,
                        "passed_time": 124.3026593,
                        "remaining_time": 911.5528352,
                        "test": [
                          0.02021753684,
                          3.965742202
                        ]
                      },
                      {
                        "learn": [
                          0.02037398078,
                          3.929889781
                        ],
                        "iteration": 18,
                        "passed_time": 131.4925526,
                        "remaining_time": 906.6065466,
                        "test": [
                          0.0202011509,
                          3.929725867
                        ]
                      },
                      {
                        "learn": [
                          0.02037398078,
                          3.902632317
                        ],
                        "iteration": 19,
                        "passed_time": 138.3602753,
                        "remaining_time": 899.3417892,
                        "test": [
                          0.0202011509,
                          3.90323549
                        ]
                      },
                      {
                        "learn": [
                          0.02035956297,
                          3.876280344
                        ],
                        "iteration": 20,
                        "passed_time": 145.1020837,
                        "remaining_time": 891.3413713,
                        "test": [
                          0.0202011509,
                          3.877395502
                        ]
                      },
                      {
                        "learn": [
                          0.02035140997,
                          3.856178146
                        ],
                        "iteration": 21,
                        "passed_time": 152.5091826,
                        "remaining_time": 887.3261533,
                        "test": [
                          0.0202011509,
                          3.857324108
                        ]
                      },
                      {
                        "learn": [
                          0.02035140997,
                          3.824343643
                        ],
                        "iteration": 22,
                        "passed_time": 159.0451509,
                        "remaining_time": 878.2058334,
                        "test": [
                          0.0202011509,
                          3.825318312
                        ]
                      },
                      {
                        "learn": [
                          0.02037398078,
                          3.806606417
                        ],
                        "iteration": 23,
                        "passed_time": 166.3445659,
                        "remaining_time": 873.3089709,
                        "test": [
                          0.0202011509,
                          3.807587033
                        ]
                      },
                      {
                        "learn": [
                          0.02037398078,
                          3.788275658
                        ],
                        "iteration": 24,
                        "passed_time": 172.7677526,
                        "remaining_time": 863.8387628,
                        "test": [
                          0.0202011509,
                          3.789151285
                        ]
                      },
                      {
                        "learn": [
                          0.02037398078,
                          3.766506295
                        ],
                        "iteration": 25,
                        "passed_time": 180.3131227,
                        "remaining_time": 859.9548926,
                        "test": [
                          0.0202011509,
                          3.767545529
                        ]
                      },
                      {
                        "learn": [
                          0.0211860657,
                          3.739163061
                        ],
                        "iteration": 26,
                        "passed_time": 186.9073371,
                        "remaining_time": 851.4667577,
                        "test": [
                          0.02102769069,
                          3.740032897
                        ]
                      },
                      {
                        "learn": [
                          0.0211860657,
                          3.727366458
                        ],
                        "iteration": 27,
                        "passed_time": 194.5449831,
                        "remaining_time": 847.6602834,
                        "test": [
                          0.02102769069,
                          3.729632068
                        ]
                      },
                      {
                        "learn": [
                          0.02248342732,
                          3.707404689
                        ],
                        "iteration": 28,
                        "passed_time": 201.3550922,
                        "remaining_time": 840.1367638,
                        "test": [
                          0.02232508265,
                          3.709624574
                        ]
                      },
                      {
                        "learn": [
                          0.02308523199,
                          3.672837374
                        ],
                        "iteration": 29,
                        "passed_time": 208.444035,
                        "remaining_time": 833.7761399,
                        "test": [
                          0.02293333821,
                          3.675080002
                        ]
                      },
                      {
                        "learn": [
                          0.02356754729,
                          3.657487194
                        ],
                        "iteration": 30,
                        "passed_time": 216.2801458,
                        "remaining_time": 830.2366886,
                        "test": [
                          0.0234524192,
                          3.660319781
                        ]
                      },
                      {
                        "learn": [
                          0.02539233836,
                          3.634275773
                        ],
                        "iteration": 31,
                        "passed_time": 222.9601757,
                        "remaining_time": 822.165648,
                        "test": [
                          0.02526604862,
                          3.637138343
                        ]
                      },
                      {
                        "learn": [
                          0.02539233836,
                          3.620566735
                        ],
                        "iteration": 32,
                        "passed_time": 230.433286,
                        "remaining_time": 816.9907413,
                        "test": [
                          0.02526604862,
                          3.623431544
                        ]
                      },
                      {
                        "learn": [
                          0.02548445865,
                          3.607494235
                        ],
                        "iteration": 33,
                        "passed_time": 236.9765594,
                        "remaining_time": 808.5082616,
                        "test": [
                          0.02534507019,
                          3.61112408
                        ]
                      },
                      {
                        "learn": [
                          0.02549886866,
                          3.595706879
                        ],
                        "iteration": 34,
                        "passed_time": 244.8767276,
                        "remaining_time": 804.5949621,
                        "test": [
                          0.02535351645,
                          3.599959631
                        ]
                      },
                      {
                        "learn": [
                          0.02548445865,
                          3.580285877
                        ],
                        "iteration": 35,
                        "passed_time": 251.6596378,
                        "remaining_time": 796.9221864,
                        "test": [
                          0.02534507019,
                          3.585350286
                        ]
                      },
                      {
                        "learn": [
                          0.02548445865,
                          3.568498566
                        ],
                        "iteration": 36,
                        "passed_time": 259.0442586,
                        "remaining_time": 791.1351681,
                        "test": [
                          0.02534507019,
                          3.574169454
                        ]
                      },
                      {
                        "learn": [
                          0.02587597864,
                          3.55954787
                        ],
                        "iteration": 37,
                        "passed_time": 266.3663551,
                        "remaining_time": 785.0797835,
                        "test": [
                          0.0255543757,
                          3.56534222
                        ]
                      },
                      {
                        "learn": [
                          0.02708035643,
                          3.549213755
                        ],
                        "iteration": 38,
                        "passed_time": 272.8024389,
                        "remaining_time": 776.4377106,
                        "test": [
                          0.02675855706,
                          3.555030168
                        ]
                      },
                      {
                        "learn": [
                          0.02708035643,
                          3.534181051
                        ],
                        "iteration": 39,
                        "passed_time": 280.1356367,
                        "remaining_time": 770.373001,
                        "test": [
                          0.02675855706,
                          3.540054977
                        ]
                      },
                      {
                        "learn": [
                          0.02708035643,
                          3.523401236
                        ],
                        "iteration": 40,
                        "passed_time": 286.6008197,
                        "remaining_time": 761.9387645,
                        "test": [
                          0.02675855706,
                          3.529894933
                        ]
                      },
                      {
                        "learn": [
                          0.02726471995,
                          3.514172746
                        ],
                        "iteration": 41,
                        "passed_time": 293.9974843,
                        "remaining_time": 755.9935311,
                        "test": [
                          0.02671423195,
                          3.522138608
                        ]
                      },
                      {
                        "learn": [
                          0.02810677904,
                          3.500407905
                        ],
                        "iteration": 42,
                        "passed_time": 300.3787746,
                        "remaining_time": 747.45416,
                        "test": [
                          0.0277087273,
                          3.508449546
                        ]
                      },
                      {
                        "learn": [
                          0.02870770973,
                          3.487952165
                        ],
                        "iteration": 43,
                        "passed_time": 307.8743048,
                        "remaining_time": 741.6971889,
                        "test": [
                          0.02822799666,
                          3.495963944
                        ]
                      },
                      {
                        "learn": [
                          0.02877453293,
                          3.483312212
                        ],
                        "iteration": 44,
                        "passed_time": 314.1132996,
                        "remaining_time": 732.9310324,
                        "test": [
                          0.02822799666,
                          3.491813914
                        ]
                      },
                      {
                        "learn": [
                          0.02877453293,
                          3.47356825
                        ],
                        "iteration": 45,
                        "passed_time": 321.4479712,
                        "remaining_time": 726.7519348,
                        "test": [
                          0.02822799666,
                          3.482692911
                        ]
                      },
                      {
                        "learn": [
                          0.02891607821,
                          3.459691353
                        ],
                        "iteration": 46,
                        "passed_time": 328.0909923,
                        "remaining_time": 719.0079193,
                        "test": [
                          0.0283316724,
                          3.468740883
                        ]
                      },
                      {
                        "learn": [
                          0.02924555067,
                          3.452735072
                        ],
                        "iteration": 47,
                        "passed_time": 335.0142433,
                        "remaining_time": 711.905267,
                        "test": [
                          0.028983874,
                          3.462450024
                        ]
                      },
                      {
                        "learn": [
                          0.02929056652,
                          3.442197916
                        ],
                        "iteration": 48,
                        "passed_time": 342.317071,
                        "remaining_time": 705.5923301,
                        "test": [
                          0.02894972891,
                          3.45250097
                        ]
                      },
                      {
                        "learn": [
                          0.02929056652,
                          3.435638105
                        ],
                        "iteration": 49,
                        "passed_time": 348.7122916,
                        "remaining_time": 697.4245833,
                        "test": [
                          0.02894972891,
                          3.445884877
                        ]
                      },
                      {
                        "learn": [
                          0.02943226797,
                          3.423381666
                        ],
                        "iteration": 50,
                        "passed_time": 356.1160501,
                        "remaining_time": 691.2840972,
                        "test": [
                          0.02894474583,
                          3.435585042
                        ]
                      },
                      {
                        "learn": [
                          0.02952677807,
                          3.406828742
                        ],
                        "iteration": 51,
                        "passed_time": 362.5479203,
                        "remaining_time": 683.2633882,
                        "test": [
                          0.02922978503,
                          3.418991486
                        ]
                      },
                      {
                        "learn": [
                          0.02952677807,
                          3.403901805
                        ],
                        "iteration": 52,
                        "passed_time": 369.7822685,
                        "remaining_time": 676.7713216,
                        "test": [
                          0.02922978503,
                          3.416073392
                        ]
                      },
                      {
                        "learn": [
                          0.02952583573,
                          3.389881738
                        ],
                        "iteration": 53,
                        "passed_time": 376.0098232,
                        "remaining_time": 668.461908,
                        "test": [
                          0.02922978503,
                          3.40208254
                        ]
                      },
                      {
                        "learn": [
                          0.02951229922,
                          3.383357453
                        ],
                        "iteration": 54,
                        "passed_time": 383.8285575,
                        "remaining_time": 662.9765994,
                        "test": [
                          0.02925888394,
                          3.39613133
                        ]
                      },
                      {
                        "learn": [
                          0.0296413515,
                          3.375127757
                        ],
                        "iteration": 55,
                        "passed_time": 390.533299,
                        "remaining_time": 655.5380376,
                        "test": [
                          0.02917983109,
                          3.388261012
                        ]
                      },
                      {
                        "learn": [
                          0.03111615656,
                          3.367974284
                        ],
                        "iteration": 56,
                        "passed_time": 397.8925035,
                        "remaining_time": 649.193032,
                        "test": [
                          0.03086469529,
                          3.381115569
                        ]
                      },
                      {
                        "learn": [
                          0.03129816287,
                          3.360144527
                        ],
                        "iteration": 57,
                        "passed_time": 404.8562539,
                        "remaining_time": 642.1857821,
                        "test": [
                          0.03086469529,
                          3.373952154
                        ]
                      },
                      {
                        "learn": [
                          0.03131847972,
                          3.353372006
                        ],
                        "iteration": 58,
                        "passed_time": 411.5202291,
                        "remaining_time": 634.7176415,
                        "test": [
                          0.03086469529,
                          3.367500667
                        ]
                      },
                      {
                        "learn": [
                          0.03131847972,
                          3.348432335
                        ],
                        "iteration": 59,
                        "passed_time": 418.6728648,
                        "remaining_time": 628.0092972,
                        "test": [
                          0.03086469529,
                          3.362569259
                        ]
                      },
                      {
                        "learn": [
                          0.03131992191,
                          3.340395324
                        ],
                        "iteration": 60,
                        "passed_time": 425.0791771,
                        "remaining_time": 620.1974879,
                        "test": [
                          0.03086469529,
                          3.35517614
                        ]
                      },
                      {
                        "learn": [
                          0.03131992191,
                          3.331812939
                        ],
                        "iteration": 61,
                        "passed_time": 432.5559233,
                        "remaining_time": 613.9503427,
                        "test": [
                          0.03086469529,
                          3.34784105
                        ]
                      },
                      {
                        "learn": [
                          0.03131992191,
                          3.321232092
                        ],
                        "iteration": 62,
                        "passed_time": 438.8233566,
                        "remaining_time": 605.9941591,
                        "test": [
                          0.03086469529,
                          3.337397242
                        ]
                      },
                      {
                        "learn": [
                          0.03143534554,
                          3.312621666
                        ],
                        "iteration": 63,
                        "passed_time": 446.1752528,
                        "remaining_time": 599.547996,
                        "test": [
                          0.03135881286,
                          3.329409691
                        ]
                      },
                      {
                        "learn": [
                          0.03146776151,
                          3.306429728
                        ],
                        "iteration": 64,
                        "passed_time": 452.6518283,
                        "remaining_time": 591.9293139,
                        "test": [
                          0.03139072984,
                          3.323755847
                        ]
                      },
                      {
                        "learn": [
                          0.03257586558,
                          3.301429167
                        ],
                        "iteration": 65,
                        "passed_time": 460.1463204,
                        "remaining_time": 585.6407714,
                        "test": [
                          0.03255105592,
                          3.31883241
                        ]
                      },
                      {
                        "learn": [
                          0.03297479171,
                          3.287816039
                        ],
                        "iteration": 66,
                        "passed_time": 466.4668386,
                        "remaining_time": 577.8619046,
                        "test": [
                          0.03273306442,
                          3.305612209
                        ]
                      },
                      {
                        "learn": [
                          0.03297479171,
                          3.283733586
                        ],
                        "iteration": 67,
                        "passed_time": 474.0080172,
                        "remaining_time": 571.5979031,
                        "test": [
                          0.03273306442,
                          3.302019611
                        ]
                      },
                      {
                        "learn": [
                          0.03470362191,
                          3.268754403
                        ],
                        "iteration": 68,
                        "passed_time": 480.7139956,
                        "remaining_time": 564.3164297,
                        "test": [
                          0.03388565663,
                          3.287159395
                        ]
                      },
                      {
                        "learn": [
                          0.03483979928,
                          3.259467886
                        ],
                        "iteration": 69,
                        "passed_time": 487.628748,
                        "remaining_time": 557.2899977,
                        "test": [
                          0.03388602393,
                          3.27850618
                        ]
                      },
                      {
                        "learn": [
                          0.03485653111,
                          3.25382672
                        ],
                        "iteration": 70,
                        "passed_time": 494.8979227,
                        "remaining_time": 550.6610689,
                        "test": [
                          0.03388602393,
                          3.273459758
                        ]
                      },
                      {
                        "learn": [
                          0.03491921133,
                          3.247860761
                        ],
                        "iteration": 71,
                        "passed_time": 501.2086747,
                        "remaining_time": 542.9760642,
                        "test": [
                          0.03372244834,
                          3.26823634
                        ]
                      },
                      {
                        "learn": [
                          0.03491921133,
                          3.243406064
                        ],
                        "iteration": 72,
                        "passed_time": 508.4918231,
                        "remaining_time": 536.3543888,
                        "test": [
                          0.03372244834,
                          3.264333795
                        ]
                      },
                      {
                        "learn": [
                          0.03490645524,
                          3.238466682
                        ],
                        "iteration": 73,
                        "passed_time": 514.8218688,
                        "remaining_time": 528.7359734,
                        "test": [
                          0.03371019516,
                          3.259970954
                        ]
                      },
                      {
                        "learn": [
                          0.03490534801,
                          3.234323625
                        ],
                        "iteration": 74,
                        "passed_time": 522.149749,
                        "remaining_time": 522.149749,
                        "test": [
                          0.03369846142,
                          3.256594733
                        ]
                      },
                      {
                        "learn": [
                          0.03512565018,
                          3.228705921
                        ],
                        "iteration": 75,
                        "passed_time": 528.4894667,
                        "remaining_time": 514.5818491,
                        "test": [
                          0.03370543143,
                          3.252322657
                        ]
                      },
                      {
                        "learn": [
                          0.03509466241,
                          3.22336725
                        ],
                        "iteration": 76,
                        "passed_time": 535.785636,
                        "remaining_time": 507.952616,
                        "test": [
                          0.03371779613,
                          3.247105989
                        ]
                      },
                      {
                        "learn": [
                          0.03562827633,
                          3.218931618
                        ],
                        "iteration": 77,
                        "passed_time": 542.246527,
                        "remaining_time": 500.5352557,
                        "test": [
                          0.03430556546,
                          3.243955449
                        ]
                      },
                      {
                        "learn": [
                          0.03564436137,
                          3.210027695
                        ],
                        "iteration": 78,
                        "passed_time": 549.7058479,
                        "remaining_time": 494.0394329,
                        "test": [
                          0.03426088033,
                          3.235180852
                        ]
                      },
                      {
                        "learn": [
                          0.03564436137,
                          3.206919078
                        ],
                        "iteration": 79,
                        "passed_time": 556.2085445,
                        "remaining_time": 486.6824764,
                        "test": [
                          0.03426088033,
                          3.232086585
                        ]
                      },
                      {
                        "learn": [
                          0.03598102085,
                          3.196736737
                        ],
                        "iteration": 80,
                        "passed_time": 563.3514276,
                        "remaining_time": 479.8919569,
                        "test": [
                          0.03470501008,
                          3.222224017
                        ]
                      },
                      {
                        "learn": [
                          0.03598008777,
                          3.193286006
                        ],
                        "iteration": 81,
                        "passed_time": 570.1223843,
                        "remaining_time": 472.7844162,
                        "test": [
                          0.03478153335,
                          3.219244446
                        ]
                      },
                      {
                        "learn": [
                          0.03598008777,
                          3.189782306
                        ],
                        "iteration": 82,
                        "passed_time": 576.7723341,
                        "remaining_time": 465.5873058,
                        "test": [
                          0.03478153335,
                          3.215730957
                        ]
                      },
                      {
                        "learn": [
                          0.03597192042,
                          3.185060104
                        ],
                        "iteration": 83,
                        "passed_time": 584.2901277,
                        "remaining_time": 459.0851003,
                        "test": [
                          0.03442054569,
                          3.211649992
                        ]
                      },
                      {
                        "learn": [
                          0.03600584597,
                          3.177002072
                        ],
                        "iteration": 84,
                        "passed_time": 590.7423607,
                        "remaining_time": 451.7441581,
                        "test": [
                          0.03440334644,
                          3.204502659
                        ]
                      },
                      {
                        "learn": [
                          0.03600223413,
                          3.174123995
                        ],
                        "iteration": 85,
                        "passed_time": 598.0111065,
                        "remaining_time": 445.0315211,
                        "test": [
                          0.0344075647,
                          3.202203263
                        ]
                      },
                      {
                        "learn": [
                          0.0361207335,
                          3.167398344
                        ],
                        "iteration": 86,
                        "passed_time": 604.4273795,
                        "remaining_time": 437.6887921,
                        "test": [
                          0.03440175557,
                          3.196035378
                        ]
                      },
                      {
                        "learn": [
                          0.03623287875,
                          3.164390553
                        ],
                        "iteration": 87,
                        "passed_time": 611.8958267,
                        "remaining_time": 431.1084234,
                        "test": [
                          0.03446734795,
                          3.194369843
                        ]
                      },
                      {
                        "learn": [
                          0.03634574521,
                          3.158557283
                        ],
                        "iteration": 88,
                        "passed_time": 618.4166855,
                        "remaining_time": 423.8586272,
                        "test": [
                          0.03431964329,
                          3.189379499
                        ]
                      },
                      {
                        "learn": [
                          0.03639557805,
                          3.149996283
                        ],
                        "iteration": 89,
                        "passed_time": 625.7897517,
                        "remaining_time": 417.1931678,
                        "test": [
                          0.03429879728,
                          3.180942028
                        ]
                      },
                      {
                        "learn": [
                          0.03647757651,
                          3.144409996
                        ],
                        "iteration": 90,
                        "passed_time": 632.2614355,
                        "remaining_time": 409.9277439,
                        "test": [
                          0.03461577093,
                          3.175914735
                        ]
                      },
                      {
                        "learn": [
                          0.03654162429,
                          3.127800063
                        ],
                        "iteration": 91,
                        "passed_time": 639.7350781,
                        "remaining_time": 403.3112449,
                        "test": [
                          0.03487823043,
                          3.160316119
                        ]
                      },
                      {
                        "learn": [
                          0.03671409267,
                          3.123553143
                        ],
                        "iteration": 92,
                        "passed_time": 646.7091088,
                        "remaining_time": 396.3700989,
                        "test": [
                          0.03483593737,
                          3.156752148
                        ]
                      },
                      {
                        "learn": [
                          0.03671913744,
                          3.119578134
                        ],
                        "iteration": 93,
                        "passed_time": 653.4079718,
                        "remaining_time": 389.2643236,
                        "test": [
                          0.03484053118,
                          3.153200943
                        ]
                      },
                      {
                        "learn": [
                          0.03671922143,
                          3.114663591
                        ],
                        "iteration": 94,
                        "passed_time": 660.6264202,
                        "remaining_time": 382.4679275,
                        "test": [
                          0.03484053118,
                          3.148308245
                        ]
                      },
                      {
                        "learn": [
                          0.03674374581,
                          3.11061064
                        ],
                        "iteration": 95,
                        "passed_time": 667.0462016,
                        "remaining_time": 375.2134884,
                        "test": [
                          0.03479259908,
                          3.145235581
                        ]
                      },
                      {
                        "learn": [
                          0.03677429999,
                          3.108533649
                        ],
                        "iteration": 96,
                        "passed_time": 674.4439057,
                        "remaining_time": 368.5105876,
                        "test": [
                          0.03477484505,
                          3.143820595
                        ]
                      },
                      {
                        "learn": [
                          0.03679712505,
                          3.101699522
                        ],
                        "iteration": 97,
                        "passed_time": 680.9123644,
                        "remaining_time": 361.3004383,
                        "test": [
                          0.03501849566,
                          3.137507581
                        ]
                      },
                      {
                        "learn": [
                          0.03679737839,
                          3.099571007
                        ],
                        "iteration": 98,
                        "passed_time": 688.3541221,
                        "remaining_time": 354.606669,
                        "test": [
                          0.03501883068,
                          3.135714129
                        ]
                      },
                      {
                        "learn": [
                          0.03679771679,
                          3.094433074
                        ],
                        "iteration": 99,
                        "passed_time": 694.8323658,
                        "remaining_time": 347.4161829,
                        "test": [
                          0.03501950274,
                          3.130930026
                        ]
                      },
                      {
                        "learn": [
                          0.03689108307,
                          3.090713918
                        ],
                        "iteration": 100,
                        "passed_time": 702.4921677,
                        "remaining_time": 340.8130319,
                        "test": [
                          0.03502051588,
                          3.127479441
                        ]
                      },
                      {
                        "learn": [
                          0.03707150546,
                          3.088034841
                        ],
                        "iteration": 101,
                        "passed_time": 709.181413,
                        "remaining_time": 333.7324297,
                        "test": [
                          0.03499366258,
                          3.125198094
                        ]
                      },
                      {
                        "learn": [
                          0.0372747691,
                          3.084493359
                        ],
                        "iteration": 102,
                        "passed_time": 716.2570264,
                        "remaining_time": 326.8357305,
                        "test": [
                          0.03499794474,
                          3.122146143
                        ]
                      },
                      {
                        "learn": [
                          0.03793173566,
                          3.07709815
                        ],
                        "iteration": 103,
                        "passed_time": 723.871708,
                        "remaining_time": 320.1740247,
                        "test": [
                          0.03522612616,
                          3.116055593
                        ]
                      },
                      {
                        "learn": [
                          0.03797226651,
                          3.063114728
                        ],
                        "iteration": 104,
                        "passed_time": 730.4734897,
                        "remaining_time": 313.060067,
                        "test": [
                          0.03521725198,
                          3.1020833
                        ]
                      },
                      {
                        "learn": [
                          0.0380185026,
                          3.060589625
                        ],
                        "iteration": 105,
                        "passed_time": 737.8318308,
                        "remaining_time": 306.2698166,
                        "test": [
                          0.03543573445,
                          3.099939978
                        ]
                      },
                      {
                        "learn": [
                          0.03932957977,
                          3.054713399
                        ],
                        "iteration": 106,
                        "passed_time": 744.3129998,
                        "remaining_time": 299.1164392,
                        "test": [
                          0.03698643653,
                          3.094074419
                        ]
                      },
                      {
                        "learn": [
                          0.03932957977,
                          3.051009639
                        ],
                        "iteration": 107,
                        "passed_time": 751.7363902,
                        "remaining_time": 292.3419295,
                        "test": [
                          0.03698643653,
                          3.090401792
                        ]
                      },
                      {
                        "learn": [
                          0.03946254848,
                          3.046712118
                        ],
                        "iteration": 108,
                        "passed_time": 758.2881855,
                        "remaining_time": 285.2276661,
                        "test": [
                          0.03724725851,
                          3.086548271
                        ]
                      },
                      {
                        "learn": [
                          0.03965811298,
                          3.043589141
                        ],
                        "iteration": 109,
                        "passed_time": 765.7458222,
                        "remaining_time": 278.4530263,
                        "test": [
                          0.03726101056,
                          3.083892851
                        ]
                      },
                      {
                        "learn": [
                          0.0395463924,
                          3.038149433
                        ],
                        "iteration": 110,
                        "passed_time": 772.2036364,
                        "remaining_time": 271.3147912,
                        "test": [
                          0.03719074117,
                          3.078456481
                        ]
                      },
                      {
                        "learn": [
                          0.03970387887,
                          3.033346137
                        ],
                        "iteration": 111,
                        "passed_time": 779.7324768,
                        "remaining_time": 264.5520903,
                        "test": [
                          0.0371784393,
                          3.074623849
                        ]
                      },
                      {
                        "learn": [
                          0.03974664155,
                          3.028319628
                        ],
                        "iteration": 112,
                        "passed_time": 787.0011736,
                        "remaining_time": 257.6906498,
                        "test": [
                          0.03694452134,
                          3.070405881
                        ]
                      },
                      {
                        "learn": [
                          0.03969400362,
                          3.023310142
                        ],
                        "iteration": 113,
                        "passed_time": 793.5689779,
                        "remaining_time": 250.6007299,
                        "test": [
                          0.03723711777,
                          3.065478843
                        ]
                      },
                      {
                        "learn": [
                          0.03967613102,
                          3.013340791
                        ],
                        "iteration": 114,
                        "passed_time": 800.6478339,
                        "remaining_time": 243.6754277,
                        "test": [
                          0.03696523873,
                          3.055595204
                        ]
                      },
                      {
                        "learn": [
                          0.0400377943,
                          3.0064557
                        ],
                        "iteration": 115,
                        "passed_time": 807.152992,
                        "remaining_time": 236.5793253,
                        "test": [
                          0.03731661588,
                          3.049451416
                        ]
                      },
                      {
                        "learn": [
                          0.04015406591,
                          3.004651024
                        ],
                        "iteration": 116,
                        "passed_time": 814.3878153,
                        "remaining_time": 229.6991274,
                        "test": [
                          0.03750994749,
                          3.047959635
                        ]
                      },
                      {
                        "learn": [
                          0.04092947442,
                          2.999693326
                        ],
                        "iteration": 117,
                        "passed_time": 820.6624075,
                        "remaining_time": 222.5525173,
                        "test": [
                          0.03755534854,
                          3.043530812
                        ]
                      },
                      {
                        "learn": [
                          0.04094549754,
                          2.99529759
                        ],
                        "iteration": 118,
                        "passed_time": 828.0679448,
                        "remaining_time": 215.7151789,
                        "test": [
                          0.03761559772,
                          3.039135712
                        ]
                      },
                      {
                        "learn": [
                          0.04123195756,
                          2.992637024
                        ],
                        "iteration": 119,
                        "passed_time": 834.5589666,
                        "remaining_time": 208.6397417,
                        "test": [
                          0.03875824769,
                          3.037268026
                        ]
                      },
                      {
                        "learn": [
                          0.04147090792,
                          2.990689331
                        ],
                        "iteration": 120,
                        "passed_time": 841.8819367,
                        "remaining_time": 201.7733567,
                        "test": [
                          0.03795189806,
                          3.035767121
                        ]
                      },
                      {
                        "learn": [
                          0.04157444901,
                          2.983717847
                        ],
                        "iteration": 121,
                        "passed_time": 848.2175177,
                        "remaining_time": 194.6728729,
                        "test": [
                          0.03811663386,
                          3.028954459
                        ]
                      },
                      {
                        "learn": [
                          0.04176220547,
                          2.98120744
                        ],
                        "iteration": 122,
                        "passed_time": 855.7392706,
                        "remaining_time": 187.8452057,
                        "test": [
                          0.03906395109,
                          3.026947127
                        ]
                      },
                      {
                        "learn": [
                          0.04181517711,
                          2.978606544
                        ],
                        "iteration": 123,
                        "passed_time": 862.5531127,
                        "remaining_time": 180.8579107,
                        "test": [
                          0.03896946959,
                          3.025175505
                        ]
                      },
                      {
                        "learn": [
                          0.04182897935,
                          2.975705997
                        ],
                        "iteration": 124,
                        "passed_time": 869.4327882,
                        "remaining_time": 173.8865576,
                        "test": [
                          0.03860034554,
                          3.022688175
                        ]
                      },
                      {
                        "learn": [
                          0.04202011754,
                          2.973349717
                        ],
                        "iteration": 125,
                        "passed_time": 877.8469783,
                        "remaining_time": 167.2089483,
                        "test": [
                          0.03962735219,
                          3.02081842
                        ]
                      },
                      {
                        "learn": [
                          0.04220105257,
                          2.96851988
                        ],
                        "iteration": 126,
                        "passed_time": 884.3797734,
                        "remaining_time": 160.1632661,
                        "test": [
                          0.03973694806,
                          3.017216279
                        ]
                      },
                      {
                        "learn": [
                          0.04226929869,
                          2.964799337
                        ],
                        "iteration": 127,
                        "passed_time": 891.8125147,
                        "remaining_time": 153.280276,
                        "test": [
                          0.03974266019,
                          3.014847149
                        ]
                      },
                      {
                        "learn": [
                          0.04235469407,
                          2.962495189
                        ],
                        "iteration": 128,
                        "passed_time": 898.1740473,
                        "remaining_time": 146.2143798,
                        "test": [
                          0.0397608407,
                          3.013400226
                        ]
                      },
                      {
                        "learn": [
                          0.04237151778,
                          2.961283393
                        ],
                        "iteration": 129,
                        "passed_time": 905.4951762,
                        "remaining_time": 139.3069502,
                        "test": [
                          0.0397608407,
                          3.012243169
                        ]
                      },
                      {
                        "learn": [
                          0.0424640902,
                          2.954970418
                        ],
                        "iteration": 130,
                        "passed_time": 911.8447396,
                        "remaining_time": 132.2522905,
                        "test": [
                          0.03985754382,
                          3.005916253
                        ]
                      },
                      {
                        "learn": [
                          0.04235608656,
                          2.953135003
                        ],
                        "iteration": 131,
                        "passed_time": 919.1522612,
                        "remaining_time": 125.3389447,
                        "test": [
                          0.03989028657,
                          3.004951799
                        ]
                      },
                      {
                        "learn": [
                          0.04251233242,
                          2.950646035
                        ],
                        "iteration": 132,
                        "passed_time": 925.5680567,
                        "remaining_time": 118.3056915,
                        "test": [
                          0.0402333774,
                          3.002936416
                        ]
                      },
                      {
                        "learn": [
                          0.04280096395,
                          2.944085507
                        ],
                        "iteration": 133,
                        "passed_time": 933.0882595,
                        "remaining_time": 111.4135235,
                        "test": [
                          0.04015554986,
                          2.996435763
                        ]
                      },
                      {
                        "learn": [
                          0.0427762888,
                          2.936909865
                        ],
                        "iteration": 134,
                        "passed_time": 940.1553955,
                        "remaining_time": 104.4617106,
                        "test": [
                          0.04012894456,
                          2.989315395
                        ]
                      },
                      {
                        "learn": [
                          0.0427762888,
                          2.931431684
                        ],
                        "iteration": 135,
                        "passed_time": 946.9353721,
                        "remaining_time": 97.47864125,
                        "test": [
                          0.04012894456,
                          2.983833403
                        ]
                      },
                      {
                        "learn": [
                          0.04305667545,
                          2.927838989
                        ],
                        "iteration": 136,
                        "passed_time": 954.3451989,
                        "remaining_time": 90.55830354,
                        "test": [
                          0.04071058318,
                          2.980763502
                        ]
                      },
                      {
                        "learn": [
                          0.04320797908,
                          2.924476087
                        ],
                        "iteration": 137,
                        "passed_time": 960.6872149,
                        "remaining_time": 83.53801869,
                        "test": [
                          0.04070803553,
                          2.977826657
                        ]
                      },
                      {
                        "learn": [
                          0.04320797908,
                          2.922247909
                        ],
                        "iteration": 138,
                        "passed_time": 968.030246,
                        "remaining_time": 76.60671011,
                        "test": [
                          0.04070803553,
                          2.975649322
                        ]
                      },
                      {
                        "learn": [
                          0.0432058334,
                          2.919456436
                        ],
                        "iteration": 139,
                        "passed_time": 974.4676099,
                        "remaining_time": 69.60482928,
                        "test": [
                          0.04074745945,
                          2.973478203
                        ]
                      },
                      {
                        "learn": [
                          0.04296011612,
                          2.916998879
                        ],
                        "iteration": 140,
                        "passed_time": 981.8067492,
                        "remaining_time": 62.66851591,
                        "test": [
                          0.0407606409,
                          2.971598949
                        ]
                      },
                      {
                        "learn": [
                          0.04296011612,
                          2.913517748
                        ],
                        "iteration": 141,
                        "passed_time": 988.2614336,
                        "remaining_time": 55.67670049,
                        "test": [
                          0.0407606409,
                          2.968158368
                        ]
                      },
                      {
                        "learn": [
                          0.04327742967,
                          2.907386889
                        ],
                        "iteration": 142,
                        "passed_time": 995.6970695,
                        "remaining_time": 48.74041599,
                        "test": [
                          0.04082668501,
                          2.961989788
                        ]
                      },
                      {
                        "learn": [
                          0.04327742967,
                          2.900770165
                        ],
                        "iteration": 143,
                        "passed_time": 1002.122138,
                        "remaining_time": 41.75508908,
                        "test": [
                          0.04082668501,
                          2.955393306
                        ]
                      },
                      {
                        "learn": [
                          0.04339252872,
                          2.899992896
                        ],
                        "iteration": 144,
                        "passed_time": 1009.62127,
                        "remaining_time": 34.81452654,
                        "test": [
                          0.04096110226,
                          2.955007618
                        ]
                      },
                      {
                        "learn": [
                          0.04341810154,
                          2.895571633
                        ],
                        "iteration": 145,
                        "passed_time": 1016.356208,
                        "remaining_time": 27.84537555,
                        "test": [
                          0.04089815165,
                          2.950591304
                        ]
                      },
                      {
                        "learn": [
                          0.04480995951,
                          2.893429381
                        ],
                        "iteration": 146,
                        "passed_time": 1023.717868,
                        "remaining_time": 20.8922014,
                        "test": [
                          0.04144767492,
                          2.9488112
                        ]
                      },
                      {
                        "learn": [
                          0.04501317159,
                          2.888872337
                        ],
                        "iteration": 147,
                        "passed_time": 1031.154841,
                        "remaining_time": 13.93452487,
                        "test": [
                          0.04158207599,
                          2.944304013
                        ]
                      },
                      {
                        "learn": [
                          0.0453804507,
                          2.884616583
                        ],
                        "iteration": 148,
                        "passed_time": 1037.601308,
                        "remaining_time": 6.96376717,
                        "test": [
                          0.042438644,
                          2.94008923
                        ]
                      },
                      {
                        "learn": [
                          0.04532183987,
                          2.875830107
                        ],
                        "iteration": 149,
                        "passed_time": 1045.028956,
                        "remaining_time": 0,
                        "test": [
                          0.04203561245,
                          2.931817905
                        ]
                      }
                    ],
                    "meta": {
                      "test_sets": [
                        "test"
                      ],
                      "test_metrics": [
                        {
                          "best_value": "Max",
                          "name": "TotalF1:average=Macro"
                        },
                        {
                          "best_value": "Min",
                          "name": "MultiClass"
                        }
                      ],
                      "learn_metrics": [
                        {
                          "best_value": "Max",
                          "name": "TotalF1:average=Macro"
                        },
                        {
                          "best_value": "Min",
                          "name": "MultiClass"
                        }
                      ],
                      "launch_mode": "Train",
                      "parameters": "",
                      "iteration_count": 150,
                      "learn_sets": [
                        "learn"
                      ],
                      "name": "experiment"
                    }
                  }
                }
              }
            },
            "layout": "IPY_MODEL_f4bd870f38b943bc95c7a103628a3cb1"
          }
        },
        "201c90f5eff5468ba6d9d51b36980313": {
          "model_module": "catboost-widget",
          "model_name": "CatboostWidgetModel",
          "model_module_version": "^1.0.0",
          "state": {
            "_dom_classes": [],
            "_model_module": "catboost-widget",
            "_model_module_version": "^1.0.0",
            "_model_name": "CatboostWidgetModel",
            "_view_count": null,
            "_view_module": "catboost-widget",
            "_view_module_version": "^1.0.0",
            "_view_name": "CatboostWidgetView",
            "data": {
              "catboost_info": {
                "path": "catboost_info",
                "name": "catboost_info",
                "content": {
                  "passed_iterations": 799,
                  "total_iterations": 800,
                  "data": {
                    "iterations": [
                      {
                        "learn": [
                          0.01663709356,
                          4.195881658
                        ],
                        "iteration": 0,
                        "passed_time": 1.930848262,
                        "remaining_time": 1542.747761,
                        "test": [
                          0.01398006173,
                          4.196945424
                        ]
                      },
                      {
                        "learn": [
                          0.02463487173,
                          4.18938994
                        ],
                        "iteration": 1,
                        "passed_time": 3.748129975,
                        "remaining_time": 1495.50386,
                        "test": [
                          0.02011400276,
                          4.19139918
                        ]
                      },
                      {
                        "learn": [
                          0.03112244666,
                          4.185678782
                        ],
                        "iteration": 2,
                        "passed_time": 5.587777076,
                        "remaining_time": 1484.48611,
                        "test": [
                          0.0262261599,
                          4.188119088
                        ]
                      },
                      {
                        "learn": [
                          0.03364486714,
                          4.179789009
                        ],
                        "iteration": 3,
                        "passed_time": 7.462914962,
                        "remaining_time": 1485.120078,
                        "test": [
                          0.02760017596,
                          4.18354823
                        ]
                      },
                      {
                        "learn": [
                          0.03669785494,
                          4.174052635
                        ],
                        "iteration": 4,
                        "passed_time": 10.35052247,
                        "remaining_time": 1645.733074,
                        "test": [
                          0.03305921122,
                          4.178315798
                        ]
                      },
                      {
                        "learn": [
                          0.03895168196,
                          4.168989115
                        ],
                        "iteration": 5,
                        "passed_time": 12.34132746,
                        "remaining_time": 1633.169,
                        "test": [
                          0.03433735171,
                          4.173310536
                        ]
                      },
                      {
                        "learn": [
                          0.03921398325,
                          4.16547322
                        ],
                        "iteration": 6,
                        "passed_time": 14.23026316,
                        "remaining_time": 1612.085526,
                        "test": [
                          0.03288078957,
                          4.170223067
                        ]
                      },
                      {
                        "learn": [
                          0.03921565756,
                          4.158491213
                        ],
                        "iteration": 7,
                        "passed_time": 16.06239964,
                        "remaining_time": 1590.177564,
                        "test": [
                          0.03277288927,
                          4.164654434
                        ]
                      },
                      {
                        "learn": [
                          0.04110918615,
                          4.154554317
                        ],
                        "iteration": 8,
                        "passed_time": 17.86894189,
                        "remaining_time": 1570.481449,
                        "test": [
                          0.0349705686,
                          4.161513464
                        ]
                      },
                      {
                        "learn": [
                          0.03973696901,
                          4.149802779
                        ],
                        "iteration": 9,
                        "passed_time": 19.64567077,
                        "remaining_time": 1552.007991,
                        "test": [
                          0.03238796352,
                          4.158037167
                        ]
                      },
                      {
                        "learn": [
                          0.04328883327,
                          4.147156331
                        ],
                        "iteration": 10,
                        "passed_time": 22.05909203,
                        "remaining_time": 1582.23851,
                        "test": [
                          0.03525011761,
                          4.15607238
                        ]
                      },
                      {
                        "learn": [
                          0.04090158268,
                          4.143050576
                        ],
                        "iteration": 11,
                        "passed_time": 24.33983236,
                        "remaining_time": 1598.315658,
                        "test": [
                          0.03403457457,
                          4.153060156
                        ]
                      },
                      {
                        "learn": [
                          0.04706352313,
                          4.137951085
                        ],
                        "iteration": 12,
                        "passed_time": 26.18800681,
                        "remaining_time": 1585.381643,
                        "test": [
                          0.03921803452,
                          4.148710085
                        ]
                      },
                      {
                        "learn": [
                          0.04411356839,
                          4.13297336
                        ],
                        "iteration": 13,
                        "passed_time": 27.9727516,
                        "remaining_time": 1570.470197,
                        "test": [
                          0.03686158842,
                          4.144163612
                        ]
                      },
                      {
                        "learn": [
                          0.04455680797,
                          4.12606822
                        ],
                        "iteration": 14,
                        "passed_time": 29.76464285,
                        "remaining_time": 1557.682976,
                        "test": [
                          0.03649936628,
                          4.138803489
                        ]
                      },
                      {
                        "learn": [
                          0.04299906422,
                          4.122223836
                        ],
                        "iteration": 15,
                        "passed_time": 31.56144849,
                        "remaining_time": 1546.510976,
                        "test": [
                          0.03602409503,
                          4.135784093
                        ]
                      },
                      {
                        "learn": [
                          0.04510923008,
                          4.119901216
                        ],
                        "iteration": 16,
                        "passed_time": 33.63126197,
                        "remaining_time": 1549.01636,
                        "test": [
                          0.03814063991,
                          4.13339817
                        ]
                      },
                      {
                        "learn": [
                          0.0447801172,
                          4.117383996
                        ],
                        "iteration": 17,
                        "passed_time": 36.30404102,
                        "remaining_time": 1577.208893,
                        "test": [
                          0.03831025036,
                          4.131476882
                        ]
                      },
                      {
                        "learn": [
                          0.04525099105,
                          4.11444149
                        ],
                        "iteration": 18,
                        "passed_time": 38.10726949,
                        "remaining_time": 1566.40934,
                        "test": [
                          0.03900756,
                          4.129224646
                        ]
                      },
                      {
                        "learn": [
                          0.04901303298,
                          4.111900201
                        ],
                        "iteration": 19,
                        "passed_time": 39.93946101,
                        "remaining_time": 1557.638979,
                        "test": [
                          0.04148886883,
                          4.126981632
                        ]
                      },
                      {
                        "learn": [
                          0.04940755054,
                          4.109740865
                        ],
                        "iteration": 20,
                        "passed_time": 41.73676015,
                        "remaining_time": 1548.235055,
                        "test": [
                          0.04215308952,
                          4.125232702
                        ]
                      },
                      {
                        "learn": [
                          0.04621260602,
                          4.102318447
                        ],
                        "iteration": 21,
                        "passed_time": 43.53777811,
                        "remaining_time": 1539.654153,
                        "test": [
                          0.03973000361,
                          4.118904024
                        ]
                      },
                      {
                        "learn": [
                          0.04616706609,
                          4.098572888
                        ],
                        "iteration": 22,
                        "passed_time": 45.37819038,
                        "remaining_time": 1532.993649,
                        "test": [
                          0.0395616052,
                          4.11586391
                        ]
                      },
                      {
                        "learn": [
                          0.0467040842,
                          4.096379689
                        ],
                        "iteration": 23,
                        "passed_time": 48.39606279,
                        "remaining_time": 1564.80603,
                        "test": [
                          0.03966368986,
                          4.114476858
                        ]
                      },
                      {
                        "learn": [
                          0.04712469615,
                          4.093551395
                        ],
                        "iteration": 24,
                        "passed_time": 50.2609289,
                        "remaining_time": 1558.088796,
                        "test": [
                          0.03952422759,
                          4.112950581
                        ]
                      },
                      {
                        "learn": [
                          0.05072516767,
                          4.09126938
                        ],
                        "iteration": 25,
                        "passed_time": 52.04751276,
                        "remaining_time": 1549.414418,
                        "test": [
                          0.04192587153,
                          4.111169218
                        ]
                      },
                      {
                        "learn": [
                          0.04912402844,
                          4.0887544
                        ],
                        "iteration": 26,
                        "passed_time": 53.84359006,
                        "remaining_time": 1541.522041,
                        "test": [
                          0.0420197629,
                          4.109521112
                        ]
                      },
                      {
                        "learn": [
                          0.0494512216,
                          4.086245508
                        ],
                        "iteration": 27,
                        "passed_time": 55.57985868,
                        "remaining_time": 1532.416104,
                        "test": [
                          0.04254166237,
                          4.107692305
                        ]
                      },
                      {
                        "learn": [
                          0.04828122912,
                          4.085146102
                        ],
                        "iteration": 28,
                        "passed_time": 57.3759906,
                        "remaining_time": 1525.409957,
                        "test": [
                          0.04084908497,
                          4.107179297
                        ]
                      },
                      {
                        "learn": [
                          0.04808396893,
                          4.083767539
                        ],
                        "iteration": 29,
                        "passed_time": 59.68973431,
                        "remaining_time": 1532.036514,
                        "test": [
                          0.04043360229,
                          4.106071515
                        ]
                      },
                      {
                        "learn": [
                          0.05098738088,
                          4.081039415
                        ],
                        "iteration": 30,
                        "passed_time": 62.10661584,
                        "remaining_time": 1540.644761,
                        "test": [
                          0.04240243987,
                          4.103836355
                        ]
                      },
                      {
                        "learn": [
                          0.04948735516,
                          4.079196217
                        ],
                        "iteration": 31,
                        "passed_time": 63.94167221,
                        "remaining_time": 1534.600133,
                        "test": [
                          0.04181351638,
                          4.102389151
                        ]
                      },
                      {
                        "learn": [
                          0.05133619778,
                          4.076540408
                        ],
                        "iteration": 32,
                        "passed_time": 65.76810337,
                        "remaining_time": 1528.61016,
                        "test": [
                          0.04333190363,
                          4.099898127
                        ]
                      },
                      {
                        "learn": [
                          0.05150647929,
                          4.074160665
                        ],
                        "iteration": 33,
                        "passed_time": 67.57454778,
                        "remaining_time": 1522.414812,
                        "test": [
                          0.0428070803,
                          4.097652901
                        ]
                      },
                      {
                        "learn": [
                          0.05212587566,
                          4.070730511
                        ],
                        "iteration": 34,
                        "passed_time": 69.38701015,
                        "remaining_time": 1516.601793,
                        "test": [
                          0.04280589143,
                          4.094854853
                        ]
                      },
                      {
                        "learn": [
                          0.05383488633,
                          4.068729684
                        ],
                        "iteration": 35,
                        "passed_time": 71.36309293,
                        "remaining_time": 1514.483417,
                        "test": [
                          0.04460359871,
                          4.092800606
                        ]
                      },
                      {
                        "learn": [
                          0.05402903619,
                          4.063222055
                        ],
                        "iteration": 36,
                        "passed_time": 74.14690275,
                        "remaining_time": 1529.029373,
                        "test": [
                          0.04535930434,
                          4.088498472
                        ]
                      },
                      {
                        "learn": [
                          0.05377978101,
                          4.061497834
                        ],
                        "iteration": 37,
                        "passed_time": 75.9300596,
                        "remaining_time": 1522.597511,
                        "test": [
                          0.04532788213,
                          4.087292814
                        ]
                      },
                      {
                        "learn": [
                          0.05620745091,
                          4.060346787
                        ],
                        "iteration": 38,
                        "passed_time": 77.7580441,
                        "remaining_time": 1517.278758,
                        "test": [
                          0.046360817,
                          4.086567167
                        ]
                      },
                      {
                        "learn": [
                          0.05985146216,
                          4.058909238
                        ],
                        "iteration": 39,
                        "passed_time": 79.59212291,
                        "remaining_time": 1512.250335,
                        "test": [
                          0.05062237149,
                          4.085075499
                        ]
                      },
                      {
                        "learn": [
                          0.06005661267,
                          4.05624584
                        ],
                        "iteration": 40,
                        "passed_time": 81.39758471,
                        "remaining_time": 1506.847971,
                        "test": [
                          0.05104388544,
                          4.082658148
                        ]
                      },
                      {
                        "learn": [
                          0.06091947784,
                          4.054933968
                        ],
                        "iteration": 41,
                        "passed_time": 83.2114489,
                        "remaining_time": 1501.76853,
                        "test": [
                          0.05191356997,
                          4.081750018
                        ]
                      },
                      {
                        "learn": [
                          0.0608937768,
                          4.053297583
                        ],
                        "iteration": 42,
                        "passed_time": 85.92326827,
                        "remaining_time": 1512.649165,
                        "test": [
                          0.05190781571,
                          4.08029272
                        ]
                      },
                      {
                        "learn": [
                          0.061019185,
                          4.051799241
                        ],
                        "iteration": 43,
                        "passed_time": 86.69810825,
                        "remaining_time": 1489.631133,
                        "test": [
                          0.05200751847,
                          4.079239984
                        ]
                      },
                      {
                        "learn": [
                          0.05961907716,
                          4.049950264
                        ],
                        "iteration": 44,
                        "passed_time": 88.47676151,
                        "remaining_time": 1484.443443,
                        "test": [
                          0.05140222149,
                          4.077530345
                        ]
                      },
                      {
                        "learn": [
                          0.06008606341,
                          4.048787436
                        ],
                        "iteration": 45,
                        "passed_time": 90.29303699,
                        "remaining_time": 1480.02065,
                        "test": [
                          0.05140222149,
                          4.076879735
                        ]
                      },
                      {
                        "learn": [
                          0.06080904567,
                          4.046383906
                        ],
                        "iteration": 46,
                        "passed_time": 92.01519711,
                        "remaining_time": 1474.200924,
                        "test": [
                          0.05185004002,
                          4.075115968
                        ]
                      },
                      {
                        "learn": [
                          0.06138629566,
                          4.04576341
                        ],
                        "iteration": 47,
                        "passed_time": 93.80353387,
                        "remaining_time": 1469.588697,
                        "test": [
                          0.05185004002,
                          4.074766041
                        ]
                      },
                      {
                        "learn": [
                          0.0611150242,
                          4.044098308
                        ],
                        "iteration": 48,
                        "passed_time": 95.56035042,
                        "remaining_time": 1464.608636,
                        "test": [
                          0.05170592856,
                          4.073635625
                        ]
                      },
                      {
                        "learn": [
                          0.06111169913,
                          4.041265794
                        ],
                        "iteration": 49,
                        "passed_time": 98.05182921,
                        "remaining_time": 1470.777438,
                        "test": [
                          0.05128211869,
                          4.071117182
                        ]
                      },
                      {
                        "learn": [
                          0.05837577316,
                          4.039318349
                        ],
                        "iteration": 50,
                        "passed_time": 100.1275764,
                        "remaining_time": 1470.501073,
                        "test": [
                          0.05104184326,
                          4.069414286
                        ]
                      },
                      {
                        "learn": [
                          0.06022693342,
                          4.037619417
                        ],
                        "iteration": 51,
                        "passed_time": 101.8608311,
                        "remaining_time": 1465.228879,
                        "test": [
                          0.05188351951,
                          4.068229614
                        ]
                      },
                      {
                        "learn": [
                          0.05963439324,
                          4.036209822
                        ],
                        "iteration": 52,
                        "passed_time": 103.6185881,
                        "remaining_time": 1460.435571,
                        "test": [
                          0.05148292839,
                          4.067319305
                        ]
                      },
                      {
                        "learn": [
                          0.06007094666,
                          4.03480891
                        ],
                        "iteration": 53,
                        "passed_time": 105.3874007,
                        "remaining_time": 1455.907425,
                        "test": [
                          0.0519573392,
                          4.066435514
                        ]
                      },
                      {
                        "learn": [
                          0.06046493682,
                          4.033464222
                        ],
                        "iteration": 54,
                        "passed_time": 107.2276778,
                        "remaining_time": 1452.447636,
                        "test": [
                          0.05195652999,
                          4.06540956
                        ]
                      },
                      {
                        "learn": [
                          0.06208806587,
                          4.032040933
                        ],
                        "iteration": 55,
                        "passed_time": 109.1877839,
                        "remaining_time": 1450.6377,
                        "test": [
                          0.0532556317,
                          4.06427765
                        ]
                      },
                      {
                        "learn": [
                          0.06215665095,
                          4.030946128
                        ],
                        "iteration": 56,
                        "passed_time": 111.9744734,
                        "remaining_time": 1459.597083,
                        "test": [
                          0.05332460995,
                          4.063402097
                        ]
                      },
                      {
                        "learn": [
                          0.06250180073,
                          4.029851377
                        ],
                        "iteration": 57,
                        "passed_time": 113.7870274,
                        "remaining_time": 1455.689212,
                        "test": [
                          0.0536130136,
                          4.0624986
                        ]
                      },
                      {
                        "learn": [
                          0.06607580225,
                          4.026517446
                        ],
                        "iteration": 58,
                        "passed_time": 115.5360659,
                        "remaining_time": 1451.054658,
                        "test": [
                          0.05645241412,
                          4.059750876
                        ]
                      },
                      {
                        "learn": [
                          0.06657609285,
                          4.025069544
                        ],
                        "iteration": 59,
                        "passed_time": 117.3121109,
                        "remaining_time": 1446.849368,
                        "test": [
                          0.05702265397,
                          4.058680886
                        ]
                      },
                      {
                        "learn": [
                          0.0678646896,
                          4.023258073
                        ],
                        "iteration": 60,
                        "passed_time": 119.109422,
                        "remaining_time": 1442.981358,
                        "test": [
                          0.05708900742,
                          4.057068618
                        ]
                      },
                      {
                        "learn": [
                          0.06750881979,
                          4.02206942
                        ],
                        "iteration": 61,
                        "passed_time": 120.9746178,
                        "remaining_time": 1439.988193,
                        "test": [
                          0.05708900742,
                          4.055780944
                        ]
                      },
                      {
                        "learn": [
                          0.06695598905,
                          4.020235204
                        ],
                        "iteration": 62,
                        "passed_time": 123.7998266,
                        "remaining_time": 1448.261463,
                        "test": [
                          0.05642940433,
                          4.054291703
                        ]
                      },
                      {
                        "learn": [
                          0.06639677411,
                          4.01881401
                        ],
                        "iteration": 63,
                        "passed_time": 125.86345,
                        "remaining_time": 1447.429675,
                        "test": [
                          0.05602389325,
                          4.053209993
                        ]
                      },
                      {
                        "learn": [
                          0.06667278601,
                          4.01811551
                        ],
                        "iteration": 64,
                        "passed_time": 127.8242257,
                        "remaining_time": 1445.397013,
                        "test": [
                          0.05656836942,
                          4.052510494
                        ]
                      },
                      {
                        "learn": [
                          0.06540046828,
                          4.017472859
                        ],
                        "iteration": 65,
                        "passed_time": 129.6323452,
                        "remaining_time": 1441.668809,
                        "test": [
                          0.05658794415,
                          4.051882919
                        ]
                      },
                      {
                        "learn": [
                          0.0636223878,
                          4.016679385
                        ],
                        "iteration": 66,
                        "passed_time": 131.4465155,
                        "remaining_time": 1438.064117,
                        "test": [
                          0.05497392975,
                          4.051223795
                        ]
                      },
                      {
                        "learn": [
                          0.06496135521,
                          4.013958557
                        ],
                        "iteration": 67,
                        "passed_time": 133.2730766,
                        "remaining_time": 1434.645472,
                        "test": [
                          0.05545909479,
                          4.049373009
                        ]
                      },
                      {
                        "learn": [
                          0.06737207403,
                          4.012534701
                        ],
                        "iteration": 68,
                        "passed_time": 135.7189374,
                        "remaining_time": 1437.83396,
                        "test": [
                          0.05612864736,
                          4.048214867
                        ]
                      },
                      {
                        "learn": [
                          0.06595902326,
                          4.010240786
                        ],
                        "iteration": 69,
                        "passed_time": 138.0787215,
                        "remaining_time": 1439.96381,
                        "test": [
                          0.05579690225,
                          4.046509763
                        ]
                      },
                      {
                        "learn": [
                          0.067278548,
                          4.00901398
                        ],
                        "iteration": 70,
                        "passed_time": 139.963375,
                        "remaining_time": 1437.088738,
                        "test": [
                          0.05664556251,
                          4.045142238
                        ]
                      },
                      {
                        "learn": [
                          0.06740783678,
                          4.007987335
                        ],
                        "iteration": 71,
                        "passed_time": 141.7673169,
                        "remaining_time": 1433.425093,
                        "test": [
                          0.05677116616,
                          4.044380058
                        ]
                      },
                      {
                        "learn": [
                          0.0679149626,
                          4.006831819
                        ],
                        "iteration": 72,
                        "passed_time": 143.5546631,
                        "remaining_time": 1429.647124,
                        "test": [
                          0.05678075275,
                          4.043644618
                        ]
                      },
                      {
                        "learn": [
                          0.06891876896,
                          4.005860948
                        ],
                        "iteration": 73,
                        "passed_time": 145.3810145,
                        "remaining_time": 1426.305628,
                        "test": [
                          0.05764586684,
                          4.042783281
                        ]
                      },
                      {
                        "learn": [
                          0.06762570196,
                          4.004489123
                        ],
                        "iteration": 74,
                        "passed_time": 147.4510009,
                        "remaining_time": 1425.359675,
                        "test": [
                          0.05755789824,
                          4.041950217
                        ]
                      },
                      {
                        "learn": [
                          0.06908728563,
                          4.003501018
                        ],
                        "iteration": 75,
                        "passed_time": 150.1765992,
                        "remaining_time": 1430.629708,
                        "test": [
                          0.05992886566,
                          4.040809743
                        ]
                      },
                      {
                        "learn": [
                          0.06972302775,
                          4.002414633
                        ],
                        "iteration": 76,
                        "passed_time": 152.0042985,
                        "remaining_time": 1427.26114,
                        "test": [
                          0.05907778086,
                          4.039631758
                        ]
                      },
                      {
                        "learn": [
                          0.06960922333,
                          4.001007319
                        ],
                        "iteration": 77,
                        "passed_time": 153.8492094,
                        "remaining_time": 1424.0914,
                        "test": [
                          0.05849247301,
                          4.038333207
                        ]
                      },
                      {
                        "learn": [
                          0.06961827109,
                          3.999971508
                        ],
                        "iteration": 78,
                        "passed_time": 155.6391881,
                        "remaining_time": 1420.453856,
                        "test": [
                          0.05850269225,
                          4.03745236
                        ]
                      },
                      {
                        "learn": [
                          0.07093656508,
                          3.998003205
                        ],
                        "iteration": 79,
                        "passed_time": 157.4174448,
                        "remaining_time": 1416.757003,
                        "test": [
                          0.05983530372,
                          4.036138908
                        ]
                      },
                      {
                        "learn": [
                          0.07415164815,
                          3.996335655
                        ],
                        "iteration": 80,
                        "passed_time": 159.201419,
                        "remaining_time": 1413.158275,
                        "test": [
                          0.06117888652,
                          4.0350231
                        ]
                      },
                      {
                        "learn": [
                          0.07496952325,
                          3.995083518
                        ],
                        "iteration": 81,
                        "passed_time": 162.0414303,
                        "remaining_time": 1418.850573,
                        "test": [
                          0.06207951297,
                          4.033494388
                        ]
                      },
                      {
                        "learn": [
                          0.07253640534,
                          3.992842933
                        ],
                        "iteration": 82,
                        "passed_time": 163.8827177,
                        "remaining_time": 1415.709742,
                        "test": [
                          0.06049724471,
                          4.031987172
                        ]
                      },
                      {
                        "learn": [
                          0.07383762015,
                          3.991963275
                        ],
                        "iteration": 83,
                        "passed_time": 165.6312098,
                        "remaining_time": 1411.808884,
                        "test": [
                          0.06042802761,
                          4.031630671
                        ]
                      },
                      {
                        "learn": [
                          0.07348710056,
                          3.990878155
                        ],
                        "iteration": 84,
                        "passed_time": 167.3836328,
                        "remaining_time": 1407.991735,
                        "test": [
                          0.06102735093,
                          4.030639185
                        ]
                      },
                      {
                        "learn": [
                          0.07180845823,
                          3.989066326
                        ],
                        "iteration": 85,
                        "passed_time": 169.0820935,
                        "remaining_time": 1403.77459,
                        "test": [
                          0.05963112492,
                          4.029171585
                        ]
                      },
                      {
                        "learn": [
                          0.07304086938,
                          3.988219945
                        ],
                        "iteration": 86,
                        "passed_time": 170.8552999,
                        "remaining_time": 1400.227918,
                        "test": [
                          0.05985801911,
                          4.028319301
                        ]
                      },
                      {
                        "learn": [
                          0.07148682891,
                          3.986535089
                        ],
                        "iteration": 87,
                        "passed_time": 172.7981078,
                        "remaining_time": 1398.093781,
                        "test": [
                          0.05934988172,
                          4.027002307
                        ]
                      },
                      {
                        "learn": [
                          0.07134416168,
                          3.985896041
                        ],
                        "iteration": 88,
                        "passed_time": 175.4273458,
                        "remaining_time": 1401.447672,
                        "test": [
                          0.06006674856,
                          4.026606647
                        ]
                      },
                      {
                        "learn": [
                          0.07140810933,
                          3.985244746
                        ],
                        "iteration": 89,
                        "passed_time": 177.2064301,
                        "remaining_time": 1397.961837,
                        "test": [
                          0.06008731777,
                          4.025933509
                        ]
                      },
                      {
                        "learn": [
                          0.07391951635,
                          3.984435362
                        ],
                        "iteration": 90,
                        "passed_time": 178.9662238,
                        "remaining_time": 1394.363216,
                        "test": [
                          0.06267393019,
                          4.025021404
                        ]
                      },
                      {
                        "learn": [
                          0.0754802864,
                          3.983880578
                        ],
                        "iteration": 91,
                        "passed_time": 180.7176573,
                        "remaining_time": 1390.740232,
                        "test": [
                          0.06463636048,
                          4.024462621
                        ]
                      },
                      {
                        "learn": [
                          0.07569650643,
                          3.98341322
                        ],
                        "iteration": 92,
                        "passed_time": 181.1874788,
                        "remaining_time": 1377.41449,
                        "test": [
                          0.06465280481,
                          4.024255687
                        ]
                      },
                      {
                        "learn": [
                          0.07574289401,
                          3.981774561
                        ],
                        "iteration": 93,
                        "passed_time": 182.9094493,
                        "remaining_time": 1373.766715,
                        "test": [
                          0.06577586387,
                          4.022700831
                        ]
                      },
                      {
                        "learn": [
                          0.07610780849,
                          3.980441165
                        ],
                        "iteration": 94,
                        "passed_time": 184.6893103,
                        "remaining_time": 1370.589092,
                        "test": [
                          0.06642777408,
                          4.021121951
                        ]
                      },
                      {
                        "learn": [
                          0.07945119312,
                          3.978908355
                        ],
                        "iteration": 95,
                        "passed_time": 187.5281206,
                        "remaining_time": 1375.206218,
                        "test": [
                          0.06857041115,
                          4.019702216
                        ]
                      },
                      {
                        "learn": [
                          0.07915155332,
                          3.978251598
                        ],
                        "iteration": 96,
                        "passed_time": 189.3108679,
                        "remaining_time": 1372.015877,
                        "test": [
                          0.06833138183,
                          4.019060805
                        ]
                      },
                      {
                        "learn": [
                          0.07814909232,
                          3.977605564
                        ],
                        "iteration": 97,
                        "passed_time": 191.0551711,
                        "remaining_time": 1368.578878,
                        "test": [
                          0.06756823542,
                          4.018499813
                        ]
                      },
                      {
                        "learn": [
                          0.08148943845,
                          3.975659683
                        ],
                        "iteration": 98,
                        "passed_time": 192.8434055,
                        "remaining_time": 1365.487144,
                        "test": [
                          0.06964265121,
                          4.016649798
                        ]
                      },
                      {
                        "learn": [
                          0.08246605853,
                          3.974801643
                        ],
                        "iteration": 99,
                        "passed_time": 194.5660357,
                        "remaining_time": 1361.96225,
                        "test": [
                          0.07060105752,
                          4.016000589
                        ]
                      },
                      {
                        "learn": [
                          0.08351724799,
                          3.973805256
                        ],
                        "iteration": 100,
                        "passed_time": 196.3239047,
                        "remaining_time": 1358.716924,
                        "test": [
                          0.07141398595,
                          4.014965344
                        ]
                      },
                      {
                        "learn": [
                          0.0836813198,
                          3.972236108
                        ],
                        "iteration": 101,
                        "passed_time": 198.4671701,
                        "remaining_time": 1358.138086,
                        "test": [
                          0.07123945147,
                          4.013763877
                        ]
                      },
                      {
                        "learn": [
                          0.08636647097,
                          3.97046434
                        ],
                        "iteration": 102,
                        "passed_time": 200.9902865,
                        "remaining_time": 1360.099317,
                        "test": [
                          0.07423914138,
                          4.012256037
                        ]
                      },
                      {
                        "learn": [
                          0.08569245425,
                          3.969322521
                        ],
                        "iteration": 103,
                        "passed_time": 202.7037061,
                        "remaining_time": 1356.555572,
                        "test": [
                          0.0722288038,
                          4.011303181
                        ]
                      },
                      {
                        "learn": [
                          0.08487682289,
                          3.968506649
                        ],
                        "iteration": 104,
                        "passed_time": 204.504461,
                        "remaining_time": 1353.624765,
                        "test": [
                          0.07166461086,
                          4.010541034
                        ]
                      },
                      {
                        "learn": [
                          0.08432634817,
                          3.96760728
                        ],
                        "iteration": 105,
                        "passed_time": 206.3186985,
                        "remaining_time": 1350.803554,
                        "test": [
                          0.0714089918,
                          4.009707147
                        ]
                      },
                      {
                        "learn": [
                          0.08508554987,
                          3.965471319
                        ],
                        "iteration": 106,
                        "passed_time": 208.0292811,
                        "remaining_time": 1347.32983,
                        "test": [
                          0.07193875379,
                          4.008316121
                        ]
                      },
                      {
                        "learn": [
                          0.085203029,
                          3.964820289
                        ],
                        "iteration": 107,
                        "passed_time": 209.7753738,
                        "remaining_time": 1344.116284,
                        "test": [
                          0.07205471538,
                          4.007582388
                        ]
                      },
                      {
                        "learn": [
                          0.08623984404,
                          3.963789758
                        ],
                        "iteration": 108,
                        "passed_time": 212.5984167,
                        "remaining_time": 1347.756935,
                        "test": [
                          0.07326759794,
                          4.006811718
                        ]
                      },
                      {
                        "learn": [
                          0.08645757963,
                          3.962687102
                        ],
                        "iteration": 109,
                        "passed_time": 214.3086761,
                        "remaining_time": 1344.299878,
                        "test": [
                          0.07326759794,
                          4.006105333
                        ]
                      },
                      {
                        "learn": [
                          0.08682674645,
                          3.961417112
                        ],
                        "iteration": 110,
                        "passed_time": 216.005483,
                        "remaining_time": 1340.790791,
                        "test": [
                          0.07367255652,
                          4.005261905
                        ]
                      },
                      {
                        "learn": [
                          0.08717073205,
                          3.960303254
                        ],
                        "iteration": 111,
                        "passed_time": 217.7694257,
                        "remaining_time": 1337.726472,
                        "test": [
                          0.07479489859,
                          4.0041789
                        ]
                      },
                      {
                        "learn": [
                          0.08669470652,
                          3.959543249
                        ],
                        "iteration": 112,
                        "passed_time": 219.4752391,
                        "remaining_time": 1334.331763,
                        "test": [
                          0.07445203202,
                          4.003681271
                        ]
                      },
                      {
                        "learn": [
                          0.08717038949,
                          3.958471282
                        ],
                        "iteration": 113,
                        "passed_time": 221.2190212,
                        "remaining_time": 1331.195163,
                        "test": [
                          0.0747939948,
                          4.002903399
                        ]
                      },
                      {
                        "learn": [
                          0.08815221635,
                          3.957608225
                        ],
                        "iteration": 114,
                        "passed_time": 223.1504956,
                        "remaining_time": 1329.200778,
                        "test": [
                          0.07538232159,
                          4.002039367
                        ]
                      },
                      {
                        "learn": [
                          0.08783773219,
                          3.956719728
                        ],
                        "iteration": 115,
                        "passed_time": 225.80587,
                        "remaining_time": 1331.475992,
                        "test": [
                          0.07532983404,
                          4.001442275
                        ]
                      },
                      {
                        "learn": [
                          0.0884178428,
                          3.955941892
                        ],
                        "iteration": 116,
                        "passed_time": 227.5597926,
                        "remaining_time": 1328.404601,
                        "test": [
                          0.07649014526,
                          4.000841542
                        ]
                      },
                      {
                        "learn": [
                          0.0883837199,
                          3.955415179
                        ],
                        "iteration": 117,
                        "passed_time": 229.2704548,
                        "remaining_time": 1325.10551,
                        "test": [
                          0.07666925423,
                          4.000415537
                        ]
                      },
                      {
                        "learn": [
                          0.08827186271,
                          3.954719982
                        ],
                        "iteration": 118,
                        "passed_time": 231.0004527,
                        "remaining_time": 1321.943767,
                        "test": [
                          0.07661269375,
                          3.99999349
                        ]
                      },
                      {
                        "learn": [
                          0.08894619762,
                          3.953826556
                        ],
                        "iteration": 119,
                        "passed_time": 232.755476,
                        "remaining_time": 1318.947697,
                        "test": [
                          0.07714653764,
                          3.998914049
                        ]
                      },
                      {
                        "learn": [
                          0.09034650599,
                          3.953221491
                        ],
                        "iteration": 120,
                        "passed_time": 233.4008394,
                        "remaining_time": 1309.745206,
                        "test": [
                          0.07765843926,
                          3.998644724
                        ]
                      },
                      {
                        "learn": [
                          0.09140607431,
                          3.952236763
                        ],
                        "iteration": 121,
                        "passed_time": 235.1339463,
                        "remaining_time": 1306.727996,
                        "test": [
                          0.07793580762,
                          3.998148926
                        ]
                      },
                      {
                        "learn": [
                          0.0923690465,
                          3.951203625
                        ],
                        "iteration": 122,
                        "passed_time": 237.9407793,
                        "remaining_time": 1309.641525,
                        "test": [
                          0.07825173561,
                          3.997573733
                        ]
                      },
                      {
                        "learn": [
                          0.09348722449,
                          3.950138022
                        ],
                        "iteration": 123,
                        "passed_time": 239.6409145,
                        "remaining_time": 1306.429502,
                        "test": [
                          0.07817864353,
                          3.99706466
                        ]
                      },
                      {
                        "learn": [
                          0.094260147,
                          3.949252985
                        ],
                        "iteration": 124,
                        "passed_time": 241.3754003,
                        "remaining_time": 1303.427161,
                        "test": [
                          0.0786401937,
                          3.996275977
                        ]
                      },
                      {
                        "learn": [
                          0.09527322861,
                          3.948496294
                        ],
                        "iteration": 125,
                        "passed_time": 243.1535586,
                        "remaining_time": 1300.67856,
                        "test": [
                          0.07961159,
                          3.995625946
                        ]
                      },
                      {
                        "learn": [
                          0.09614987358,
                          3.94730706
                        ],
                        "iteration": 126,
                        "passed_time": 244.9162621,
                        "remaining_time": 1297.863342,
                        "test": [
                          0.0800809531,
                          3.994898261
                        ]
                      },
                      {
                        "learn": [
                          0.09626240389,
                          3.946528233
                        ],
                        "iteration": 127,
                        "passed_time": 246.6522065,
                        "remaining_time": 1294.924084,
                        "test": [
                          0.0801478299,
                          3.994163472
                        ]
                      },
                      {
                        "learn": [
                          0.0957552549,
                          3.946164435
                        ],
                        "iteration": 128,
                        "passed_time": 247.3032397,
                        "remaining_time": 1286.360263,
                        "test": [
                          0.07927596452,
                          3.993785129
                        ]
                      },
                      {
                        "learn": [
                          0.09675707205,
                          3.945334473
                        ],
                        "iteration": 129,
                        "passed_time": 249.9689571,
                        "remaining_time": 1288.301548,
                        "test": [
                          0.08017062464,
                          3.99306359
                        ]
                      },
                      {
                        "learn": [
                          0.09585427159,
                          3.944565335
                        ],
                        "iteration": 130,
                        "passed_time": 251.884449,
                        "remaining_time": 1286.341194,
                        "test": [
                          0.07975433724,
                          3.992648644
                        ]
                      },
                      {
                        "learn": [
                          0.09724259208,
                          3.9434788
                        ],
                        "iteration": 131,
                        "passed_time": 253.5864568,
                        "remaining_time": 1283.30116,
                        "test": [
                          0.08128832034,
                          3.991997764
                        ]
                      },
                      {
                        "learn": [
                          0.09703896703,
                          3.942541981
                        ],
                        "iteration": 132,
                        "passed_time": 255.2973111,
                        "remaining_time": 1280.325613,
                        "test": [
                          0.08176184151,
                          3.991371909
                        ]
                      },
                      {
                        "learn": [
                          0.09656050558,
                          3.942105717
                        ],
                        "iteration": 133,
                        "passed_time": 257.0120651,
                        "remaining_time": 1277.388323,
                        "test": [
                          0.08089895945,
                          3.991230947
                        ]
                      },
                      {
                        "learn": [
                          0.09518623096,
                          3.941182842
                        ],
                        "iteration": 134,
                        "passed_time": 258.701822,
                        "remaining_time": 1274.346012,
                        "test": [
                          0.07966520251,
                          3.990397231
                        ]
                      },
                      {
                        "learn": [
                          0.09627511142,
                          3.939726157
                        ],
                        "iteration": 135,
                        "passed_time": 260.6527366,
                        "remaining_time": 1272.598655,
                        "test": [
                          0.08002676164,
                          3.989177693
                        ]
                      },
                      {
                        "learn": [
                          0.09627774292,
                          3.938970938
                        ],
                        "iteration": 136,
                        "passed_time": 263.2222756,
                        "remaining_time": 1273.842107,
                        "test": [
                          0.08002868499,
                          3.988350085
                        ]
                      },
                      {
                        "learn": [
                          0.09588456173,
                          3.938231927
                        ],
                        "iteration": 137,
                        "passed_time": 264.9442582,
                        "remaining_time": 1270.964485,
                        "test": [
                          0.08001256311,
                          3.987764208
                        ]
                      },
                      {
                        "learn": [
                          0.09699521898,
                          3.937078663
                        ],
                        "iteration": 138,
                        "passed_time": 266.69841,
                        "remaining_time": 1268.256468,
                        "test": [
                          0.08095310723,
                          3.986828903
                        ]
                      },
                      {
                        "learn": [
                          0.0982610036,
                          3.936582416
                        ],
                        "iteration": 139,
                        "passed_time": 268.3534983,
                        "remaining_time": 1265.095063,
                        "test": [
                          0.08163979345,
                          3.986430227
                        ]
                      },
                      {
                        "learn": [
                          0.09879232956,
                          3.935633813
                        ],
                        "iteration": 140,
                        "passed_time": 270.0749284,
                        "remaining_time": 1262.265091,
                        "test": [
                          0.08165693307,
                          3.985906614
                        ]
                      },
                      {
                        "learn": [
                          0.09885307991,
                          3.93467994
                        ],
                        "iteration": 141,
                        "passed_time": 271.7559132,
                        "remaining_time": 1259.263316,
                        "test": [
                          0.08165825671,
                          3.984956614
                        ]
                      },
                      {
                        "learn": [
                          0.09983651855,
                          3.933924993
                        ],
                        "iteration": 142,
                        "passed_time": 274.0169767,
                        "remaining_time": 1258.945131,
                        "test": [
                          0.08217573484,
                          3.984689475
                        ]
                      },
                      {
                        "learn": [
                          0.09986115341,
                          3.933158413
                        ],
                        "iteration": 143,
                        "passed_time": 276.2361415,
                        "remaining_time": 1258.409089,
                        "test": [
                          0.08217573484,
                          3.984303687
                        ]
                      },
                      {
                        "learn": [
                          0.1014783452,
                          3.93128342
                        ],
                        "iteration": 144,
                        "passed_time": 277.9061848,
                        "remaining_time": 1255.369318,
                        "test": [
                          0.08393076171,
                          3.982987136
                        ]
                      },
                      {
                        "learn": [
                          0.1019167452,
                          3.930498912
                        ],
                        "iteration": 145,
                        "passed_time": 279.5483061,
                        "remaining_time": 1252.223234,
                        "test": [
                          0.08518494994,
                          3.982039103
                        ]
                      },
                      {
                        "learn": [
                          0.1032983058,
                          3.929583612
                        ],
                        "iteration": 146,
                        "passed_time": 281.2461154,
                        "remaining_time": 1249.344989,
                        "test": [
                          0.08603517235,
                          3.981427235
                        ]
                      },
                      {
                        "learn": [
                          0.1025539853,
                          3.928759187
                        ],
                        "iteration": 147,
                        "passed_time": 282.9516304,
                        "remaining_time": 1246.516642,
                        "test": [
                          0.08480467269,
                          3.980881042
                        ]
                      },
                      {
                        "learn": [
                          0.1047300724,
                          3.927810048
                        ],
                        "iteration": 148,
                        "passed_time": 284.655578,
                        "remaining_time": 1243.696519,
                        "test": [
                          0.08704304841,
                          3.979636818
                        ]
                      },
                      {
                        "learn": [
                          0.105653473,
                          3.927349989
                        ],
                        "iteration": 149,
                        "passed_time": 287.4016384,
                        "remaining_time": 1245.4071,
                        "test": [
                          0.0888022446,
                          3.979165162
                        ]
                      },
                      {
                        "learn": [
                          0.106144772,
                          3.926361878
                        ],
                        "iteration": 150,
                        "passed_time": 289.1339652,
                        "remaining_time": 1242.701612,
                        "test": [
                          0.0893933888,
                          3.978205313
                        ]
                      },
                      {
                        "learn": [
                          0.1081994094,
                          3.925446516
                        ],
                        "iteration": 151,
                        "passed_time": 290.8204871,
                        "remaining_time": 1239.813656,
                        "test": [
                          0.09168456814,
                          3.977367516
                        ]
                      },
                      {
                        "learn": [
                          0.108072211,
                          3.924862312
                        ],
                        "iteration": 152,
                        "passed_time": 292.520452,
                        "remaining_time": 1236.998251,
                        "test": [
                          0.09208328773,
                          3.976878217
                        ]
                      },
                      {
                        "learn": [
                          0.1078164227,
                          3.924329091
                        ],
                        "iteration": 153,
                        "passed_time": 294.1882553,
                        "remaining_time": 1234.062422,
                        "test": [
                          0.09154800594,
                          3.976580611
                        ]
                      },
                      {
                        "learn": [
                          0.1074662142,
                          3.923163215
                        ],
                        "iteration": 154,
                        "passed_time": 295.8452505,
                        "remaining_time": 1231.097978,
                        "test": [
                          0.09053199902,
                          3.975913391
                        ]
                      },
                      {
                        "learn": [
                          0.1074875621,
                          3.921990871
                        ],
                        "iteration": 155,
                        "passed_time": 297.5830616,
                        "remaining_time": 1228.483921,
                        "test": [
                          0.09130705147,
                          3.975114907
                        ]
                      },
                      {
                        "learn": [
                          0.1084640634,
                          3.921435408
                        ],
                        "iteration": 156,
                        "passed_time": 300.353789,
                        "remaining_time": 1230.111378,
                        "test": [
                          0.09180818254,
                          3.974615969
                        ]
                      },
                      {
                        "learn": [
                          0.1085211812,
                          3.920840824
                        ],
                        "iteration": 157,
                        "passed_time": 302.1307591,
                        "remaining_time": 1227.645236,
                        "test": [
                          0.09182402702,
                          3.974391199
                        ]
                      },
                      {
                        "learn": [
                          0.1070358455,
                          3.919827909
                        ],
                        "iteration": 158,
                        "passed_time": 303.838734,
                        "remaining_time": 1224.909613,
                        "test": [
                          0.08984536842,
                          3.973860297
                        ]
                      },
                      {
                        "learn": [
                          0.108356518,
                          3.919044199
                        ],
                        "iteration": 159,
                        "passed_time": 305.5063531,
                        "remaining_time": 1222.025412,
                        "test": [
                          0.09083348356,
                          3.973388231
                        ]
                      },
                      {
                        "learn": [
                          0.1072364778,
                          3.918277368
                        ],
                        "iteration": 160,
                        "passed_time": 307.2468614,
                        "remaining_time": 1219.445618,
                        "test": [
                          0.08997886295,
                          3.973035568
                        ]
                      },
                      {
                        "learn": [
                          0.1062796666,
                          3.917618438
                        ],
                        "iteration": 161,
                        "passed_time": 308.9540807,
                        "remaining_time": 1216.745083,
                        "test": [
                          0.08868527742,
                          3.972561841
                        ]
                      },
                      {
                        "learn": [
                          0.1077892572,
                          3.916920772
                        ],
                        "iteration": 162,
                        "passed_time": 311.0217479,
                        "remaining_time": 1215.465358,
                        "test": [
                          0.08994624806,
                          3.97205545
                        ]
                      },
                      {
                        "learn": [
                          0.1077695249,
                          3.916381831
                        ],
                        "iteration": 163,
                        "passed_time": 312.7266427,
                        "remaining_time": 1212.769176,
                        "test": [
                          0.08959869877,
                          3.971594734
                        ]
                      },
                      {
                        "learn": [
                          0.1064963834,
                          3.915289017
                        ],
                        "iteration": 164,
                        "passed_time": 314.5179914,
                        "remaining_time": 1210.417724,
                        "test": [
                          0.08790340717,
                          3.971171814
                        ]
                      },
                      {
                        "learn": [
                          0.1076152451,
                          3.914576648
                        ],
                        "iteration": 165,
                        "passed_time": 316.2131049,
                        "remaining_time": 1207.705473,
                        "test": [
                          0.0881150087,
                          3.970818267
                        ]
                      },
                      {
                        "learn": [
                          0.108657497,
                          3.913762288
                        ],
                        "iteration": 166,
                        "passed_time": 317.8960962,
                        "remaining_time": 1204.959455,
                        "test": [
                          0.08882274235,
                          3.970363476
                        ]
                      },
                      {
                        "learn": [
                          0.1087268372,
                          3.913332354
                        ],
                        "iteration": 167,
                        "passed_time": 319.637756,
                        "remaining_time": 1202.446797,
                        "test": [
                          0.08920101181,
                          3.96987295
                        ]
                      },
                      {
                        "learn": [
                          0.1089888154,
                          3.912530567
                        ],
                        "iteration": 168,
                        "passed_time": 321.3268459,
                        "remaining_time": 1199.746981,
                        "test": [
                          0.08948947425,
                          3.96911552
                        ]
                      },
                      {
                        "learn": [
                          0.1072742636,
                          3.911568243
                        ],
                        "iteration": 169,
                        "passed_time": 323.3150065,
                        "remaining_time": 1198.167377,
                        "test": [
                          0.08947184148,
                          3.968306647
                        ]
                      },
                      {
                        "learn": [
                          0.1073883992,
                          3.911180375
                        ],
                        "iteration": 170,
                        "passed_time": 325.8521245,
                        "remaining_time": 1198.602259,
                        "test": [
                          0.08920404973,
                          3.968094332
                        ]
                      },
                      {
                        "learn": [
                          0.1078588272,
                          3.910237504
                        ],
                        "iteration": 171,
                        "passed_time": 327.555799,
                        "remaining_time": 1195.959545,
                        "test": [
                          0.08914217877,
                          3.967547501
                        ]
                      },
                      {
                        "learn": [
                          0.1090561246,
                          3.909153632
                        ],
                        "iteration": 172,
                        "passed_time": 329.2710354,
                        "remaining_time": 1193.369591,
                        "test": [
                          0.08912081813,
                          3.96660904
                        ]
                      },
                      {
                        "learn": [
                          0.1079850873,
                          3.908754049
                        ],
                        "iteration": 173,
                        "passed_time": 330.9757818,
                        "remaining_time": 1190.751951,
                        "test": [
                          0.08835361575,
                          3.966122816
                        ]
                      },
                      {
                        "learn": [
                          0.109784487,
                          3.908205968
                        ],
                        "iteration": 174,
                        "passed_time": 332.7397559,
                        "remaining_time": 1188.356271,
                        "test": [
                          0.08992986589,
                          3.965559745
                        ]
                      },
                      {
                        "learn": [
                          0.1085784726,
                          3.907341059
                        ],
                        "iteration": 175,
                        "passed_time": 334.4537621,
                        "remaining_time": 1185.790611,
                        "test": [
                          0.08958898979,
                          3.964630482
                        ]
                      },
                      {
                        "learn": [
                          0.1099745109,
                          3.906375252
                        ],
                        "iteration": 176,
                        "passed_time": 336.7106243,
                        "remaining_time": 1185.145305,
                        "test": [
                          0.09065103043,
                          3.963923634
                        ]
                      },
                      {
                        "learn": [
                          0.1104240803,
                          3.905619969
                        ],
                        "iteration": 177,
                        "passed_time": 338.950207,
                        "remaining_time": 1184.42151,
                        "test": [
                          0.09077814865,
                          3.96358347
                        ]
                      },
                      {
                        "learn": [
                          0.110225434,
                          3.904608283
                        ],
                        "iteration": 178,
                        "passed_time": 340.7126195,
                        "remaining_time": 1182.025345,
                        "test": [
                          0.09077722866,
                          3.962789227
                        ]
                      },
                      {
                        "learn": [
                          0.110536542,
                          3.904081298
                        ],
                        "iteration": 179,
                        "passed_time": 342.4120442,
                        "remaining_time": 1179.419263,
                        "test": [
                          0.09128994002,
                          3.962350579
                        ]
                      },
                      {
                        "learn": [
                          0.1104941259,
                          3.903611421
                        ],
                        "iteration": 180,
                        "passed_time": 344.126381,
                        "remaining_time": 1176.874198,
                        "test": [
                          0.09056680662,
                          3.962029765
                        ]
                      },
                      {
                        "learn": [
                          0.1118746724,
                          3.902701544
                        ],
                        "iteration": 181,
                        "passed_time": 345.8939048,
                        "remaining_time": 1174.518864,
                        "test": [
                          0.09157953565,
                          3.961405705
                        ]
                      },
                      {
                        "learn": [
                          0.1136836142,
                          3.902264427
                        ],
                        "iteration": 182,
                        "passed_time": 347.6060761,
                        "remaining_time": 1171.983328,
                        "test": [
                          0.0926880477,
                          3.961173834
                        ]
                      },
                      {
                        "learn": [
                          0.1138778433,
                          3.901095609
                        ],
                        "iteration": 183,
                        "passed_time": 350.38144,
                        "remaining_time": 1173.016125,
                        "test": [
                          0.09289275092,
                          3.960429138
                        ]
                      },
                      {
                        "learn": [
                          0.1147189107,
                          3.899939761
                        ],
                        "iteration": 184,
                        "passed_time": 352.2530927,
                        "remaining_time": 1171.003524,
                        "test": [
                          0.0933192494,
                          3.959766012
                        ]
                      },
                      {
                        "learn": [
                          0.1147026321,
                          3.898951142
                        ],
                        "iteration": 185,
                        "passed_time": 355.5156172,
                        "remaining_time": 1173.583812,
                        "test": [
                          0.09361264915,
                          3.958791912
                        ]
                      },
                      {
                        "learn": [
                          0.1154366988,
                          3.898239149
                        ],
                        "iteration": 186,
                        "passed_time": 357.2660116,
                        "remaining_time": 1171.144733,
                        "test": [
                          0.09439256108,
                          3.958117676
                        ]
                      },
                      {
                        "learn": [
                          0.1159868283,
                          3.89720095
                        ],
                        "iteration": 187,
                        "passed_time": 358.9312674,
                        "remaining_time": 1168.435828,
                        "test": [
                          0.09455257629,
                          3.957396308
                        ]
                      },
                      {
                        "learn": [
                          0.1169557669,
                          3.896112006
                        ],
                        "iteration": 188,
                        "passed_time": 360.7649127,
                        "remaining_time": 1166.282337,
                        "test": [
                          0.09524649073,
                          3.956726288
                        ]
                      },
                      {
                        "learn": [
                          0.116390663,
                          3.895629079
                        ],
                        "iteration": 189,
                        "passed_time": 363.4328844,
                        "remaining_time": 1166.81084,
                        "test": [
                          0.09459212797,
                          3.956406035
                        ]
                      },
                      {
                        "learn": [
                          0.1167635654,
                          3.895129877
                        ],
                        "iteration": 190,
                        "passed_time": 365.0960624,
                        "remaining_time": 1164.102105,
                        "test": [
                          0.09571400164,
                          3.955898822
                        ]
                      },
                      {
                        "learn": [
                          0.1183745723,
                          3.894540354
                        ],
                        "iteration": 191,
                        "passed_time": 366.9023952,
                        "remaining_time": 1161.857585,
                        "test": [
                          0.09622816818,
                          3.955743996
                        ]
                      },
                      {
                        "learn": [
                          0.1186731708,
                          3.89341485
                        ],
                        "iteration": 192,
                        "passed_time": 368.5906196,
                        "remaining_time": 1159.246146,
                        "test": [
                          0.09703821968,
                          3.954954686
                        ]
                      },
                      {
                        "learn": [
                          0.1179920879,
                          3.892585278
                        ],
                        "iteration": 193,
                        "passed_time": 370.2826071,
                        "remaining_time": 1156.655979,
                        "test": [
                          0.0970460158,
                          3.9541569
                        ]
                      },
                      {
                        "learn": [
                          0.1180840506,
                          3.892033746
                        ],
                        "iteration": 194,
                        "passed_time": 371.9986533,
                        "remaining_time": 1154.149668,
                        "test": [
                          0.09708088507,
                          3.9537295
                        ]
                      },
                      {
                        "learn": [
                          0.1183776386,
                          3.891114201
                        ],
                        "iteration": 195,
                        "passed_time": 374.2718404,
                        "remaining_time": 1153.368324,
                        "test": [
                          0.09839639764,
                          3.952788957
                        ]
                      },
                      {
                        "learn": [
                          0.1185508127,
                          3.889852277
                        ],
                        "iteration": 196,
                        "passed_time": 376.5248206,
                        "remaining_time": 1152.509984,
                        "test": [
                          0.09885792444,
                          3.951492775
                        ]
                      },
                      {
                        "learn": [
                          0.1189060684,
                          3.888707024
                        ],
                        "iteration": 197,
                        "passed_time": 378.2321425,
                        "remaining_time": 1149.978534,
                        "test": [
                          0.09879973705,
                          3.950593598
                        ]
                      },
                      {
                        "learn": [
                          0.1181891126,
                          3.88773304
                        ],
                        "iteration": 198,
                        "passed_time": 379.9651434,
                        "remaining_time": 1147.532921,
                        "test": [
                          0.09775140662,
                          3.949824211
                        ]
                      },
                      {
                        "learn": [
                          0.1182745198,
                          3.886720794
                        ],
                        "iteration": 199,
                        "passed_time": 381.7364477,
                        "remaining_time": 1145.209343,
                        "test": [
                          0.09810805886,
                          3.949152154
                        ]
                      },
                      {
                        "learn": [
                          0.1182709619,
                          3.886018141
                        ],
                        "iteration": 200,
                        "passed_time": 383.4861807,
                        "remaining_time": 1142.826976,
                        "test": [
                          0.09808923129,
                          3.94835831
                        ]
                      },
                      {
                        "learn": [
                          0.1190663809,
                          3.885279109
                        ],
                        "iteration": 201,
                        "passed_time": 385.1984342,
                        "remaining_time": 1140.339919,
                        "test": [
                          0.09854793158,
                          3.947851437
                        ]
                      },
                      {
                        "learn": [
                          0.1207787866,
                          3.884099141
                        ],
                        "iteration": 202,
                        "passed_time": 388.8300758,
                        "remaining_time": 1143.505198,
                        "test": [
                          0.1002149892,
                          3.946723883
                        ]
                      },
                      {
                        "learn": [
                          0.1207705017,
                          3.883595068
                        ],
                        "iteration": 203,
                        "passed_time": 390.5045189,
                        "remaining_time": 1140.885751,
                        "test": [
                          0.1001896132,
                          3.946273053
                        ]
                      },
                      {
                        "learn": [
                          0.1207160522,
                          3.882731692
                        ],
                        "iteration": 204,
                        "passed_time": 392.1484438,
                        "remaining_time": 1138.186947,
                        "test": [
                          0.1004156581,
                          3.945567341
                        ]
                      },
                      {
                        "learn": [
                          0.1210274337,
                          3.881646227
                        ],
                        "iteration": 205,
                        "passed_time": 393.8913104,
                        "remaining_time": 1135.783681,
                        "test": [
                          0.1006618866,
                          3.944913548
                        ]
                      },
                      {
                        "learn": [
                          0.1210622147,
                          3.880859937
                        ],
                        "iteration": 206,
                        "passed_time": 395.7109507,
                        "remaining_time": 1133.606733,
                        "test": [
                          0.1007563694,
                          3.944493516
                        ]
                      },
                      {
                        "learn": [
                          0.121442325,
                          3.879542779
                        ],
                        "iteration": 207,
                        "passed_time": 397.5419708,
                        "remaining_time": 1131.465609,
                        "test": [
                          0.1012802502,
                          3.943932273
                        ]
                      },
                      {
                        "learn": [
                          0.1220712366,
                          3.878677873
                        ],
                        "iteration": 208,
                        "passed_time": 399.5724233,
                        "remaining_time": 1129.891398,
                        "test": [
                          0.1024362207,
                          3.943053364
                        ]
                      },
                      {
                        "learn": [
                          0.1220527033,
                          3.877948355
                        ],
                        "iteration": 209,
                        "passed_time": 402.0277728,
                        "remaining_time": 1129.5066,
                        "test": [
                          0.1024270516,
                          3.942355822
                        ]
                      },
                      {
                        "learn": [
                          0.1220712366,
                          3.877252893
                        ],
                        "iteration": 210,
                        "passed_time": 403.7125978,
                        "remaining_time": 1126.95128,
                        "test": [
                          0.1024362207,
                          3.941924584
                        ]
                      },
                      {
                        "learn": [
                          0.122111178,
                          3.876352423
                        ],
                        "iteration": 211,
                        "passed_time": 405.4067813,
                        "remaining_time": 1124.430129,
                        "test": [
                          0.1020637903,
                          3.94130107
                        ]
                      },
                      {
                        "learn": [
                          0.1221697278,
                          3.874968009
                        ],
                        "iteration": 212,
                        "passed_time": 407.1201555,
                        "remaining_time": 1121.96963,
                        "test": [
                          0.1022746547,
                          3.940167229
                        ]
                      },
                      {
                        "learn": [
                          0.1234910388,
                          3.87386906
                        ],
                        "iteration": 213,
                        "passed_time": 408.8219762,
                        "remaining_time": 1119.484477,
                        "test": [
                          0.1035997369,
                          3.939410052
                        ]
                      },
                      {
                        "learn": [
                          0.1234822779,
                          3.872855075
                        ],
                        "iteration": 214,
                        "passed_time": 410.5994064,
                        "remaining_time": 1117.212338,
                        "test": [
                          0.1031318377,
                          3.938769073
                        ]
                      },
                      {
                        "learn": [
                          0.1229597695,
                          3.871676006
                        ],
                        "iteration": 215,
                        "passed_time": 413.1383081,
                        "remaining_time": 1117.003574,
                        "test": [
                          0.102227306,
                          3.937893441
                        ]
                      },
                      {
                        "learn": [
                          0.1237089647,
                          3.871109853
                        ],
                        "iteration": 216,
                        "passed_time": 415.1101279,
                        "remaining_time": 1115.249791,
                        "test": [
                          0.1025751062,
                          3.937522108
                        ]
                      },
                      {
                        "learn": [
                          0.1259347699,
                          3.870037971
                        ],
                        "iteration": 217,
                        "passed_time": 416.824842,
                        "remaining_time": 1112.807606,
                        "test": [
                          0.1056934238,
                          3.937054478
                        ]
                      },
                      {
                        "learn": [
                          0.1265527395,
                          3.868889916
                        ],
                        "iteration": 218,
                        "passed_time": 418.5221817,
                        "remaining_time": 1110.325971,
                        "test": [
                          0.1045867766,
                          3.936377903
                        ]
                      },
                      {
                        "learn": [
                          0.1275888301,
                          3.867537238
                        ],
                        "iteration": 219,
                        "passed_time": 420.2055363,
                        "remaining_time": 1107.814596,
                        "test": [
                          0.1064279436,
                          3.935616608
                        ]
                      },
                      {
                        "learn": [
                          0.1283670171,
                          3.866277964
                        ],
                        "iteration": 220,
                        "passed_time": 421.9148456,
                        "remaining_time": 1105.378713,
                        "test": [
                          0.1080307135,
                          3.933909867
                        ]
                      },
                      {
                        "learn": [
                          0.1285391405,
                          3.865243495
                        ],
                        "iteration": 221,
                        "passed_time": 423.6075066,
                        "remaining_time": 1102.906031,
                        "test": [
                          0.1083532486,
                          3.932832019
                        ]
                      },
                      {
                        "learn": [
                          0.1299285212,
                          3.86372165
                        ],
                        "iteration": 222,
                        "passed_time": 426.3826178,
                        "remaining_time": 1103.241123,
                        "test": [
                          0.1089641861,
                          3.931741962
                        ]
                      },
                      {
                        "learn": [
                          0.1311937391,
                          3.862146122
                        ],
                        "iteration": 223,
                        "passed_time": 428.1453713,
                        "remaining_time": 1100.94524,
                        "test": [
                          0.1103144185,
                          3.930538666
                        ]
                      },
                      {
                        "learn": [
                          0.1308567403,
                          3.861044578
                        ],
                        "iteration": 224,
                        "passed_time": 429.8297341,
                        "remaining_time": 1098.453765,
                        "test": [
                          0.1102827289,
                          3.92947491
                        ]
                      },
                      {
                        "learn": [
                          0.1312423392,
                          3.859847519
                        ],
                        "iteration": 225,
                        "passed_time": 431.5754046,
                        "remaining_time": 1096.125143,
                        "test": [
                          0.1099037302,
                          3.928114992
                        ]
                      },
                      {
                        "learn": [
                          0.1311901019,
                          3.859010641
                        ],
                        "iteration": 226,
                        "passed_time": 433.3540193,
                        "remaining_time": 1093.884815,
                        "test": [
                          0.1099104476,
                          3.927574592
                        ]
                      },
                      {
                        "learn": [
                          0.1309748141,
                          3.857848421
                        ],
                        "iteration": 227,
                        "passed_time": 435.1297379,
                        "remaining_time": 1091.641272,
                        "test": [
                          0.1111579998,
                          3.926743648
                        ]
                      },
                      {
                        "learn": [
                          0.1315376029,
                          3.856755535
                        ],
                        "iteration": 228,
                        "passed_time": 437.2875081,
                        "remaining_time": 1090.354442,
                        "test": [
                          0.1111697673,
                          3.926194596
                        ]
                      },
                      {
                        "learn": [
                          0.1324105269,
                          3.855467774
                        ],
                        "iteration": 229,
                        "passed_time": 439.6971657,
                        "remaining_time": 1089.68428,
                        "test": [
                          0.1114909679,
                          3.925297307
                        ]
                      },
                      {
                        "learn": [
                          0.1326730336,
                          3.854232039
                        ],
                        "iteration": 230,
                        "passed_time": 441.4003194,
                        "remaining_time": 1087.258795,
                        "test": [
                          0.1114909679,
                          3.92418582
                        ]
                      },
                      {
                        "learn": [
                          0.1324510224,
                          3.853116961
                        ],
                        "iteration": 231,
                        "passed_time": 443.1724088,
                        "remaining_time": 1085.008311,
                        "test": [
                          0.1114909679,
                          3.923302693
                        ]
                      },
                      {
                        "learn": [
                          0.1327979434,
                          3.851782111
                        ],
                        "iteration": 232,
                        "passed_time": 444.985126,
                        "remaining_time": 1082.8608,
                        "test": [
                          0.1117565111,
                          3.922212835
                        ]
                      },
                      {
                        "learn": [
                          0.1339400488,
                          3.850431027
                        ],
                        "iteration": 233,
                        "passed_time": 446.732842,
                        "remaining_time": 1080.558926,
                        "test": [
                          0.1125024496,
                          3.921017411
                        ]
                      },
                      {
                        "learn": [
                          0.1347203958,
                          3.849224185
                        ],
                        "iteration": 234,
                        "passed_time": 448.4906577,
                        "remaining_time": 1078.286049,
                        "test": [
                          0.1128668259,
                          3.919794379
                        ]
                      },
                      {
                        "learn": [
                          0.1346631344,
                          3.847898727
                        ],
                        "iteration": 235,
                        "passed_time": 451.1695613,
                        "remaining_time": 1078.218782,
                        "test": [
                          0.1120055459,
                          3.918593583
                        ]
                      },
                      {
                        "learn": [
                          0.1348390138,
                          3.846933373
                        ],
                        "iteration": 236,
                        "passed_time": 452.9767267,
                        "remaining_time": 1076.058638,
                        "test": [
                          0.1121529221,
                          3.917915059
                        ]
                      },
                      {
                        "learn": [
                          0.1351238645,
                          3.84582428
                        ],
                        "iteration": 237,
                        "passed_time": 454.6797492,
                        "remaining_time": 1073.655542,
                        "test": [
                          0.1125017997,
                          3.917158745
                        ]
                      },
                      {
                        "learn": [
                          0.1361775111,
                          3.844474001
                        ],
                        "iteration": 238,
                        "passed_time": 456.4029656,
                        "remaining_time": 1071.305706,
                        "test": [
                          0.1135761631,
                          3.915673283
                        ]
                      },
                      {
                        "learn": [
                          0.136661078,
                          3.842918045
                        ],
                        "iteration": 239,
                        "passed_time": 458.1070591,
                        "remaining_time": 1068.916471,
                        "test": [
                          0.1139448968,
                          3.914267171
                        ]
                      },
                      {
                        "learn": [
                          0.1368335607,
                          3.841765843
                        ],
                        "iteration": 240,
                        "passed_time": 459.8309796,
                        "remaining_time": 1066.578911,
                        "test": [
                          0.1139448968,
                          3.912907384
                        ]
                      },
                      {
                        "learn": [
                          0.1380369892,
                          3.840348037
                        ],
                        "iteration": 241,
                        "passed_time": 461.7166461,
                        "remaining_time": 1064.619374,
                        "test": [
                          0.1148591823,
                          3.911609993
                        ]
                      },
                      {
                        "learn": [
                          0.1389645204,
                          3.838974919
                        ],
                        "iteration": 242,
                        "passed_time": 464.4511787,
                        "remaining_time": 1064.6062,
                        "test": [
                          0.115511486,
                          3.910731144
                        ]
                      },
                      {
                        "learn": [
                          0.1403136832,
                          3.837569391
                        ],
                        "iteration": 243,
                        "passed_time": 466.2049515,
                        "remaining_time": 1062.335873,
                        "test": [
                          0.116427822,
                          3.909746612
                        ]
                      },
                      {
                        "learn": [
                          0.1402246405,
                          3.836295633
                        ],
                        "iteration": 244,
                        "passed_time": 467.9282797,
                        "remaining_time": 1060.000797,
                        "test": [
                          0.1168075085,
                          3.908873269
                        ]
                      },
                      {
                        "learn": [
                          0.1405881792,
                          3.835058452
                        ],
                        "iteration": 245,
                        "passed_time": 469.6364103,
                        "remaining_time": 1057.636469,
                        "test": [
                          0.11732706,
                          3.908129197
                        ]
                      },
                      {
                        "learn": [
                          0.1415638181,
                          3.833773826
                        ],
                        "iteration": 246,
                        "passed_time": 471.3680441,
                        "remaining_time": 1055.330074,
                        "test": [
                          0.1172180578,
                          3.907286797
                        ]
                      },
                      {
                        "learn": [
                          0.1423137401,
                          3.832693773
                        ],
                        "iteration": 247,
                        "passed_time": 473.0785858,
                        "remaining_time": 1052.981368,
                        "test": [
                          0.1189986068,
                          3.906112867
                        ]
                      },
                      {
                        "learn": [
                          0.1423137401,
                          3.831605713
                        ],
                        "iteration": 248,
                        "passed_time": 475.3759759,
                        "remaining_time": 1051.936396,
                        "test": [
                          0.1192343587,
                          3.905259976
                        ]
                      },
                      {
                        "learn": [
                          0.1429606483,
                          3.830126999
                        ],
                        "iteration": 249,
                        "passed_time": 477.6230782,
                        "remaining_time": 1050.770772,
                        "test": [
                          0.1203526631,
                          3.904119617
                        ]
                      },
                      {
                        "learn": [
                          0.1439446308,
                          3.829000316
                        ],
                        "iteration": 250,
                        "passed_time": 479.3305571,
                        "remaining_time": 1048.416238,
                        "test": [
                          0.1211841688,
                          3.902804837
                        ]
                      },
                      {
                        "learn": [
                          0.1440465711,
                          3.827778694
                        ],
                        "iteration": 251,
                        "passed_time": 481.0659861,
                        "remaining_time": 1046.127621,
                        "test": [
                          0.121554221,
                          3.901681851
                        ]
                      },
                      {
                        "learn": [
                          0.1445089082,
                          3.826713129
                        ],
                        "iteration": 252,
                        "passed_time": 482.7665341,
                        "remaining_time": 1043.767961,
                        "test": [
                          0.1217995437,
                          3.90072627
                        ]
                      },
                      {
                        "learn": [
                          0.1451747978,
                          3.825392012
                        ],
                        "iteration": 253,
                        "passed_time": 484.4845401,
                        "remaining_time": 1041.451019,
                        "test": [
                          0.122250792,
                          3.899882284
                        ]
                      },
                      {
                        "learn": [
                          0.1447658662,
                          3.824235132
                        ],
                        "iteration": 254,
                        "passed_time": 486.1860739,
                        "remaining_time": 1039.10357,
                        "test": [
                          0.1211259513,
                          3.898883284
                        ]
                      },
                      {
                        "learn": [
                          0.1449156937,
                          3.823095033
                        ],
                        "iteration": 255,
                        "passed_time": 488.8400681,
                        "remaining_time": 1038.785145,
                        "test": [
                          0.1211259513,
                          3.897937571
                        ]
                      },
                      {
                        "learn": [
                          0.1449156937,
                          3.82195413
                        ],
                        "iteration": 256,
                        "passed_time": 490.6885566,
                        "remaining_time": 1036.746639,
                        "test": [
                          0.1211259513,
                          3.89697757
                        ]
                      },
                      {
                        "learn": [
                          0.1455927243,
                          3.820794701
                        ],
                        "iteration": 257,
                        "passed_time": 492.4241019,
                        "remaining_time": 1034.472338,
                        "test": [
                          0.1218417791,
                          3.895822819
                        ]
                      },
                      {
                        "learn": [
                          0.1463921344,
                          3.819687938
                        ],
                        "iteration": 258,
                        "passed_time": 494.1189593,
                        "remaining_time": 1032.117208,
                        "test": [
                          0.1234183767,
                          3.894913402
                        ]
                      },
                      {
                        "learn": [
                          0.1467615426,
                          3.818630461
                        ],
                        "iteration": 259,
                        "passed_time": 495.8236894,
                        "remaining_time": 1029.787663,
                        "test": [
                          0.1238809433,
                          3.894044403
                        ]
                      },
                      {
                        "learn": [
                          0.1469062338,
                          3.817652268
                        ],
                        "iteration": 260,
                        "passed_time": 497.5859568,
                        "remaining_time": 1027.581727,
                        "test": [
                          0.1241667505,
                          3.892946149
                        ]
                      },
                      {
                        "learn": [
                          0.1469044886,
                          3.816628887
                        ],
                        "iteration": 261,
                        "passed_time": 499.4677399,
                        "remaining_time": 1025.624596,
                        "test": [
                          0.1241661953,
                          3.892417216
                        ]
                      },
                      {
                        "learn": [
                          0.1475895468,
                          3.815377093
                        ],
                        "iteration": 262,
                        "passed_time": 502.1595228,
                        "remaining_time": 1025.321915,
                        "test": [
                          0.1242850547,
                          3.891726577
                        ]
                      },
                      {
                        "learn": [
                          0.1477376638,
                          3.814343034
                        ],
                        "iteration": 263,
                        "passed_time": 503.9091085,
                        "remaining_time": 1023.08819,
                        "test": [
                          0.1244911591,
                          3.890836527
                        ]
                      },
                      {
                        "learn": [
                          0.1487151361,
                          3.813260722
                        ],
                        "iteration": 264,
                        "passed_time": 505.7204719,
                        "remaining_time": 1020.98284,
                        "test": [
                          0.1256376735,
                          3.88975325
                        ]
                      },
                      {
                        "learn": [
                          0.1487133909,
                          3.812358126
                        ],
                        "iteration": 265,
                        "passed_time": 507.482598,
                        "remaining_time": 1018.780855,
                        "test": [
                          0.1256371183,
                          3.889438045
                        ]
                      },
                      {
                        "learn": [
                          0.1483044386,
                          3.811187989
                        ],
                        "iteration": 266,
                        "passed_time": 509.1668214,
                        "remaining_time": 1016.426651,
                        "test": [
                          0.1245128328,
                          3.888342077
                        ]
                      },
                      {
                        "learn": [
                          0.1494703439,
                          3.810117671
                        ],
                        "iteration": 267,
                        "passed_time": 510.8893606,
                        "remaining_time": 1014.153507,
                        "test": [
                          0.1259555475,
                          3.887235273
                        ]
                      },
                      {
                        "learn": [
                          0.1502478821,
                          3.809100792
                        ],
                        "iteration": 268,
                        "passed_time": 513.2707981,
                        "remaining_time": 1013.185107,
                        "test": [
                          0.1268648605,
                          3.886386324
                        ]
                      },
                      {
                        "learn": [
                          0.1502478821,
                          3.808103779
                        ],
                        "iteration": 269,
                        "passed_time": 515.3845051,
                        "remaining_time": 1011.680695,
                        "test": [
                          0.1268648605,
                          3.885168935
                        ]
                      },
                      {
                        "learn": [
                          0.1502478821,
                          3.807105477
                        ],
                        "iteration": 270,
                        "passed_time": 517.0714821,
                        "remaining_time": 1009.338797,
                        "test": [
                          0.1268648605,
                          3.884418035
                        ]
                      },
                      {
                        "learn": [
                          0.150215278,
                          3.806026433
                        ],
                        "iteration": 271,
                        "passed_time": 518.7420508,
                        "remaining_time": 1006.969863,
                        "test": [
                          0.1268172376,
                          3.883307695
                        ]
                      },
                      {
                        "learn": [
                          0.1504184157,
                          3.804986898
                        ],
                        "iteration": 272,
                        "passed_time": 520.5223016,
                        "remaining_time": 1004.817776,
                        "test": [
                          0.1269741013,
                          3.882008498
                        ]
                      },
                      {
                        "learn": [
                          0.1507467389,
                          3.80402587
                        ],
                        "iteration": 273,
                        "passed_time": 522.2841731,
                        "remaining_time": 1002.633121,
                        "test": [
                          0.1269741013,
                          3.881051049
                        ]
                      },
                      {
                        "learn": [
                          0.1501616273,
                          3.803117733
                        ],
                        "iteration": 274,
                        "passed_time": 524.0009173,
                        "remaining_time": 1000.365388,
                        "test": [
                          0.1268511954,
                          3.88047329
                        ]
                      },
                      {
                        "learn": [
                          0.1512836028,
                          3.802133504
                        ],
                        "iteration": 275,
                        "passed_time": 526.7954457,
                        "remaining_time": 1000.147875,
                        "test": [
                          0.1279494418,
                          3.879472332
                        ]
                      },
                      {
                        "learn": [
                          0.1521266945,
                          3.801150167
                        ],
                        "iteration": 276,
                        "passed_time": 528.5980127,
                        "remaining_time": 998.0388472,
                        "test": [
                          0.1284969203,
                          3.878953225
                        ]
                      },
                      {
                        "learn": [
                          0.1528197694,
                          3.799990513
                        ],
                        "iteration": 277,
                        "passed_time": 530.3394401,
                        "remaining_time": 995.817222,
                        "test": [
                          0.1287746483,
                          3.87791158
                        ]
                      },
                      {
                        "learn": [
                          0.1528871066,
                          3.799060542
                        ],
                        "iteration": 278,
                        "passed_time": 532.0121974,
                        "remaining_time": 993.470806,
                        "test": [
                          0.1289328715,
                          3.876935089
                        ]
                      },
                      {
                        "learn": [
                          0.1536728818,
                          3.798186955
                        ],
                        "iteration": 279,
                        "passed_time": 533.7539621,
                        "remaining_time": 991.2573582,
                        "test": [
                          0.1289479481,
                          3.876215272
                        ]
                      },
                      {
                        "learn": [
                          0.153572662,
                          3.797095451
                        ],
                        "iteration": 280,
                        "passed_time": 535.5216508,
                        "remaining_time": 989.0951487,
                        "test": [
                          0.1284938519,
                          3.875635558
                        ]
                      },
                      {
                        "learn": [
                          0.1538468384,
                          3.796196893
                        ],
                        "iteration": 281,
                        "passed_time": 537.6612335,
                        "remaining_time": 987.6188616,
                        "test": [
                          0.1286699521,
                          3.874882657
                        ]
                      },
                      {
                        "learn": [
                          0.1538388903,
                          3.795182619
                        ],
                        "iteration": 282,
                        "passed_time": 540.0141676,
                        "remaining_time": 986.5276489,
                        "test": [
                          0.1278622135,
                          3.873789618
                        ]
                      },
                      {
                        "learn": [
                          0.1543793301,
                          3.794065787
                        ],
                        "iteration": 283,
                        "passed_time": 541.716184,
                        "remaining_time": 984.2448978,
                        "test": [
                          0.1290649902,
                          3.872559977
                        ]
                      },
                      {
                        "learn": [
                          0.1543793301,
                          3.79308222
                        ],
                        "iteration": 284,
                        "passed_time": 543.3921299,
                        "remaining_time": 981.9191119,
                        "test": [
                          0.1290649902,
                          3.871732893
                        ]
                      },
                      {
                        "learn": [
                          0.1549799365,
                          3.791937074
                        ],
                        "iteration": 285,
                        "passed_time": 545.0851336,
                        "remaining_time": 979.6285269,
                        "test": [
                          0.1295548052,
                          3.870689285
                        ]
                      },
                      {
                        "learn": [
                          0.1558346904,
                          3.790737441
                        ],
                        "iteration": 286,
                        "passed_time": 546.7813359,
                        "remaining_time": 977.3478234,
                        "test": [
                          0.1299043824,
                          3.870240035
                        ]
                      },
                      {
                        "learn": [
                          0.1557812217,
                          3.78985254
                        ],
                        "iteration": 287,
                        "passed_time": 548.4851095,
                        "remaining_time": 975.084639,
                        "test": [
                          0.1298216863,
                          3.869311897
                        ]
                      },
                      {
                        "learn": [
                          0.1552768204,
                          3.788784062
                        ],
                        "iteration": 288,
                        "passed_time": 551.1152779,
                        "remaining_time": 974.463346,
                        "test": [
                          0.12959464,
                          3.868424254
                        ]
                      },
                      {
                        "learn": [
                          0.1552198878,
                          3.787563254
                        ],
                        "iteration": 289,
                        "passed_time": 553.0358222,
                        "remaining_time": 972.580239,
                        "test": [
                          0.1307942209,
                          3.867607504
                        ]
                      },
                      {
                        "learn": [
                          0.1550937357,
                          3.786524908
                        ],
                        "iteration": 290,
                        "passed_time": 554.7634666,
                        "remaining_time": 970.3594656,
                        "test": [
                          0.1306605447,
                          3.866874086
                        ]
                      },
                      {
                        "learn": [
                          0.156426592,
                          3.785601992
                        ],
                        "iteration": 291,
                        "passed_time": 556.4709102,
                        "remaining_time": 968.106926,
                        "test": [
                          0.1301689622,
                          3.866758134
                        ]
                      },
                      {
                        "learn": [
                          0.1564559572,
                          3.78456776
                        ],
                        "iteration": 292,
                        "passed_time": 558.1617236,
                        "remaining_time": 965.8293306,
                        "test": [
                          0.1301538184,
                          3.866220169
                        ]
                      },
                      {
                        "learn": [
                          0.1570992869,
                          3.783576728
                        ],
                        "iteration": 293,
                        "passed_time": 559.8611218,
                        "remaining_time": 963.5705022,
                        "test": [
                          0.1303220499,
                          3.865419648
                        ]
                      },
                      {
                        "learn": [
                          0.1572766883,
                          3.78251792
                        ],
                        "iteration": 294,
                        "passed_time": 561.6527317,
                        "remaining_time": 961.4733204,
                        "test": [
                          0.1303220499,
                          3.864928363
                        ]
                      },
                      {
                        "learn": [
                          0.158014489,
                          3.781654335
                        ],
                        "iteration": 295,
                        "passed_time": 564.3828532,
                        "remaining_time": 960.9762095,
                        "test": [
                          0.130750168,
                          3.86403699
                        ]
                      },
                      {
                        "learn": [
                          0.1592776198,
                          3.780504444
                        ],
                        "iteration": 296,
                        "passed_time": 566.1669398,
                        "remaining_time": 958.8618543,
                        "test": [
                          0.1312399831,
                          3.863508303
                        ]
                      },
                      {
                        "learn": [
                          0.1609746013,
                          3.779221637
                        ],
                        "iteration": 297,
                        "passed_time": 567.860643,
                        "remaining_time": 956.5974591,
                        "test": [
                          0.1325337048,
                          3.862559338
                        ]
                      },
                      {
                        "learn": [
                          0.1616852132,
                          3.778345823
                        ],
                        "iteration": 298,
                        "passed_time": 569.5604089,
                        "remaining_time": 954.3470396,
                        "test": [
                          0.132973998,
                          3.862278927
                        ]
                      },
                      {
                        "learn": [
                          0.1622574389,
                          3.777498901
                        ],
                        "iteration": 299,
                        "passed_time": 571.2724134,
                        "remaining_time": 952.1206889,
                        "test": [
                          0.132973998,
                          3.861840136
                        ]
                      },
                      {
                        "learn": [
                          0.1622722654,
                          3.776691708
                        ],
                        "iteration": 300,
                        "passed_time": 573.011671,
                        "remaining_time": 949.9429363,
                        "test": [
                          0.133083998,
                          3.861292065
                        ]
                      },
                      {
                        "learn": [
                          0.162536377,
                          3.775876378
                        ],
                        "iteration": 301,
                        "passed_time": 575.2221996,
                        "remaining_time": 948.5452165,
                        "test": [
                          0.133083998,
                          3.860538006
                        ]
                      },
                      {
                        "learn": [
                          0.1628994746,
                          3.775028676
                        ],
                        "iteration": 302,
                        "passed_time": 577.4968583,
                        "remaining_time": 947.247322,
                        "test": [
                          0.1338876513,
                          3.859983286
                        ]
                      },
                      {
                        "learn": [
                          0.1627039188,
                          3.774039448
                        ],
                        "iteration": 303,
                        "passed_time": 579.1922503,
                        "remaining_time": 944.9978821,
                        "test": [
                          0.133998891,
                          3.859081406
                        ]
                      },
                      {
                        "learn": [
                          0.16321935,
                          3.773048192
                        ],
                        "iteration": 304,
                        "passed_time": 580.8749453,
                        "remaining_time": 942.7314686,
                        "test": [
                          0.133998891,
                          3.858194273
                        ]
                      },
                      {
                        "learn": [
                          0.16321935,
                          3.772096811
                        ],
                        "iteration": 305,
                        "passed_time": 582.5767455,
                        "remaining_time": 940.4997134,
                        "test": [
                          0.133998891,
                          3.857510494
                        ]
                      },
                      {
                        "learn": [
                          0.1635064732,
                          3.771123559
                        ],
                        "iteration": 306,
                        "passed_time": 584.2850966,
                        "remaining_time": 938.2819303,
                        "test": [
                          0.1347645009,
                          3.856497752
                        ]
                      },
                      {
                        "learn": [
                          0.1635064732,
                          3.770182418
                        ],
                        "iteration": 307,
                        "passed_time": 585.9860904,
                        "remaining_time": 936.0557028,
                        "test": [
                          0.1347645009,
                          3.855668914
                        ]
                      },
                      {
                        "learn": [
                          0.1634254168,
                          3.769253384
                        ],
                        "iteration": 308,
                        "passed_time": 588.771797,
                        "remaining_time": 935.55648,
                        "test": [
                          0.1346393548,
                          3.8547988
                        ]
                      },
                      {
                        "learn": [
                          0.1642260473,
                          3.768386392
                        ],
                        "iteration": 309,
                        "passed_time": 590.509298,
                        "remaining_time": 933.3856645,
                        "test": [
                          0.1347686836,
                          3.854326731
                        ]
                      },
                      {
                        "learn": [
                          0.1642260473,
                          3.767526333
                        ],
                        "iteration": 310,
                        "passed_time": 592.1909152,
                        "remaining_time": 931.1297669,
                        "test": [
                          0.1347686836,
                          3.853410442
                        ]
                      },
                      {
                        "learn": [
                          0.1644980547,
                          3.766487566
                        ],
                        "iteration": 311,
                        "passed_time": 593.890257,
                        "remaining_time": 928.9052738,
                        "test": [
                          0.1347686836,
                          3.85274924
                        ]
                      },
                      {
                        "learn": [
                          0.165160957,
                          3.765545694
                        ],
                        "iteration": 312,
                        "passed_time": 595.6152527,
                        "remaining_time": 926.7240514,
                        "test": [
                          0.1351571429,
                          3.852083761
                        ]
                      },
                      {
                        "learn": [
                          0.1655347021,
                          3.764619613
                        ],
                        "iteration": 313,
                        "passed_time": 597.3202902,
                        "remaining_time": 924.514844,
                        "test": [
                          0.1350310268,
                          3.851649278
                        ]
                      },
                      {
                        "learn": [
                          0.1653638909,
                          3.76373724
                        ],
                        "iteration": 314,
                        "passed_time": 599.1395967,
                        "remaining_time": 922.4847759,
                        "test": [
                          0.1351591275,
                          3.851130572
                        ]
                      },
                      {
                        "learn": [
                          0.165782098,
                          3.762862802
                        ],
                        "iteration": 315,
                        "passed_time": 601.8126838,
                        "remaining_time": 921.7637308,
                        "test": [
                          0.1362342894,
                          3.850324942
                        ]
                      },
                      {
                        "learn": [
                          0.1658464038,
                          3.761889676
                        ],
                        "iteration": 316,
                        "passed_time": 603.5198475,
                        "remaining_time": 919.558632,
                        "test": [
                          0.1362342894,
                          3.84969891
                        ]
                      },
                      {
                        "learn": [
                          0.1663301953,
                          3.761096198
                        ],
                        "iteration": 317,
                        "passed_time": 605.2420923,
                        "remaining_time": 917.3795236,
                        "test": [
                          0.1363604055,
                          3.849243414
                        ]
                      },
                      {
                        "learn": [
                          0.1671063928,
                          3.760176253
                        ],
                        "iteration": 318,
                        "passed_time": 606.9715108,
                        "remaining_time": 915.2140962,
                        "test": [
                          0.1369259556,
                          3.848728069
                        ]
                      },
                      {
                        "learn": [
                          0.1675088686,
                          3.759299851
                        ],
                        "iteration": 319,
                        "passed_time": 608.6955615,
                        "remaining_time": 913.0433423,
                        "test": [
                          0.1372074627,
                          3.847823686
                        ]
                      },
                      {
                        "learn": [
                          0.1679451886,
                          3.75835451
                        ],
                        "iteration": 320,
                        "passed_time": 610.4073772,
                        "remaining_time": 910.8571143,
                        "test": [
                          0.1374751791,
                          3.847115302
                        ]
                      },
                      {
                        "learn": [
                          0.1686896687,
                          3.757340667
                        ],
                        "iteration": 321,
                        "passed_time": 612.6454391,
                        "remaining_time": 909.4550307,
                        "test": [
                          0.1376870503,
                          3.846380844
                        ]
                      },
                      {
                        "learn": [
                          0.1688135503,
                          3.756532195
                        ],
                        "iteration": 322,
                        "passed_time": 614.8496122,
                        "remaining_time": 907.9977246,
                        "test": [
                          0.1376870503,
                          3.845859693
                        ]
                      },
                      {
                        "learn": [
                          0.1689124325,
                          3.755840586
                        ],
                        "iteration": 323,
                        "passed_time": 616.5374207,
                        "remaining_time": 905.7771983,
                        "test": [
                          0.1376870503,
                          3.845371701
                        ]
                      },
                      {
                        "learn": [
                          0.1693632537,
                          3.75503624
                        ],
                        "iteration": 324,
                        "passed_time": 618.2464885,
                        "remaining_time": 903.5910217,
                        "test": [
                          0.137753415,
                          3.844923323
                        ]
                      },
                      {
                        "learn": [
                          0.1696233379,
                          3.754087809
                        ],
                        "iteration": 325,
                        "passed_time": 619.9770932,
                        "remaining_time": 901.4390864,
                        "test": [
                          0.137753415,
                          3.844262882
                        ]
                      },
                      {
                        "learn": [
                          0.1696767988,
                          3.753117289
                        ],
                        "iteration": 326,
                        "passed_time": 621.7041432,
                        "remaining_time": 899.2845863,
                        "test": [
                          0.1378054265,
                          3.843808698
                        ]
                      },
                      {
                        "learn": [
                          0.1702038468,
                          3.752340788
                        ],
                        "iteration": 327,
                        "passed_time": 623.3941499,
                        "remaining_time": 897.0793864,
                        "test": [
                          0.1380273729,
                          3.843235021
                        ]
                      },
                      {
                        "learn": [
                          0.1704593267,
                          3.751431542
                        ],
                        "iteration": 328,
                        "passed_time": 626.0894449,
                        "remaining_time": 896.3165002,
                        "test": [
                          0.1382266539,
                          3.842433608
                        ]
                      },
                      {
                        "learn": [
                          0.1704593267,
                          3.750465341
                        ],
                        "iteration": 329,
                        "passed_time": 627.8932854,
                        "remaining_time": 894.272255,
                        "test": [
                          0.1382266539,
                          3.841838638
                        ]
                      },
                      {
                        "learn": [
                          0.1704593267,
                          3.749697429
                        ],
                        "iteration": 330,
                        "passed_time": 629.5973077,
                        "remaining_time": 892.0880282,
                        "test": [
                          0.1382266539,
                          3.840986209
                        ]
                      },
                      {
                        "learn": [
                          0.1707100767,
                          3.748905805
                        ],
                        "iteration": 331,
                        "passed_time": 631.2951935,
                        "remaining_time": 889.8980438,
                        "test": [
                          0.1386253376,
                          3.840520483
                        ]
                      },
                      {
                        "learn": [
                          0.1714231504,
                          3.748008533
                        ],
                        "iteration": 332,
                        "passed_time": 633.0198985,
                        "remaining_time": 887.7486265,
                        "test": [
                          0.1400929447,
                          3.839705683
                        ]
                      },
                      {
                        "learn": [
                          0.1714000278,
                          3.747240075
                        ],
                        "iteration": 333,
                        "passed_time": 634.7644562,
                        "remaining_time": 885.6294509,
                        "test": [
                          0.1400716639,
                          3.839266375
                        ]
                      },
                      {
                        "learn": [
                          0.1713304684,
                          3.746401745
                        ],
                        "iteration": 334,
                        "passed_time": 636.5874699,
                        "remaining_time": 883.6214134,
                        "test": [
                          0.1399856195,
                          3.838730196
                        ]
                      },
                      {
                        "learn": [
                          0.1719475915,
                          3.745407823
                        ],
                        "iteration": 335,
                        "passed_time": 639.2646559,
                        "remaining_time": 882.7940487,
                        "test": [
                          0.1408890122,
                          3.838140685
                        ]
                      },
                      {
                        "learn": [
                          0.1733198046,
                          3.74454119
                        ],
                        "iteration": 336,
                        "passed_time": 640.9711193,
                        "remaining_time": 880.6220423,
                        "test": [
                          0.1432616009,
                          3.837031209
                        ]
                      },
                      {
                        "learn": [
                          0.1733198046,
                          3.743726423
                        ],
                        "iteration": 337,
                        "passed_time": 642.6783663,
                        "remaining_time": 878.4538616,
                        "test": [
                          0.1432616009,
                          3.836700513
                        ]
                      },
                      {
                        "learn": [
                          0.1731538553,
                          3.743014929
                        ],
                        "iteration": 338,
                        "passed_time": 644.3761336,
                        "remaining_time": 876.2755091,
                        "test": [
                          0.1431304605,
                          3.835942552
                        ]
                      },
                      {
                        "learn": [
                          0.1734156983,
                          3.742184019
                        ],
                        "iteration": 339,
                        "passed_time": 646.1106711,
                        "remaining_time": 874.1497315,
                        "test": [
                          0.1432616009,
                          3.83533082
                        ]
                      },
                      {
                        "learn": [
                          0.1744034305,
                          3.741383309
                        ],
                        "iteration": 340,
                        "passed_time": 647.7892272,
                        "remaining_time": 871.9508952,
                        "test": [
                          0.1442819809,
                          3.83439164
                        ]
                      },
                      {
                        "learn": [
                          0.1731600542,
                          3.740572106
                        ],
                        "iteration": 341,
                        "passed_time": 649.988845,
                        "remaining_time": 870.4528977,
                        "test": [
                          0.1430473479,
                          3.833864994
                        ]
                      },
                      {
                        "learn": [
                          0.1744073283,
                          3.739709039
                        ],
                        "iteration": 342,
                        "passed_time": 652.296932,
                        "remaining_time": 869.0953292,
                        "test": [
                          0.143759702,
                          3.832887262
                        ]
                      },
                      {
                        "learn": [
                          0.1744365654,
                          3.738846678
                        ],
                        "iteration": 343,
                        "passed_time": 654.0231657,
                        "remaining_time": 866.9609405,
                        "test": [
                          0.143759702,
                          3.832353908
                        ]
                      },
                      {
                        "learn": [
                          0.1760127012,
                          3.738013918
                        ],
                        "iteration": 344,
                        "passed_time": 655.7620049,
                        "remaining_time": 864.8455427,
                        "test": [
                          0.144865798,
                          3.831727209
                        ]
                      },
                      {
                        "learn": [
                          0.1763394753,
                          3.737197336
                        ],
                        "iteration": 345,
                        "passed_time": 657.4733261,
                        "remaining_time": 862.696214,
                        "test": [
                          0.145274246,
                          3.831092115
                        ]
                      },
                      {
                        "learn": [
                          0.1769238137,
                          3.736454065
                        ],
                        "iteration": 346,
                        "passed_time": 659.2320362,
                        "remaining_time": 860.6112749,
                        "test": [
                          0.1460165601,
                          3.830335344
                        ]
                      },
                      {
                        "learn": [
                          0.178104338,
                          3.735647849
                        ],
                        "iteration": 347,
                        "passed_time": 660.9660361,
                        "remaining_time": 858.4961158,
                        "test": [
                          0.1471019503,
                          3.829544511
                        ]
                      },
                      {
                        "learn": [
                          0.1782930375,
                          3.734892627
                        ],
                        "iteration": 348,
                        "passed_time": 663.8644387,
                        "remaining_time": 857.8878563,
                        "test": [
                          0.1472767197,
                          3.82873399
                        ]
                      },
                      {
                        "learn": [
                          0.1781411025,
                          3.734111936
                        ],
                        "iteration": 349,
                        "passed_time": 665.5604497,
                        "remaining_time": 855.7205782,
                        "test": [
                          0.1472085071,
                          3.828184583
                        ]
                      },
                      {
                        "learn": [
                          0.179126643,
                          3.733407165
                        ],
                        "iteration": 350,
                        "passed_time": 667.2684264,
                        "remaining_time": 853.5712919,
                        "test": [
                          0.147905612,
                          3.827782929
                        ]
                      },
                      {
                        "learn": [
                          0.1796086138,
                          3.732526335
                        ],
                        "iteration": 351,
                        "passed_time": 668.9796786,
                        "remaining_time": 851.4286819,
                        "test": [
                          0.147905612,
                          3.827312601
                        ]
                      },
                      {
                        "learn": [
                          0.1801133087,
                          3.731670975
                        ],
                        "iteration": 352,
                        "passed_time": 670.6835092,
                        "remaining_time": 849.2791179,
                        "test": [
                          0.1481991021,
                          3.8268884
                        ]
                      },
                      {
                        "learn": [
                          0.1805950895,
                          3.730810027
                        ],
                        "iteration": 353,
                        "passed_time": 672.429801,
                        "remaining_time": 847.1855685,
                        "test": [
                          0.1484315974,
                          3.826411368
                        ]
                      },
                      {
                        "learn": [
                          0.1808627957,
                          3.730149525
                        ],
                        "iteration": 354,
                        "passed_time": 674.5071945,
                        "remaining_time": 845.5090184,
                        "test": [
                          0.1491364206,
                          3.82586052
                        ]
                      },
                      {
                        "learn": [
                          0.1809526049,
                          3.729239265
                        ],
                        "iteration": 355,
                        "passed_time": 676.9642412,
                        "remaining_time": 844.3037166,
                        "test": [
                          0.1491188667,
                          3.825066961
                        ]
                      },
                      {
                        "learn": [
                          0.1811052041,
                          3.728457569
                        ],
                        "iteration": 356,
                        "passed_time": 678.6883587,
                        "remaining_time": 842.1819129,
                        "test": [
                          0.1491188667,
                          3.824676062
                        ]
                      },
                      {
                        "learn": [
                          0.1817978187,
                          3.727591086
                        ],
                        "iteration": 357,
                        "passed_time": 680.4085356,
                        "remaining_time": 840.0574658,
                        "test": [
                          0.1497896507,
                          3.824115696
                        ]
                      },
                      {
                        "learn": [
                          0.1827878022,
                          3.726683595
                        ],
                        "iteration": 358,
                        "passed_time": 682.1347746,
                        "remaining_time": 837.9427175,
                        "test": [
                          0.1498108982,
                          3.823611489
                        ]
                      },
                      {
                        "learn": [
                          0.1837795866,
                          3.725942858
                        ],
                        "iteration": 359,
                        "passed_time": 683.8939377,
                        "remaining_time": 835.8703683,
                        "test": [
                          0.1507082937,
                          3.823076339
                        ]
                      },
                      {
                        "learn": [
                          0.1841457717,
                          3.725255839
                        ],
                        "iteration": 360,
                        "passed_time": 685.6600186,
                        "remaining_time": 833.8081666,
                        "test": [
                          0.1507082937,
                          3.822573351
                        ]
                      },
                      {
                        "learn": [
                          0.1841457717,
                          3.724424822
                        ],
                        "iteration": 361,
                        "passed_time": 688.1365704,
                        "remaining_time": 832.6072316,
                        "test": [
                          0.1507082937,
                          3.822043504
                        ]
                      },
                      {
                        "learn": [
                          0.1842559484,
                          3.723617465
                        ],
                        "iteration": 362,
                        "passed_time": 690.2176407,
                        "remaining_time": 830.9231652,
                        "test": [
                          0.1511628252,
                          3.821355771
                        ]
                      },
                      {
                        "learn": [
                          0.1852789571,
                          3.722916485
                        ],
                        "iteration": 363,
                        "passed_time": 691.9502283,
                        "remaining_time": 828.8195042,
                        "test": [
                          0.1526834059,
                          3.820723957
                        ]
                      },
                      {
                        "learn": [
                          0.185128498,
                          3.722155217
                        ],
                        "iteration": 364,
                        "passed_time": 693.6675465,
                        "remaining_time": 826.6996787,
                        "test": [
                          0.1525169691,
                          3.820083186
                        ]
                      },
                      {
                        "learn": [
                          0.185128498,
                          3.721519482
                        ],
                        "iteration": 365,
                        "passed_time": 695.4146343,
                        "remaining_time": 824.6173532,
                        "test": [
                          0.1525169691,
                          3.819513602
                        ]
                      },
                      {
                        "learn": [
                          0.1860414909,
                          3.720790109
                        ],
                        "iteration": 366,
                        "passed_time": 697.1998194,
                        "remaining_time": 822.5818033,
                        "test": [
                          0.15331776,
                          3.818865091
                        ]
                      },
                      {
                        "learn": [
                          0.186989095,
                          3.720020132
                        ],
                        "iteration": 367,
                        "passed_time": 699.1367214,
                        "remaining_time": 820.7257164,
                        "test": [
                          0.1536387394,
                          3.818505067
                        ]
                      },
                      {
                        "learn": [
                          0.1870582676,
                          3.719230506
                        ],
                        "iteration": 368,
                        "passed_time": 701.7874611,
                        "remaining_time": 819.7029695,
                        "test": [
                          0.1536550114,
                          3.817614109
                        ]
                      },
                      {
                        "learn": [
                          0.1870582676,
                          3.718512455
                        ],
                        "iteration": 369,
                        "passed_time": 703.5088613,
                        "remaining_time": 817.5913794,
                        "test": [
                          0.1536550114,
                          3.817019288
                        ]
                      },
                      {
                        "learn": [
                          0.1894309107,
                          3.71782531
                        ],
                        "iteration": 370,
                        "passed_time": 705.228972,
                        "remaining_time": 815.4804016,
                        "test": [
                          0.1558724865,
                          3.816224926
                        ]
                      },
                      {
                        "learn": [
                          0.1878365919,
                          3.717062369
                        ],
                        "iteration": 371,
                        "passed_time": 706.9989761,
                        "remaining_time": 813.4289295,
                        "test": [
                          0.1536550114,
                          3.815710216
                        ]
                      },
                      {
                        "learn": [
                          0.1906933402,
                          3.716216052
                        ],
                        "iteration": 372,
                        "passed_time": 708.8020303,
                        "remaining_time": 811.4168015,
                        "test": [
                          0.1561478344,
                          3.815313887
                        ]
                      },
                      {
                        "learn": [
                          0.1908792136,
                          3.715551457
                        ],
                        "iteration": 373,
                        "passed_time": 710.545233,
                        "remaining_time": 809.3376183,
                        "test": [
                          0.1561794636,
                          3.815048097
                        ]
                      },
                      {
                        "learn": [
                          0.1912238883,
                          3.71473276
                        ],
                        "iteration": 374,
                        "passed_time": 713.0442909,
                        "remaining_time": 808.116863,
                        "test": [
                          0.1563621627,
                          3.814517301
                        ]
                      },
                      {
                        "learn": [
                          0.1920133597,
                          3.713723581
                        ],
                        "iteration": 375,
                        "passed_time": 715.2613912,
                        "remaining_time": 806.571356,
                        "test": [
                          0.1566540113,
                          3.813775966
                        ]
                      },
                      {
                        "learn": [
                          0.1922207812,
                          3.712984015
                        ],
                        "iteration": 376,
                        "passed_time": 717.0469112,
                        "remaining_time": 804.5380463,
                        "test": [
                          0.1566540113,
                          3.813289698
                        ]
                      },
                      {
                        "learn": [
                          0.1934905071,
                          3.7121155
                        ],
                        "iteration": 377,
                        "passed_time": 718.767781,
                        "remaining_time": 802.4338719,
                        "test": [
                          0.157630178,
                          3.812272311
                        ]
                      },
                      {
                        "learn": [
                          0.1936232476,
                          3.711354196
                        ],
                        "iteration": 378,
                        "passed_time": 720.499577,
                        "remaining_time": 800.3438573,
                        "test": [
                          0.1579107187,
                          3.812015282
                        ]
                      },
                      {
                        "learn": [
                          0.1943336245,
                          3.710563953
                        ],
                        "iteration": 379,
                        "passed_time": 722.2608725,
                        "remaining_time": 798.2883328,
                        "test": [
                          0.158215766,
                          3.811683093
                        ]
                      },
                      {
                        "learn": [
                          0.1944812903,
                          3.709776885
                        ],
                        "iteration": 380,
                        "passed_time": 724.1041615,
                        "remaining_time": 796.3245241,
                        "test": [
                          0.1585032014,
                          3.810994944
                        ]
                      },
                      {
                        "learn": [
                          0.1944812903,
                          3.709128743
                        ],
                        "iteration": 381,
                        "passed_time": 726.8517059,
                        "remaining_time": 795.3508196,
                        "test": [
                          0.1585032014,
                          3.810416329
                        ]
                      },
                      {
                        "learn": [
                          0.1947626416,
                          3.708390872
                        ],
                        "iteration": 382,
                        "passed_time": 728.5971132,
                        "remaining_time": 793.2767525,
                        "test": [
                          0.1587676921,
                          3.809739422
                        ]
                      },
                      {
                        "learn": [
                          0.1947626416,
                          3.70762558
                        ],
                        "iteration": 383,
                        "passed_time": 730.3181305,
                        "remaining_time": 791.1779747,
                        "test": [
                          0.1587676921,
                          3.809341676
                        ]
                      },
                      {
                        "learn": [
                          0.1953923098,
                          3.706934171
                        ],
                        "iteration": 384,
                        "passed_time": 732.0391017,
                        "remaining_time": 789.0811096,
                        "test": [
                          0.1595050845,
                          3.808416772
                        ]
                      },
                      {
                        "learn": [
                          0.1953923098,
                          3.706188887
                        ],
                        "iteration": 385,
                        "passed_time": 733.7738949,
                        "remaining_time": 787.0010169,
                        "test": [
                          0.1595050845,
                          3.807937093
                        ]
                      },
                      {
                        "learn": [
                          0.1953923098,
                          3.705480834
                        ],
                        "iteration": 386,
                        "passed_time": 735.5237423,
                        "remaining_time": 784.938774,
                        "test": [
                          0.1595050845,
                          3.807278909
                        ]
                      },
                      {
                        "learn": [
                          0.1960311477,
                          3.704794151
                        ],
                        "iteration": 387,
                        "passed_time": 738.126869,
                        "remaining_time": 783.7842011,
                        "test": [
                          0.1608289099,
                          3.80666767
                        ]
                      },
                      {
                        "learn": [
                          0.1962442155,
                          3.704113084
                        ],
                        "iteration": 388,
                        "passed_time": 740.1843405,
                        "remaining_time": 782.0456657,
                        "test": [
                          0.1608289099,
                          3.80588694
                        ]
                      },
                      {
                        "learn": [
                          0.1965404565,
                          3.703437666
                        ],
                        "iteration": 389,
                        "passed_time": 741.9161546,
                        "remaining_time": 779.9631369,
                        "test": [
                          0.1608256778,
                          3.805440294
                        ]
                      },
                      {
                        "learn": [
                          0.1964751058,
                          3.702620638
                        ],
                        "iteration": 390,
                        "passed_time": 743.6856668,
                        "remaining_time": 777.9218356,
                        "test": [
                          0.1608256778,
                          3.804994606
                        ]
                      },
                      {
                        "learn": [
                          0.1971106787,
                          3.70194669
                        ],
                        "iteration": 391,
                        "passed_time": 745.4330032,
                        "remaining_time": 775.8588401,
                        "test": [
                          0.161044309,
                          3.804388071
                        ]
                      },
                      {
                        "learn": [
                          0.1975035954,
                          3.70120722
                        ],
                        "iteration": 392,
                        "passed_time": 747.1552656,
                        "remaining_time": 773.7714837,
                        "test": [
                          0.1616279633,
                          3.803596528
                        ]
                      },
                      {
                        "learn": [
                          0.1984601944,
                          3.700522914
                        ],
                        "iteration": 393,
                        "passed_time": 749.0544204,
                        "remaining_time": 771.8682607,
                        "test": [
                          0.1629781168,
                          3.803228254
                        ]
                      },
                      {
                        "learn": [
                          0.1986903121,
                          3.699806572
                        ],
                        "iteration": 394,
                        "passed_time": 751.7036855,
                        "remaining_time": 770.7341586,
                        "test": [
                          0.1631880298,
                          3.802506536
                        ]
                      },
                      {
                        "learn": [
                          0.198940833,
                          3.699061505
                        ],
                        "iteration": 395,
                        "passed_time": 753.4510134,
                        "remaining_time": 768.672246,
                        "test": [
                          0.1636412286,
                          3.801946622
                        ]
                      },
                      {
                        "learn": [
                          0.1997456272,
                          3.698212969
                        ],
                        "iteration": 396,
                        "passed_time": 755.1769987,
                        "remaining_time": 766.5902531,
                        "test": [
                          0.1636412286,
                          3.801244249
                        ]
                      },
                      {
                        "learn": [
                          0.1997697125,
                          3.697380665
                        ],
                        "iteration": 397,
                        "passed_time": 756.9246427,
                        "remaining_time": 764.5319255,
                        "test": [
                          0.1640469218,
                          3.800477341
                        ]
                      },
                      {
                        "learn": [
                          0.1997697125,
                          3.696839033
                        ],
                        "iteration": 398,
                        "passed_time": 758.6387556,
                        "remaining_time": 762.4414561,
                        "test": [
                          0.1640469218,
                          3.800246439
                        ]
                      },
                      {
                        "learn": [
                          0.2001968846,
                          3.696188782
                        ],
                        "iteration": 399,
                        "passed_time": 760.3992202,
                        "remaining_time": 760.3992202,
                        "test": [
                          0.1640469218,
                          3.799792132
                        ]
                      },
                      {
                        "learn": [
                          0.2002745037,
                          3.695496572
                        ],
                        "iteration": 400,
                        "passed_time": 762.899638,
                        "remaining_time": 759.0946522,
                        "test": [
                          0.1640469218,
                          3.799466149
                        ]
                      },
                      {
                        "learn": [
                          0.2005410578,
                          3.694637368
                        ],
                        "iteration": 401,
                        "passed_time": 765.031087,
                        "remaining_time": 757.4188374,
                        "test": [
                          0.1640469218,
                          3.798977876
                        ]
                      },
                      {
                        "learn": [
                          0.2010096218,
                          3.693957317
                        ],
                        "iteration": 402,
                        "passed_time": 766.8185274,
                        "remaining_time": 755.4018744,
                        "test": [
                          0.1641580504,
                          3.798527938
                        ]
                      },
                      {
                        "learn": [
                          0.2010096218,
                          3.693192817
                        ],
                        "iteration": 403,
                        "passed_time": 768.5951629,
                        "remaining_time": 753.3754567,
                        "test": [
                          0.1641580504,
                          3.79766361
                        ]
                      },
                      {
                        "learn": [
                          0.2018191825,
                          3.692419124
                        ],
                        "iteration": 404,
                        "passed_time": 770.3929505,
                        "remaining_time": 751.3709023,
                        "test": [
                          0.1650533801,
                          3.797057787
                        ]
                      },
                      {
                        "learn": [
                          0.2018191825,
                          3.691743461
                        ],
                        "iteration": 405,
                        "passed_time": 772.173066,
                        "remaining_time": 749.3502167,
                        "test": [
                          0.1650533801,
                          3.796696713
                        ]
                      },
                      {
                        "learn": [
                          0.2021439759,
                          3.691015133
                        ],
                        "iteration": 406,
                        "passed_time": 774.128064,
                        "remaining_time": 747.4995802,
                        "test": [
                          0.1650533801,
                          3.796088475
                        ]
                      },
                      {
                        "learn": [
                          0.2021995434,
                          3.690280216
                        ],
                        "iteration": 407,
                        "passed_time": 776.8699564,
                        "remaining_time": 746.4044679,
                        "test": [
                          0.1655363105,
                          3.795627298
                        ]
                      },
                      {
                        "learn": [
                          0.2031025272,
                          3.689573392
                        ],
                        "iteration": 408,
                        "passed_time": 778.5912024,
                        "remaining_time": 744.3255749,
                        "test": [
                          0.1659672146,
                          3.795038789
                        ]
                      },
                      {
                        "learn": [
                          0.2031179315,
                          3.688865954
                        ],
                        "iteration": 409,
                        "passed_time": 780.3143368,
                        "remaining_time": 742.2502228,
                        "test": [
                          0.1659672146,
                          3.794731292
                        ]
                      },
                      {
                        "learn": [
                          0.203863619,
                          3.688094308
                        ],
                        "iteration": 410,
                        "passed_time": 782.0574573,
                        "remaining_time": 740.1955009,
                        "test": [
                          0.1663665149,
                          3.79429166
                        ]
                      },
                      {
                        "learn": [
                          0.203863619,
                          3.687504481
                        ],
                        "iteration": 411,
                        "passed_time": 783.7977103,
                        "remaining_time": 738.1395913,
                        "test": [
                          0.1663665149,
                          3.79381436
                        ]
                      },
                      {
                        "learn": [
                          0.2039703038,
                          3.686860722
                        ],
                        "iteration": 412,
                        "passed_time": 785.6054008,
                        "remaining_time": 736.1484022,
                        "test": [
                          0.1665967532,
                          3.793388397
                        ]
                      },
                      {
                        "learn": [
                          0.2045466451,
                          3.686213987
                        ],
                        "iteration": 413,
                        "passed_time": 788.1951418,
                        "remaining_time": 734.8872578,
                        "test": [
                          0.1678463328,
                          3.792729682
                        ]
                      },
                      {
                        "learn": [
                          0.2048115188,
                          3.685466898
                        ],
                        "iteration": 414,
                        "passed_time": 790.1566253,
                        "remaining_time": 733.0368693,
                        "test": [
                          0.1681575818,
                          3.792049723
                        ]
                      },
                      {
                        "learn": [
                          0.2056270478,
                          3.684729132
                        ],
                        "iteration": 415,
                        "passed_time": 791.8937396,
                        "remaining_time": 730.9788365,
                        "test": [
                          0.1687879578,
                          3.791758781
                        ]
                      },
                      {
                        "learn": [
                          0.2057348836,
                          3.684120042
                        ],
                        "iteration": 416,
                        "passed_time": 793.6065633,
                        "remaining_time": 728.9000329,
                        "test": [
                          0.1687879578,
                          3.791151879
                        ]
                      },
                      {
                        "learn": [
                          0.2067390423,
                          3.683408088
                        ],
                        "iteration": 417,
                        "passed_time": 795.3746084,
                        "remaining_time": 726.8734459,
                        "test": [
                          0.1687879578,
                          3.790825922
                        ]
                      },
                      {
                        "learn": [
                          0.2068124838,
                          3.682692391
                        ],
                        "iteration": 418,
                        "passed_time": 797.1215587,
                        "remaining_time": 724.8289114,
                        "test": [
                          0.1687879578,
                          3.790384013
                        ]
                      },
                      {
                        "learn": [
                          0.2068600152,
                          3.681981433
                        ],
                        "iteration": 419,
                        "passed_time": 799.0034914,
                        "remaining_time": 722.9079208,
                        "test": [
                          0.1693279417,
                          3.789981177
                        ]
                      },
                      {
                        "learn": [
                          0.2068600152,
                          3.681246944
                        ],
                        "iteration": 420,
                        "passed_time": 801.7131218,
                        "remaining_time": 721.7322403,
                        "test": [
                          0.1693279417,
                          3.789492586
                        ]
                      },
                      {
                        "learn": [
                          0.207240388,
                          3.680537234
                        ],
                        "iteration": 421,
                        "passed_time": 803.4119299,
                        "remaining_time": 719.6438614,
                        "test": [
                          0.1699265454,
                          3.788822988
                        ]
                      },
                      {
                        "learn": [
                          0.2074785637,
                          3.679824427
                        ],
                        "iteration": 422,
                        "passed_time": 805.1370185,
                        "remaining_time": 717.5807469,
                        "test": [
                          0.1701853307,
                          3.788343418
                        ]
                      },
                      {
                        "learn": [
                          0.2074785637,
                          3.679187966
                        ],
                        "iteration": 423,
                        "passed_time": 806.8796958,
                        "remaining_time": 715.5348245,
                        "test": [
                          0.1701853307,
                          3.787458012
                        ]
                      },
                      {
                        "learn": [
                          0.2078735527,
                          3.678545925
                        ],
                        "iteration": 424,
                        "passed_time": 808.6103589,
                        "remaining_time": 713.4797284,
                        "test": [
                          0.1703806785,
                          3.787119459
                        ]
                      },
                      {
                        "learn": [
                          0.2081022659,
                          3.677736066
                        ],
                        "iteration": 425,
                        "passed_time": 810.4104108,
                        "remaining_time": 711.4870743,
                        "test": [
                          0.1703613101,
                          3.786567855
                        ]
                      },
                      {
                        "learn": [
                          0.2081683826,
                          3.676982258
                        ],
                        "iteration": 426,
                        "passed_time": 812.794347,
                        "remaining_time": 710.0053664,
                        "test": [
                          0.1703613101,
                          3.786040517
                        ]
                      },
                      {
                        "learn": [
                          0.2081683826,
                          3.676272897
                        ],
                        "iteration": 427,
                        "passed_time": 814.9905388,
                        "remaining_time": 708.3562627,
                        "test": [
                          0.1703613101,
                          3.785429754
                        ]
                      },
                      {
                        "learn": [
                          0.2081683826,
                          3.675538545
                        ],
                        "iteration": 428,
                        "passed_time": 816.7267941,
                        "remaining_time": 706.3068546,
                        "test": [
                          0.1703613101,
                          3.784632161
                        ]
                      },
                      {
                        "learn": [
                          0.2081683826,
                          3.674723556
                        ],
                        "iteration": 429,
                        "passed_time": 818.4697054,
                        "remaining_time": 704.2646302,
                        "test": [
                          0.1703613101,
                          3.783948514
                        ]
                      },
                      {
                        "learn": [
                          0.2081683826,
                          3.674036915
                        ],
                        "iteration": 430,
                        "passed_time": 820.1883598,
                        "remaining_time": 702.2030273,
                        "test": [
                          0.1703613101,
                          3.783496573
                        ]
                      },
                      {
                        "learn": [
                          0.2085948113,
                          3.673445158
                        ],
                        "iteration": 431,
                        "passed_time": 821.9544832,
                        "remaining_time": 700.1834487,
                        "test": [
                          0.1712100509,
                          3.783007235
                        ]
                      },
                      {
                        "learn": [
                          0.2089780293,
                          3.672744805
                        ],
                        "iteration": 432,
                        "passed_time": 823.7427373,
                        "remaining_time": 698.1837981,
                        "test": [
                          0.1713331358,
                          3.782649716
                        ]
                      },
                      {
                        "learn": [
                          0.2089780293,
                          3.672171115
                        ],
                        "iteration": 433,
                        "passed_time": 826.7079927,
                        "remaining_time": 697.1777082,
                        "test": [
                          0.1713331358,
                          3.782125081
                        ]
                      },
                      {
                        "learn": [
                          0.2094173784,
                          3.671479734
                        ],
                        "iteration": 434,
                        "passed_time": 828.5024297,
                        "remaining_time": 695.1801996,
                        "test": [
                          0.171993313,
                          3.781587869
                        ]
                      },
                      {
                        "learn": [
                          0.2099427244,
                          3.670693036
                        ],
                        "iteration": 435,
                        "passed_time": 830.2964725,
                        "remaining_time": 693.1832935,
                        "test": [
                          0.1725309192,
                          3.780724772
                        ]
                      },
                      {
                        "learn": [
                          0.2101585819,
                          3.669989343
                        ],
                        "iteration": 436,
                        "passed_time": 832.2009048,
                        "remaining_time": 691.2790124,
                        "test": [
                          0.1730046302,
                          3.779723106
                        ]
                      },
                      {
                        "learn": [
                          0.2106774374,
                          3.669397294
                        ],
                        "iteration": 437,
                        "passed_time": 834.0439046,
                        "remaining_time": 689.3239577,
                        "test": [
                          0.1734229816,
                          3.779163298
                        ]
                      },
                      {
                        "learn": [
                          0.2113724995,
                          3.668681346
                        ],
                        "iteration": 438,
                        "passed_time": 835.8798321,
                        "remaining_time": 687.3635977,
                        "test": [
                          0.1739733857,
                          3.778520334
                        ]
                      },
                      {
                        "learn": [
                          0.2120773364,
                          3.667935705
                        ],
                        "iteration": 439,
                        "passed_time": 838.7938948,
                        "remaining_time": 686.2859139,
                        "test": [
                          0.1744011547,
                          3.777873624
                        ]
                      },
                      {
                        "learn": [
                          0.212321184,
                          3.667348193
                        ],
                        "iteration": 440,
                        "passed_time": 840.6130116,
                        "remaining_time": 684.3085514,
                        "test": [
                          0.1744011547,
                          3.777045847
                        ]
                      },
                      {
                        "learn": [
                          0.2127247072,
                          3.666596922
                        ],
                        "iteration": 441,
                        "passed_time": 842.4049923,
                        "remaining_time": 682.3099259,
                        "test": [
                          0.174608234,
                          3.7766807
                        ]
                      },
                      {
                        "learn": [
                          0.2135456494,
                          3.665954644
                        ],
                        "iteration": 442,
                        "passed_time": 844.1524138,
                        "remaining_time": 680.2763245,
                        "test": [
                          0.1753727766,
                          3.776252809
                        ]
                      },
                      {
                        "learn": [
                          0.2138555242,
                          3.665320109
                        ],
                        "iteration": 443,
                        "passed_time": 845.9269216,
                        "remaining_time": 678.2657299,
                        "test": [
                          0.1755612922,
                          3.775929609
                        ]
                      },
                      {
                        "learn": [
                          0.2140428461,
                          3.664682087
                        ],
                        "iteration": 444,
                        "passed_time": 847.6818036,
                        "remaining_time": 676.2405399,
                        "test": [
                          0.1762366843,
                          3.775375267
                        ]
                      },
                      {
                        "learn": [
                          0.214077601,
                          3.664101868
                        ],
                        "iteration": 445,
                        "passed_time": 849.8347929,
                        "remaining_time": 674.5325486,
                        "test": [
                          0.1762366843,
                          3.774943493
                        ]
                      },
                      {
                        "learn": [
                          0.213921062,
                          3.663338555
                        ],
                        "iteration": 446,
                        "passed_time": 852.2820552,
                        "remaining_time": 673.0549563,
                        "test": [
                          0.1760151847,
                          3.774436541
                        ]
                      },
                      {
                        "learn": [
                          0.2142156532,
                          3.662701242
                        ],
                        "iteration": 447,
                        "passed_time": 854.0425692,
                        "remaining_time": 671.0334472,
                        "test": [
                          0.1767983694,
                          3.773894456
                        ]
                      },
                      {
                        "learn": [
                          0.2142748917,
                          3.661980662
                        ],
                        "iteration": 448,
                        "passed_time": 855.7803623,
                        "remaining_time": 668.9953389,
                        "test": [
                          0.1762155902,
                          3.773228502
                        ]
                      },
                      {
                        "learn": [
                          0.2144561123,
                          3.661379047
                        ],
                        "iteration": 449,
                        "passed_time": 857.5440072,
                        "remaining_time": 666.9786723,
                        "test": [
                          0.1764584716,
                          3.772656108
                        ]
                      },
                      {
                        "learn": [
                          0.2146131532,
                          3.66065434
                        ],
                        "iteration": 450,
                        "passed_time": 859.2814645,
                        "remaining_time": 664.9428627,
                        "test": [
                          0.1770963159,
                          3.772253917
                        ]
                      },
                      {
                        "learn": [
                          0.2146524845,
                          3.660047892
                        ],
                        "iteration": 451,
                        "passed_time": 861.053368,
                        "remaining_time": 662.9348939,
                        "test": [
                          0.1770145792,
                          3.771717426
                        ]
                      },
                      {
                        "learn": [
                          0.2147433855,
                          3.659414586
                        ],
                        "iteration": 452,
                        "passed_time": 863.9411879,
                        "remaining_time": 661.7827643,
                        "test": [
                          0.1774700044,
                          3.771252481
                        ]
                      },
                      {
                        "learn": [
                          0.2153152803,
                          3.658791541
                        ],
                        "iteration": 453,
                        "passed_time": 865.81487,
                        "remaining_time": 659.8500991,
                        "test": [
                          0.1774700044,
                          3.770669077
                        ]
                      },
                      {
                        "learn": [
                          0.2139621758,
                          3.658241463
                        ],
                        "iteration": 454,
                        "passed_time": 867.6242237,
                        "remaining_time": 657.8689169,
                        "test": [
                          0.1774434491,
                          3.769906693
                        ]
                      },
                      {
                        "learn": [
                          0.2153228689,
                          3.657681895
                        ],
                        "iteration": 455,
                        "passed_time": 869.3815435,
                        "remaining_time": 655.8492346,
                        "test": [
                          0.1780135109,
                          3.769431822
                        ]
                      },
                      {
                        "learn": [
                          0.2159860918,
                          3.656941321
                        ],
                        "iteration": 456,
                        "passed_time": 871.4439066,
                        "remaining_time": 654.0596498,
                        "test": [
                          0.1784328175,
                          3.76866581
                        ]
                      },
                      {
                        "learn": [
                          0.2167233918,
                          3.656233852
                        ],
                        "iteration": 457,
                        "passed_time": 873.190072,
                        "remaining_time": 652.0327612,
                        "test": [
                          0.1800565846,
                          3.767947395
                        ]
                      },
                      {
                        "learn": [
                          0.2167419755,
                          3.655540068
                        ],
                        "iteration": 458,
                        "passed_time": 875.7552537,
                        "remaining_time": 650.6155588,
                        "test": [
                          0.1800998358,
                          3.767411778
                        ]
                      },
                      {
                        "learn": [
                          0.2167419755,
                          3.654787451
                        ],
                        "iteration": 459,
                        "passed_time": 877.9544525,
                        "remaining_time": 648.9228562,
                        "test": [
                          0.1800998358,
                          3.7664239
                        ]
                      },
                      {
                        "learn": [
                          0.2179183168,
                          3.653991916
                        ],
                        "iteration": 460,
                        "passed_time": 879.7175621,
                        "remaining_time": 646.9072745,
                        "test": [
                          0.1805914353,
                          3.765519241
                        ]
                      },
                      {
                        "learn": [
                          0.2177336681,
                          3.653314138
                        ],
                        "iteration": 461,
                        "passed_time": 881.4876661,
                        "remaining_time": 644.8979029,
                        "test": [
                          0.1800085374,
                          3.765181099
                        ]
                      },
                      {
                        "learn": [
                          0.2180511451,
                          3.652668836
                        ],
                        "iteration": 462,
                        "passed_time": 883.2237606,
                        "remaining_time": 642.8648106,
                        "test": [
                          0.1802737393,
                          3.764790459
                        ]
                      },
                      {
                        "learn": [
                          0.2183392763,
                          3.651991941
                        ],
                        "iteration": 463,
                        "passed_time": 884.9598541,
                        "remaining_time": 640.8329978,
                        "test": [
                          0.180531387,
                          3.764304625
                        ]
                      },
                      {
                        "learn": [
                          0.2187444731,
                          3.651322553
                        ],
                        "iteration": 464,
                        "passed_time": 886.8387139,
                        "remaining_time": 638.90531,
                        "test": [
                          0.1811446677,
                          3.763724162
                        ]
                      },
                      {
                        "learn": [
                          0.2191641294,
                          3.650608163
                        ],
                        "iteration": 465,
                        "passed_time": 889.5848015,
                        "remaining_time": 637.5994071,
                        "test": [
                          0.1814086582,
                          3.763005668
                        ]
                      },
                      {
                        "learn": [
                          0.2194094141,
                          3.650009819
                        ],
                        "iteration": 466,
                        "passed_time": 891.3285254,
                        "remaining_time": 635.5725888,
                        "test": [
                          0.1814086582,
                          3.762301667
                        ]
                      },
                      {
                        "learn": [
                          0.2203351285,
                          3.649308682
                        ],
                        "iteration": 467,
                        "passed_time": 893.043959,
                        "remaining_time": 633.5269111,
                        "test": [
                          0.1823991168,
                          3.761880982
                        ]
                      },
                      {
                        "learn": [
                          0.220745224,
                          3.648752254
                        ],
                        "iteration": 468,
                        "passed_time": 894.7721862,
                        "remaining_time": 631.4916709,
                        "test": [
                          0.1823991168,
                          3.76169118
                        ]
                      },
                      {
                        "learn": [
                          0.2205103179,
                          3.648073701
                        ],
                        "iteration": 469,
                        "passed_time": 896.5185223,
                        "remaining_time": 629.4704519,
                        "test": [
                          0.1816581061,
                          3.761110668
                        ]
                      },
                      {
                        "learn": [
                          0.2209326068,
                          3.647405669
                        ],
                        "iteration": 470,
                        "passed_time": 898.2661164,
                        "remaining_time": 627.4512788,
                        "test": [
                          0.1816581061,
                          3.760933493
                        ]
                      },
                      {
                        "learn": [
                          0.221488253,
                          3.646824357
                        ],
                        "iteration": 471,
                        "passed_time": 900.7504903,
                        "remaining_time": 625.945256,
                        "test": [
                          0.1816581061,
                          3.760366688
                        ]
                      },
                      {
                        "learn": [
                          0.2214999169,
                          3.646228081
                        ],
                        "iteration": 472,
                        "passed_time": 902.9011075,
                        "remaining_time": 624.2043597,
                        "test": [
                          0.1817408068,
                          3.759972437
                        ]
                      },
                      {
                        "learn": [
                          0.2218393966,
                          3.64564319
                        ],
                        "iteration": 473,
                        "passed_time": 904.6262564,
                        "remaining_time": 622.1691131,
                        "test": [
                          0.1818523354,
                          3.759378327
                        ]
                      },
                      {
                        "learn": [
                          0.222385152,
                          3.645040679
                        ],
                        "iteration": 474,
                        "passed_time": 906.4120651,
                        "remaining_time": 620.1766761,
                        "test": [
                          0.1821840114,
                          3.758803333
                        ]
                      },
                      {
                        "learn": [
                          0.2227783796,
                          3.644457144
                        ],
                        "iteration": 475,
                        "passed_time": 908.1900243,
                        "remaining_time": 618.1797645,
                        "test": [
                          0.1820279652,
                          3.758220198
                        ]
                      },
                      {
                        "learn": [
                          0.2229734968,
                          3.643863881
                        ],
                        "iteration": 476,
                        "passed_time": 909.9460424,
                        "remaining_time": 616.1689134,
                        "test": [
                          0.1821840114,
                          3.757715799
                        ]
                      },
                      {
                        "learn": [
                          0.2223536091,
                          3.643178129
                        ],
                        "iteration": 477,
                        "passed_time": 911.9057356,
                        "remaining_time": 614.2963323,
                        "test": [
                          0.1821840114,
                          3.757220866
                        ]
                      },
                      {
                        "learn": [
                          0.2232531468,
                          3.642528335
                        ],
                        "iteration": 478,
                        "passed_time": 914.6956368,
                        "remaining_time": 612.9797482,
                        "test": [
                          0.1824422627,
                          3.756519064
                        ]
                      },
                      {
                        "learn": [
                          0.2238306094,
                          3.64186995
                        ],
                        "iteration": 479,
                        "passed_time": 916.4515248,
                        "remaining_time": 610.9676832,
                        "test": [
                          0.1827456242,
                          3.755912377
                        ]
                      },
                      {
                        "learn": [
                          0.2242733061,
                          3.641193093
                        ],
                        "iteration": 480,
                        "passed_time": 918.1816175,
                        "remaining_time": 608.9395759,
                        "test": [
                          0.1841152735,
                          3.755171036
                        ]
                      },
                      {
                        "learn": [
                          0.224476418,
                          3.640659458
                        ],
                        "iteration": 481,
                        "passed_time": 919.9834063,
                        "remaining_time": 606.9600066,
                        "test": [
                          0.1841152735,
                          3.754855934
                        ]
                      },
                      {
                        "learn": [
                          0.2255671007,
                          3.639994741
                        ],
                        "iteration": 482,
                        "passed_time": 921.8216106,
                        "remaining_time": 605.0050737,
                        "test": [
                          0.1851736123,
                          3.754232423
                        ]
                      },
                      {
                        "learn": [
                          0.2254487104,
                          3.63941047
                        ],
                        "iteration": 483,
                        "passed_time": 923.5955036,
                        "remaining_time": 603.0086346,
                        "test": [
                          0.1854865636,
                          3.753579377
                        ]
                      },
                      {
                        "learn": [
                          0.2263801758,
                          3.638677733
                        ],
                        "iteration": 484,
                        "passed_time": 926.1318954,
                        "remaining_time": 601.5083444,
                        "test": [
                          0.1859378342,
                          3.752970035
                        ]
                      },
                      {
                        "learn": [
                          0.2269374142,
                          3.637985044
                        ],
                        "iteration": 485,
                        "passed_time": 928.3829667,
                        "remaining_time": 599.8194476,
                        "test": [
                          0.186678878,
                          3.752256394
                        ]
                      },
                      {
                        "learn": [
                          0.2267435042,
                          3.637371026
                        ],
                        "iteration": 486,
                        "passed_time": 930.1984526,
                        "remaining_time": 597.8482868,
                        "test": [
                          0.186678878,
                          3.751890709
                        ]
                      },
                      {
                        "learn": [
                          0.2267435042,
                          3.636764133
                        ],
                        "iteration": 487,
                        "passed_time": 931.9447584,
                        "remaining_time": 595.8335341,
                        "test": [
                          0.186678878,
                          3.751256694
                        ]
                      },
                      {
                        "learn": [
                          0.2264213418,
                          3.636163725
                        ],
                        "iteration": 488,
                        "passed_time": 933.7766081,
                        "remaining_time": 593.8742845,
                        "test": [
                          0.1875751847,
                          3.750644578
                        ]
                      },
                      {
                        "learn": [
                          0.2268767803,
                          3.635667587
                        ],
                        "iteration": 489,
                        "passed_time": 935.5542013,
                        "remaining_time": 591.8812294,
                        "test": [
                          0.1877859258,
                          3.750095749
                        ]
                      },
                      {
                        "learn": [
                          0.2268767803,
                          3.635051538
                        ],
                        "iteration": 490,
                        "passed_time": 937.5256454,
                        "remaining_time": 590.0110477,
                        "test": [
                          0.1877859258,
                          3.74978392
                        ]
                      },
                      {
                        "learn": [
                          0.2278856527,
                          3.634387131
                        ],
                        "iteration": 491,
                        "passed_time": 940.1894573,
                        "remaining_time": 588.5738879,
                        "test": [
                          0.1874422251,
                          3.749118279
                        ]
                      },
                      {
                        "learn": [
                          0.2278906706,
                          3.633741173
                        ],
                        "iteration": 492,
                        "passed_time": 941.9635479,
                        "remaining_time": 586.5777063,
                        "test": [
                          0.1874600922,
                          3.748414851
                        ]
                      },
                      {
                        "learn": [
                          0.2278906706,
                          3.633114889
                        ],
                        "iteration": 493,
                        "passed_time": 943.8072283,
                        "remaining_time": 584.6255301,
                        "test": [
                          0.1874600922,
                          3.747888301
                        ]
                      },
                      {
                        "learn": [
                          0.2285209122,
                          3.63242037
                        ],
                        "iteration": 494,
                        "passed_time": 945.6301359,
                        "remaining_time": 582.6609929,
                        "test": [
                          0.1886315006,
                          3.747400824
                        ]
                      },
                      {
                        "learn": [
                          0.228823925,
                          3.63174549
                        ],
                        "iteration": 495,
                        "passed_time": 947.5411854,
                        "remaining_time": 580.7510491,
                        "test": [
                          0.1886310111,
                          3.746947599
                        ]
                      },
                      {
                        "learn": [
                          0.2292446338,
                          3.631097467
                        ],
                        "iteration": 496,
                        "passed_time": 949.3028696,
                        "remaining_time": 578.7500392,
                        "test": [
                          0.1890557309,
                          3.746736778
                        ]
                      },
                      {
                        "learn": [
                          0.2291934691,
                          3.630560594
                        ],
                        "iteration": 497,
                        "passed_time": 952.0351222,
                        "remaining_time": 577.3385681,
                        "test": [
                          0.1883144028,
                          3.746196647
                        ]
                      },
                      {
                        "learn": [
                          0.2295343553,
                          3.629980985
                        ],
                        "iteration": 498,
                        "passed_time": 953.9004594,
                        "remaining_time": 575.3988743,
                        "test": [
                          0.189211666,
                          3.745990687
                        ]
                      },
                      {
                        "learn": [
                          0.2295078413,
                          3.629355763
                        ],
                        "iteration": 499,
                        "passed_time": 955.6832112,
                        "remaining_time": 573.4099267,
                        "test": [
                          0.1891455668,
                          3.745208034
                        ]
                      },
                      {
                        "learn": [
                          0.2301258108,
                          3.628729585
                        ],
                        "iteration": 500,
                        "passed_time": 957.5897724,
                        "remaining_time": 571.4956925,
                        "test": [
                          0.1902181186,
                          3.744714971
                        ]
                      },
                      {
                        "learn": [
                          0.2300733275,
                          3.628049739
                        ],
                        "iteration": 501,
                        "passed_time": 959.4043821,
                        "remaining_time": 569.5269041,
                        "test": [
                          0.1901948487,
                          3.743853753
                        ]
                      },
                      {
                        "learn": [
                          0.2302815967,
                          3.627394152
                        ],
                        "iteration": 502,
                        "passed_time": 961.2199074,
                        "remaining_time": 567.5592694,
                        "test": [
                          0.190310158,
                          3.743580407
                        ]
                      },
                      {
                        "learn": [
                          0.2306930789,
                          3.626687306
                        ],
                        "iteration": 503,
                        "passed_time": 963.5659261,
                        "remaining_time": 565.9037979,
                        "test": [
                          0.1910074228,
                          3.743067467
                        ]
                      },
                      {
                        "learn": [
                          0.2306780019,
                          3.626082663
                        ],
                        "iteration": 504,
                        "passed_time": 965.9003797,
                        "remaining_time": 564.2388357,
                        "test": [
                          0.1910039634,
                          3.742614968
                        ]
                      },
                      {
                        "learn": [
                          0.2311069656,
                          3.625423677
                        ],
                        "iteration": 505,
                        "passed_time": 967.8473233,
                        "remaining_time": 562.3460732,
                        "test": [
                          0.1912354709,
                          3.742221606
                        ]
                      },
                      {
                        "learn": [
                          0.2311192049,
                          3.624785899
                        ],
                        "iteration": 506,
                        "passed_time": 969.6240615,
                        "remaining_time": 560.3547338,
                        "test": [
                          0.1912381393,
                          3.741589293
                        ]
                      },
                      {
                        "learn": [
                          0.2313477765,
                          3.624147483
                        ],
                        "iteration": 507,
                        "passed_time": 971.4118542,
                        "remaining_time": 558.3705933,
                        "test": [
                          0.1915034412,
                          3.741006212
                        ]
                      },
                      {
                        "learn": [
                          0.2319086725,
                          3.623499638
                        ],
                        "iteration": 508,
                        "passed_time": 973.1979522,
                        "remaining_time": 556.3862556,
                        "test": [
                          0.192098063,
                          3.740446186
                        ]
                      },
                      {
                        "learn": [
                          0.2320177861,
                          3.622885385
                        ],
                        "iteration": 509,
                        "passed_time": 975.3290308,
                        "remaining_time": 554.5988606,
                        "test": [
                          0.1921526741,
                          3.74002846
                        ]
                      },
                      {
                        "learn": [
                          0.2320296624,
                          3.622305761
                        ],
                        "iteration": 510,
                        "passed_time": 978.1306975,
                        "remaining_time": 553.1893768,
                        "test": [
                          0.1921551753,
                          3.739464595
                        ]
                      },
                      {
                        "learn": [
                          0.2323352083,
                          3.621602462
                        ],
                        "iteration": 511,
                        "passed_time": 980.0318009,
                        "remaining_time": 551.267888,
                        "test": [
                          0.1923655246,
                          3.738514492
                        ]
                      },
                      {
                        "learn": [
                          0.2329653494,
                          3.621012116
                        ],
                        "iteration": 512,
                        "passed_time": 981.9243942,
                        "remaining_time": 549.3417176,
                        "test": [
                          0.1925551475,
                          3.737967885
                        ]
                      },
                      {
                        "learn": [
                          0.2332004812,
                          3.620436649
                        ],
                        "iteration": 513,
                        "passed_time": 983.6917876,
                        "remaining_time": 547.3460141,
                        "test": [
                          0.1932965553,
                          3.737367891
                        ]
                      },
                      {
                        "learn": [
                          0.2337250009,
                          3.619755724
                        ],
                        "iteration": 514,
                        "passed_time": 985.5021232,
                        "remaining_time": 545.3749614,
                        "test": [
                          0.1933433551,
                          3.736826956
                        ]
                      },
                      {
                        "learn": [
                          0.2338135896,
                          3.619268773
                        ],
                        "iteration": 515,
                        "passed_time": 987.4727333,
                        "remaining_time": 543.4927447,
                        "test": [
                          0.1935258343,
                          3.736414405
                        ]
                      },
                      {
                        "learn": [
                          0.2343627805,
                          3.618668496
                        ],
                        "iteration": 516,
                        "passed_time": 990.3649153,
                        "remaining_time": 542.1146442,
                        "test": [
                          0.193685234,
                          3.736012819
                        ]
                      },
                      {
                        "learn": [
                          0.2339952563,
                          3.617985878
                        ],
                        "iteration": 517,
                        "passed_time": 992.1572753,
                        "remaining_time": 540.131953,
                        "test": [
                          0.1932940378,
                          3.735232821
                        ]
                      },
                      {
                        "learn": [
                          0.2345602489,
                          3.617356417
                        ],
                        "iteration": 518,
                        "passed_time": 994.1312004,
                        "remaining_time": 538.2482993,
                        "test": [
                          0.1942943759,
                          3.73481596
                        ]
                      },
                      {
                        "learn": [
                          0.2350087891,
                          3.616777147
                        ],
                        "iteration": 519,
                        "passed_time": 995.8988449,
                        "remaining_time": 536.2532242,
                        "test": [
                          0.1949899814,
                          3.734432465
                        ]
                      },
                      {
                        "learn": [
                          0.2352434987,
                          3.616141897
                        ],
                        "iteration": 520,
                        "passed_time": 997.6581098,
                        "remaining_time": 534.2545348,
                        "test": [
                          0.1952206869,
                          3.73341121
                        ]
                      },
                      {
                        "learn": [
                          0.2366427911,
                          3.615480251
                        ],
                        "iteration": 521,
                        "passed_time": 999.4254379,
                        "remaining_time": 532.261057,
                        "test": [
                          0.1958325356,
                          3.733156578
                        ]
                      },
                      {
                        "learn": [
                          0.236794984,
                          3.614896493
                        ],
                        "iteration": 522,
                        "passed_time": 1002.140853,
                        "remaining_time": 530.7705857,
                        "test": [
                          0.1977765431,
                          3.732575545
                        ]
                      },
                      {
                        "learn": [
                          0.2370764329,
                          3.614307114
                        ],
                        "iteration": 523,
                        "passed_time": 1003.999655,
                        "remaining_time": 528.824246,
                        "test": [
                          0.1977765431,
                          3.732015965
                        ]
                      },
                      {
                        "learn": [
                          0.2380639467,
                          3.613670909
                        ],
                        "iteration": 524,
                        "passed_time": 1005.755552,
                        "remaining_time": 526.824337,
                        "test": [
                          0.1987522653,
                          3.731511613
                        ]
                      },
                      {
                        "learn": [
                          0.23835353,
                          3.613054864
                        ],
                        "iteration": 525,
                        "passed_time": 1007.603222,
                        "remaining_time": 524.8731614,
                        "test": [
                          0.1987604786,
                          3.731165318
                        ]
                      },
                      {
                        "learn": [
                          0.2388458722,
                          3.612434676
                        ],
                        "iteration": 526,
                        "passed_time": 1009.404126,
                        "remaining_time": 522.8981525,
                        "test": [
                          0.1992377006,
                          3.730764268
                        ]
                      },
                      {
                        "learn": [
                          0.2395362309,
                          3.611842414
                        ],
                        "iteration": 527,
                        "passed_time": 1011.229441,
                        "remaining_time": 520.9363789,
                        "test": [
                          0.2007612711,
                          3.730137831
                        ]
                      },
                      {
                        "learn": [
                          0.2395385211,
                          3.611175634
                        ],
                        "iteration": 528,
                        "passed_time": 1013.414181,
                        "remaining_time": 519.1592495,
                        "test": [
                          0.2007612711,
                          3.729553716
                        ]
                      },
                      {
                        "learn": [
                          0.2398270614,
                          3.610508679
                        ],
                        "iteration": 529,
                        "passed_time": 1015.952925,
                        "remaining_time": 517.5609242,
                        "test": [
                          0.2007637235,
                          3.728861468
                        ]
                      },
                      {
                        "learn": [
                          0.2401800444,
                          3.609895462
                        ],
                        "iteration": 530,
                        "passed_time": 1017.82298,
                        "remaining_time": 515.6203043,
                        "test": [
                          0.2008296752,
                          3.728417485
                        ]
                      },
                      {
                        "learn": [
                          0.2401800444,
                          3.609330716
                        ],
                        "iteration": 531,
                        "passed_time": 1019.69133,
                        "remaining_time": 513.6790908,
                        "test": [
                          0.2008296752,
                          3.728060832
                        ]
                      },
                      {
                        "learn": [
                          0.2404753431,
                          3.608782613
                        ],
                        "iteration": 532,
                        "passed_time": 1021.558146,
                        "remaining_time": 511.7373828,
                        "test": [
                          0.2011748916,
                          3.727581133
                        ]
                      },
                      {
                        "learn": [
                          0.2405471501,
                          3.608194958
                        ],
                        "iteration": 533,
                        "passed_time": 1023.367024,
                        "remaining_time": 509.7670945,
                        "test": [
                          0.201177344,
                          3.7271906
                        ]
                      },
                      {
                        "learn": [
                          0.2405593607,
                          3.607530576
                        ],
                        "iteration": 534,
                        "passed_time": 1025.331529,
                        "remaining_time": 507.8744959,
                        "test": [
                          0.201177344,
                          3.726678029
                        ]
                      },
                      {
                        "learn": [
                          0.2407834353,
                          3.606878704
                        ],
                        "iteration": 535,
                        "passed_time": 1028.066293,
                        "remaining_time": 506.3610098,
                        "test": [
                          0.2012432958,
                          3.726254491
                        ]
                      },
                      {
                        "learn": [
                          0.2407680517,
                          3.606273101
                        ],
                        "iteration": 536,
                        "passed_time": 1029.879008,
                        "remaining_time": 504.3913948,
                        "test": [
                          0.201226839,
                          3.725763053
                        ]
                      },
                      {
                        "learn": [
                          0.2412644764,
                          3.605725006
                        ],
                        "iteration": 537,
                        "passed_time": 1031.698794,
                        "remaining_time": 502.4258069,
                        "test": [
                          0.2014134017,
                          3.725261103
                        ]
                      },
                      {
                        "learn": [
                          0.2389604706,
                          3.605210316
                        ],
                        "iteration": 538,
                        "passed_time": 1033.494709,
                        "remaining_time": 500.4492004,
                        "test": [
                          0.2009242602,
                          3.724752241
                        ]
                      },
                      {
                        "learn": [
                          0.2410481694,
                          3.604561689
                        ],
                        "iteration": 539,
                        "passed_time": 1035.29306,
                        "remaining_time": 498.4744364,
                        "test": [
                          0.2014352944,
                          3.724167023
                        ]
                      },
                      {
                        "learn": [
                          0.2413234448,
                          3.603864659
                        ],
                        "iteration": 540,
                        "passed_time": 1037.061772,
                        "remaining_time": 496.4861348,
                        "test": [
                          0.2016464632,
                          3.723815948
                        ]
                      },
                      {
                        "learn": [
                          0.2413261232,
                          3.603326252
                        ],
                        "iteration": 541,
                        "passed_time": 1039.651417,
                        "remaining_time": 494.8894197,
                        "test": [
                          0.2016471973,
                          3.723237967
                        ]
                      },
                      {
                        "learn": [
                          0.2416422532,
                          3.60280178
                        ],
                        "iteration": 542,
                        "passed_time": 1041.70588,
                        "remaining_time": 493.0357479,
                        "test": [
                          0.2018181339,
                          3.722612269
                        ]
                      },
                      {
                        "learn": [
                          0.2418066913,
                          3.602254783
                        ],
                        "iteration": 543,
                        "passed_time": 1043.550121,
                        "remaining_time": 491.0824097,
                        "test": [
                          0.2029615248,
                          3.721901595
                        ]
                      },
                      {
                        "learn": [
                          0.2426770813,
                          3.601721584
                        ],
                        "iteration": 544,
                        "passed_time": 1045.434022,
                        "remaining_time": 489.1480285,
                        "test": [
                          0.2034885495,
                          3.721428942
                        ]
                      },
                      {
                        "learn": [
                          0.2426770813,
                          3.601153478
                        ],
                        "iteration": 545,
                        "passed_time": 1047.423107,
                        "remaining_time": 487.262764,
                        "test": [
                          0.2034885495,
                          3.720915198
                        ]
                      },
                      {
                        "learn": [
                          0.2427918965,
                          3.600642526
                        ],
                        "iteration": 546,
                        "passed_time": 1049.336207,
                        "remaining_time": 485.3419753,
                        "test": [
                          0.2034892836,
                          3.720270475
                        ]
                      },
                      {
                        "learn": [
                          0.2431962739,
                          3.600001852
                        ],
                        "iteration": 547,
                        "passed_time": 1052.063264,
                        "remaining_time": 483.7955154,
                        "test": [
                          0.2038566599,
                          3.719688871
                        ]
                      },
                      {
                        "learn": [
                          0.2446351924,
                          3.599335396
                        ],
                        "iteration": 548,
                        "passed_time": 1054.258001,
                        "remaining_time": 482.0013812,
                        "test": [
                          0.2051172124,
                          3.718858685
                        ]
                      },
                      {
                        "learn": [
                          0.2445990814,
                          3.598765877
                        ],
                        "iteration": 549,
                        "passed_time": 1056.155351,
                        "remaining_time": 480.0706141,
                        "test": [
                          0.2052400846,
                          3.71858225
                        ]
                      },
                      {
                        "learn": [
                          0.245315547,
                          3.598131881
                        ],
                        "iteration": 550,
                        "passed_time": 1057.986773,
                        "remaining_time": 478.1101752,
                        "test": [
                          0.2057029313,
                          3.717866808
                        ]
                      },
                      {
                        "learn": [
                          0.2450290896,
                          3.59751448
                        ],
                        "iteration": 551,
                        "passed_time": 1059.80046,
                        "remaining_time": 476.1422358,
                        "test": [
                          0.2053371603,
                          3.717495896
                        ]
                      },
                      {
                        "learn": [
                          0.2452912134,
                          3.597007597
                        ],
                        "iteration": 552,
                        "passed_time": 1061.62683,
                        "remaining_time": 474.1805191,
                        "test": [
                          0.205558537,
                          3.716851865
                        ]
                      },
                      {
                        "learn": [
                          0.2452912134,
                          3.596421215
                        ],
                        "iteration": 553,
                        "passed_time": 1063.860521,
                        "remaining_time": 472.400159,
                        "test": [
                          0.205558537,
                          3.716302171
                        ]
                      },
                      {
                        "learn": [
                          0.2456916646,
                          3.595847353
                        ],
                        "iteration": 554,
                        "passed_time": 1066.344,
                        "remaining_time": 470.7284323,
                        "test": [
                          0.2052922923,
                          3.715964263
                        ]
                      },
                      {
                        "learn": [
                          0.2451275481,
                          3.595431328
                        ],
                        "iteration": 555,
                        "passed_time": 1068.158108,
                        "remaining_time": 468.7600332,
                        "test": [
                          0.2052922923,
                          3.715638447
                        ]
                      },
                      {
                        "learn": [
                          0.2452005422,
                          3.594934979
                        ],
                        "iteration": 556,
                        "passed_time": 1069.939141,
                        "remaining_time": 466.7777579,
                        "test": [
                          0.2053734761,
                          3.715291753
                        ]
                      },
                      {
                        "learn": [
                          0.2462202499,
                          3.594259773
                        ],
                        "iteration": 557,
                        "passed_time": 1071.778694,
                        "remaining_time": 464.821584,
                        "test": [
                          0.2065953107,
                          3.714737517
                        ]
                      },
                      {
                        "learn": [
                          0.2462801065,
                          3.593543904
                        ],
                        "iteration": 558,
                        "passed_time": 1073.59617,
                        "remaining_time": 462.8563095,
                        "test": [
                          0.2068786781,
                          3.714236491
                        ]
                      },
                      {
                        "learn": [
                          0.2462916194,
                          3.593006059
                        ],
                        "iteration": 559,
                        "passed_time": 1075.384744,
                        "remaining_time": 460.8791758,
                        "test": [
                          0.2068811383,
                          3.713811971
                        ]
                      },
                      {
                        "learn": [
                          0.2462916194,
                          3.592506081
                        ],
                        "iteration": 560,
                        "passed_time": 1078.233071,
                        "remaining_time": 459.3541961,
                        "test": [
                          0.2068811383,
                          3.713355757
                        ]
                      },
                      {
                        "learn": [
                          0.2464110196,
                          3.591861947
                        ],
                        "iteration": 561,
                        "passed_time": 1080.004377,
                        "remaining_time": 457.3684017,
                        "test": [
                          0.20705619,
                          3.712774312
                        ]
                      },
                      {
                        "learn": [
                          0.2470220837,
                          3.59113581
                        ],
                        "iteration": 562,
                        "passed_time": 1081.798639,
                        "remaining_time": 455.3930329,
                        "test": [
                          0.20705619,
                          3.712336052
                        ]
                      },
                      {
                        "learn": [
                          0.246808785,
                          3.590549146
                        ],
                        "iteration": 563,
                        "passed_time": 1083.621987,
                        "remaining_time": 453.4304769,
                        "test": [
                          0.20705619,
                          3.711793005
                        ]
                      },
                      {
                        "learn": [
                          0.2475376391,
                          3.589778537
                        ],
                        "iteration": 564,
                        "passed_time": 1085.490166,
                        "remaining_time": 451.4870601,
                        "test": [
                          0.2074517945,
                          3.710990837
                        ]
                      },
                      {
                        "learn": [
                          0.2475153608,
                          3.589279054
                        ],
                        "iteration": 565,
                        "passed_time": 1087.379272,
                        "remaining_time": 449.552561,
                        "test": [
                          0.2074517945,
                          3.71045992
                        ]
                      },
                      {
                        "learn": [
                          0.2477888217,
                          3.588678445
                        ],
                        "iteration": 566,
                        "passed_time": 1090.123669,
                        "remaining_time": 447.9696912,
                        "test": [
                          0.2074517945,
                          3.709711457
                        ]
                      },
                      {
                        "learn": [
                          0.2489766802,
                          3.588007872
                        ],
                        "iteration": 567,
                        "passed_time": 1092.267687,
                        "remaining_time": 446.137506,
                        "test": [
                          0.209246899,
                          3.709006723
                        ]
                      },
                      {
                        "learn": [
                          0.2495878363,
                          3.587357869
                        ],
                        "iteration": 568,
                        "passed_time": 1094.142428,
                        "remaining_time": 444.1949049,
                        "test": [
                          0.2095088586,
                          3.708508519
                        ]
                      },
                      {
                        "learn": [
                          0.2497874097,
                          3.586836524
                        ],
                        "iteration": 569,
                        "passed_time": 1095.982335,
                        "remaining_time": 442.2384859,
                        "test": [
                          0.2092009586,
                          3.708171751
                        ]
                      },
                      {
                        "learn": [
                          0.2497849404,
                          3.586264566
                        ],
                        "iteration": 570,
                        "passed_time": 1097.818249,
                        "remaining_time": 440.2808741,
                        "test": [
                          0.2091939186,
                          3.70774803
                        ]
                      },
                      {
                        "learn": [
                          0.2500931983,
                          3.585721596
                        ],
                        "iteration": 571,
                        "passed_time": 1099.680057,
                        "remaining_time": 438.3340088,
                        "test": [
                          0.2093719153,
                          3.707395342
                        ]
                      },
                      {
                        "learn": [
                          0.2502477354,
                          3.585083062
                        ],
                        "iteration": 572,
                        "passed_time": 1102.637052,
                        "remaining_time": 436.8213103,
                        "test": [
                          0.2093719153,
                          3.707019984
                        ]
                      },
                      {
                        "learn": [
                          0.2509405724,
                          3.584541833
                        ],
                        "iteration": 573,
                        "passed_time": 1104.863486,
                        "remaining_time": 435.0159369,
                        "test": [
                          0.2105428988,
                          3.706525852
                        ]
                      },
                      {
                        "learn": [
                          0.2506154363,
                          3.583937972
                        ],
                        "iteration": 574,
                        "passed_time": 1106.777001,
                        "remaining_time": 433.0866525,
                        "test": [
                          0.2105428988,
                          3.705559324
                        ]
                      },
                      {
                        "learn": [
                          0.2506268609,
                          3.583409752
                        ],
                        "iteration": 575,
                        "passed_time": 1108.627116,
                        "remaining_time": 431.1327672,
                        "test": [
                          0.2105453209,
                          3.705105175
                        ]
                      },
                      {
                        "learn": [
                          0.2508848944,
                          3.582896729
                        ],
                        "iteration": 576,
                        "passed_time": 1110.489557,
                        "remaining_time": 429.1840056,
                        "test": [
                          0.2105453209,
                          3.704615799
                        ]
                      },
                      {
                        "learn": [
                          0.2508848944,
                          3.582255986
                        ],
                        "iteration": 577,
                        "passed_time": 1112.331721,
                        "remaining_time": 427.2277544,
                        "test": [
                          0.2105453209,
                          3.704130662
                        ]
                      },
                      {
                        "learn": [
                          0.2511067693,
                          3.581666378
                        ],
                        "iteration": 578,
                        "passed_time": 1114.754933,
                        "remaining_time": 425.493679,
                        "test": [
                          0.2108302107,
                          3.70366178
                        ]
                      },
                      {
                        "learn": [
                          0.2516805447,
                          3.580999785
                        ],
                        "iteration": 579,
                        "passed_time": 1117.071796,
                        "remaining_time": 423.7168883,
                        "test": [
                          0.2117803901,
                          3.703330433
                        ]
                      },
                      {
                        "learn": [
                          0.2523310788,
                          3.580549736
                        ],
                        "iteration": 580,
                        "passed_time": 1118.869112,
                        "remaining_time": 421.7424019,
                        "test": [
                          0.212424052,
                          3.70307486
                        ]
                      },
                      {
                        "learn": [
                          0.2523310788,
                          3.580074533
                        ],
                        "iteration": 581,
                        "passed_time": 1120.716893,
                        "remaining_time": 419.7874271,
                        "test": [
                          0.212424052,
                          3.702832125
                        ]
                      },
                      {
                        "learn": [
                          0.2527481701,
                          3.579513639
                        ],
                        "iteration": 582,
                        "passed_time": 1122.641141,
                        "remaining_time": 417.8612822,
                        "test": [
                          0.2127288891,
                          3.702587692
                        ]
                      },
                      {
                        "learn": [
                          0.2527481701,
                          3.578953574
                        ],
                        "iteration": 583,
                        "passed_time": 1124.514268,
                        "remaining_time": 415.916236,
                        "test": [
                          0.2127288891,
                          3.70215504
                        ]
                      },
                      {
                        "learn": [
                          0.2531594968,
                          3.578309309
                        ],
                        "iteration": 584,
                        "passed_time": 1126.628677,
                        "remaining_time": 414.060112,
                        "test": [
                          0.2129665935,
                          3.701786465
                        ]
                      },
                      {
                        "learn": [
                          0.2532751436,
                          3.577731956
                        ],
                        "iteration": 585,
                        "passed_time": 1129.164798,
                        "remaining_time": 412.3571106,
                        "test": [
                          0.2131441906,
                          3.701355218
                        ]
                      },
                      {
                        "learn": [
                          0.2531070145,
                          3.577101664
                        ],
                        "iteration": 586,
                        "passed_time": 1130.954267,
                        "remaining_time": 410.3803388,
                        "test": [
                          0.2129641714,
                          3.700974612
                        ]
                      },
                      {
                        "learn": [
                          0.2531224122,
                          3.576523587
                        ],
                        "iteration": 587,
                        "passed_time": 1132.731756,
                        "remaining_time": 408.3998847,
                        "test": [
                          0.2129641714,
                          3.700561625
                        ]
                      },
                      {
                        "learn": [
                          0.2540015601,
                          3.575819219
                        ],
                        "iteration": 588,
                        "passed_time": 1134.538958,
                        "remaining_time": 406.4307642,
                        "test": [
                          0.213891522,
                          3.700111638
                        ]
                      },
                      {
                        "learn": [
                          0.2541895577,
                          3.575191526
                        ],
                        "iteration": 589,
                        "passed_time": 1136.395809,
                        "remaining_time": 404.4798641,
                        "test": [
                          0.2140445309,
                          3.699777312
                        ]
                      },
                      {
                        "learn": [
                          0.255712905,
                          3.57467858
                        ],
                        "iteration": 590,
                        "passed_time": 1138.172376,
                        "remaining_time": 402.5008909,
                        "test": [
                          0.2150039585,
                          3.699372295
                        ]
                      },
                      {
                        "learn": [
                          0.255712905,
                          3.574189205
                        ],
                        "iteration": 591,
                        "passed_time": 1141.176869,
                        "remaining_time": 400.9540351,
                        "test": [
                          0.2150039585,
                          3.698736632
                        ]
                      },
                      {
                        "learn": [
                          0.2548264365,
                          3.573729159
                        ],
                        "iteration": 592,
                        "passed_time": 1143.134949,
                        "remaining_time": 399.0369891,
                        "test": [
                          0.2142076981,
                          3.698360183
                        ]
                      },
                      {
                        "learn": [
                          0.2547997587,
                          3.573210728
                        ],
                        "iteration": 593,
                        "passed_time": 1145.117934,
                        "remaining_time": 397.1284418,
                        "test": [
                          0.2141670455,
                          3.697922563
                        ]
                      },
                      {
                        "learn": [
                          0.2559432471,
                          3.572699168
                        ],
                        "iteration": 594,
                        "passed_time": 1147.11344,
                        "remaining_time": 395.2239583,
                        "test": [
                          0.2150101151,
                          3.697379898
                        ]
                      },
                      {
                        "learn": [
                          0.2562600476,
                          3.572238934
                        ],
                        "iteration": 595,
                        "passed_time": 1149.032739,
                        "remaining_time": 393.2930852,
                        "test": [
                          0.2149849057,
                          3.697084874
                        ]
                      },
                      {
                        "learn": [
                          0.2567432526,
                          3.571624378
                        ],
                        "iteration": 596,
                        "passed_time": 1151.086297,
                        "remaining_time": 391.4079033,
                        "test": [
                          0.2153941005,
                          3.696751621
                        ]
                      },
                      {
                        "learn": [
                          0.2578329585,
                          3.571083168
                        ],
                        "iteration": 597,
                        "passed_time": 1154.066656,
                        "remaining_time": 389.835225,
                        "test": [
                          0.2156948251,
                          3.696339794
                        ]
                      },
                      {
                        "learn": [
                          0.2578379293,
                          3.570478356
                        ],
                        "iteration": 598,
                        "passed_time": 1155.944678,
                        "remaining_time": 387.8879471,
                        "test": [
                          0.2156978492,
                          3.695904419
                        ]
                      },
                      {
                        "learn": [
                          0.2578507972,
                          3.569920318
                        ],
                        "iteration": 599,
                        "passed_time": 1157.785019,
                        "remaining_time": 385.9283398,
                        "test": [
                          0.2157215778,
                          3.695451746
                        ]
                      },
                      {
                        "learn": [
                          0.2581241314,
                          3.569373725
                        ],
                        "iteration": 600,
                        "passed_time": 1159.690266,
                        "remaining_time": 383.9906204,
                        "test": [
                          0.2156247387,
                          3.695164107
                        ]
                      },
                      {
                        "learn": [
                          0.2584703406,
                          3.568822661
                        ],
                        "iteration": 601,
                        "passed_time": 1161.566446,
                        "remaining_time": 382.043449,
                        "test": [
                          0.2156696156,
                          3.694839381
                        ]
                      },
                      {
                        "learn": [
                          0.2586386809,
                          3.568274325
                        ],
                        "iteration": 602,
                        "passed_time": 1163.389222,
                        "remaining_time": 380.079066,
                        "test": [
                          0.2160066047,
                          3.694598645
                        ]
                      },
                      {
                        "learn": [
                          0.256119167,
                          3.567690059
                        ],
                        "iteration": 603,
                        "passed_time": 1166.341765,
                        "remaining_time": 378.4817647,
                        "test": [
                          0.2145132125,
                          3.694078763
                        ]
                      },
                      {
                        "learn": [
                          0.2592204945,
                          3.567122738
                        ],
                        "iteration": 604,
                        "passed_time": 1168.207184,
                        "remaining_time": 376.5295883,
                        "test": [
                          0.2166841294,
                          3.69381026
                        ]
                      },
                      {
                        "learn": [
                          0.2591882217,
                          3.566505012
                        ],
                        "iteration": 605,
                        "passed_time": 1170.074895,
                        "remaining_time": 374.5784319,
                        "test": [
                          0.2166311834,
                          3.693256227
                        ]
                      },
                      {
                        "learn": [
                          0.2591546961,
                          3.565962054
                        ],
                        "iteration": 606,
                        "passed_time": 1171.936768,
                        "remaining_time": 372.625694,
                        "test": [
                          0.2167260942,
                          3.692347284
                        ]
                      },
                      {
                        "learn": [
                          0.2593618641,
                          3.565341943
                        ],
                        "iteration": 607,
                        "passed_time": 1173.825201,
                        "remaining_time": 370.6816426,
                        "test": [
                          0.2172149473,
                          3.691914356
                        ]
                      },
                      {
                        "learn": [
                          0.2596533915,
                          3.564842413
                        ],
                        "iteration": 608,
                        "passed_time": 1175.755124,
                        "remaining_time": 368.7507859,
                        "test": [
                          0.2174510881,
                          3.691436884
                        ]
                      },
                      {
                        "learn": [
                          0.2592404182,
                          3.564132648
                        ],
                        "iteration": 609,
                        "passed_time": 1178.691534,
                        "remaining_time": 367.1334286,
                        "test": [
                          0.2173962185,
                          3.69089257
                        ]
                      },
                      {
                        "learn": [
                          0.259494364,
                          3.563641644
                        ],
                        "iteration": 610,
                        "passed_time": 1181.012718,
                        "remaining_time": 365.3214464,
                        "test": [
                          0.2177365271,
                          3.69034909
                        ]
                      },
                      {
                        "learn": [
                          0.2601222449,
                          3.563058653
                        ],
                        "iteration": 611,
                        "passed_time": 1183.031462,
                        "remaining_time": 363.4148935,
                        "test": [
                          0.217822981,
                          3.690002288
                        ]
                      },
                      {
                        "learn": [
                          0.2605931024,
                          3.562477363
                        ],
                        "iteration": 612,
                        "passed_time": 1184.9558,
                        "remaining_time": 361.4791754,
                        "test": [
                          0.217876541,
                          3.689679734
                        ]
                      },
                      {
                        "learn": [
                          0.2611412184,
                          3.561808544
                        ],
                        "iteration": 613,
                        "passed_time": 1186.927582,
                        "remaining_time": 359.557867,
                        "test": [
                          0.21807808,
                          3.689169023
                        ]
                      },
                      {
                        "learn": [
                          0.2612877863,
                          3.561138259
                        ],
                        "iteration": 614,
                        "passed_time": 1188.838054,
                        "remaining_time": 357.6179513,
                        "test": [
                          0.2179820456,
                          3.688693513
                        ]
                      },
                      {
                        "learn": [
                          0.2615441339,
                          3.56053402
                        ],
                        "iteration": 615,
                        "passed_time": 1191.885847,
                        "remaining_time": 356.0178504,
                        "test": [
                          0.2188157501,
                          3.687875891
                        ]
                      },
                      {
                        "learn": [
                          0.2614358059,
                          3.560012198
                        ],
                        "iteration": 616,
                        "passed_time": 1193.69268,
                        "remaining_time": 354.0449927,
                        "test": [
                          0.2186008974,
                          3.687468073
                        ]
                      },
                      {
                        "learn": [
                          0.2585069576,
                          3.559495495
                        ],
                        "iteration": 617,
                        "passed_time": 1195.489194,
                        "remaining_time": 352.0696332,
                        "test": [
                          0.2167987945,
                          3.687023626
                        ]
                      },
                      {
                        "learn": [
                          0.2586678724,
                          3.558987593
                        ],
                        "iteration": 618,
                        "passed_time": 1197.399872,
                        "remaining_time": 350.128234,
                        "test": [
                          0.216809484,
                          3.68638649
                        ]
                      },
                      {
                        "learn": [
                          0.2588413888,
                          3.558359419
                        ],
                        "iteration": 619,
                        "passed_time": 1199.211306,
                        "remaining_time": 348.158121,
                        "test": [
                          0.2172848296,
                          3.685966951
                        ]
                      },
                      {
                        "learn": [
                          0.2589816707,
                          3.557800736
                        ],
                        "iteration": 620,
                        "passed_time": 1201.021068,
                        "remaining_time": 346.1880372,
                        "test": [
                          0.2171724367,
                          3.685470326
                        ]
                      },
                      {
                        "learn": [
                          0.2592210831,
                          3.557222325
                        ],
                        "iteration": 621,
                        "passed_time": 1203.811381,
                        "remaining_time": 344.499077,
                        "test": [
                          0.2174755897,
                          3.684892368
                        ]
                      },
                      {
                        "learn": [
                          0.2599856328,
                          3.556618799
                        ],
                        "iteration": 622,
                        "passed_time": 1206.004498,
                        "remaining_time": 342.6369118,
                        "test": [
                          0.2174569461,
                          3.684412033
                        ]
                      },
                      {
                        "learn": [
                          0.2603245735,
                          3.556113273
                        ],
                        "iteration": 623,
                        "passed_time": 1207.931818,
                        "remaining_time": 340.6987178,
                        "test": [
                          0.2174531397,
                          3.684004767
                        ]
                      },
                      {
                        "learn": [
                          0.2610253588,
                          3.555546334
                        ],
                        "iteration": 624,
                        "passed_time": 1209.912282,
                        "remaining_time": 338.7754389,
                        "test": [
                          0.2185135203,
                          3.683587169
                        ]
                      },
                      {
                        "learn": [
                          0.2617795316,
                          3.554938928
                        ],
                        "iteration": 625,
                        "passed_time": 1211.838432,
                        "remaining_time": 336.8368805,
                        "test": [
                          0.2188511881,
                          3.683133143
                        ]
                      },
                      {
                        "learn": [
                          0.2630523059,
                          3.554449903
                        ],
                        "iteration": 626,
                        "passed_time": 1213.705859,
                        "remaining_time": 334.882159,
                        "test": [
                          0.2197680249,
                          3.682909211
                        ]
                      },
                      {
                        "learn": [
                          0.2632193613,
                          3.553981796
                        ],
                        "iteration": 627,
                        "passed_time": 1216.181141,
                        "remaining_time": 333.094198,
                        "test": [
                          0.2197836853,
                          3.682445507
                        ]
                      },
                      {
                        "learn": [
                          0.2637761647,
                          3.553527343
                        ],
                        "iteration": 628,
                        "passed_time": 1218.585633,
                        "remaining_time": 331.2848065,
                        "test": [
                          0.2194386553,
                          3.682207272
                        ]
                      },
                      {
                        "learn": [
                          0.2641509636,
                          3.552895798
                        ],
                        "iteration": 629,
                        "passed_time": 1220.439338,
                        "remaining_time": 329.3249006,
                        "test": [
                          0.2194662019,
                          3.681716309
                        ]
                      },
                      {
                        "learn": [
                          0.2641509636,
                          3.55241424
                        ],
                        "iteration": 630,
                        "passed_time": 1222.283997,
                        "remaining_time": 327.362909,
                        "test": [
                          0.2194662019,
                          3.681141998
                        ]
                      },
                      {
                        "learn": [
                          0.264221659,
                          3.551891211
                        ],
                        "iteration": 631,
                        "passed_time": 1224.106971,
                        "remaining_time": 325.3955238,
                        "test": [
                          0.2197197935,
                          3.680684098
                        ]
                      },
                      {
                        "learn": [
                          0.2649158805,
                          3.551317286
                        ],
                        "iteration": 632,
                        "passed_time": 1226.018667,
                        "remaining_time": 323.4520021,
                        "test": [
                          0.2205701265,
                          3.680076161
                        ]
                      },
                      {
                        "learn": [
                          0.2649158805,
                          3.550711083
                        ],
                        "iteration": 633,
                        "passed_time": 1228.283175,
                        "remaining_time": 321.6009575,
                        "test": [
                          0.2205701265,
                          3.679654642
                        ]
                      },
                      {
                        "learn": [
                          0.2649768322,
                          3.550194344
                        ],
                        "iteration": 634,
                        "passed_time": 1230.899786,
                        "remaining_time": 319.8401018,
                        "test": [
                          0.2208676957,
                          3.679243098
                        ]
                      },
                      {
                        "learn": [
                          0.2647137994,
                          3.549667653
                        ],
                        "iteration": 635,
                        "passed_time": 1232.707651,
                        "remaining_time": 317.8680105,
                        "test": [
                          0.2204003535,
                          3.678761951
                        ]
                      },
                      {
                        "learn": [
                          0.2647212275,
                          3.549209227
                        ],
                        "iteration": 636,
                        "passed_time": 1234.483672,
                        "remaining_time": 315.8882866,
                        "test": [
                          0.2204031237,
                          3.678390371
                        ]
                      },
                      {
                        "learn": [
                          0.2652054063,
                          3.548716281
                        ],
                        "iteration": 637,
                        "passed_time": 1236.335056,
                        "remaining_time": 313.9283371,
                        "test": [
                          0.2207037677,
                          3.67802864
                        ]
                      },
                      {
                        "learn": [
                          0.2652029695,
                          3.548143708
                        ],
                        "iteration": 638,
                        "passed_time": 1238.156438,
                        "remaining_time": 311.9611683,
                        "test": [
                          0.2207037677,
                          3.677594403
                        ]
                      },
                      {
                        "learn": [
                          0.2655367164,
                          3.547521773
                        ],
                        "iteration": 639,
                        "passed_time": 1239.97841,
                        "remaining_time": 309.9946024,
                        "test": [
                          0.2209287417,
                          3.677050468
                        ]
                      },
                      {
                        "learn": [
                          0.2655451908,
                          3.546961099
                        ],
                        "iteration": 640,
                        "passed_time": 1242.899933,
                        "remaining_time": 308.3012314,
                        "test": [
                          0.2209312933,
                          3.676781645
                        ]
                      },
                      {
                        "learn": [
                          0.2649770811,
                          3.546415764
                        ],
                        "iteration": 641,
                        "passed_time": 1244.72476,
                        "remaining_time": 306.334131,
                        "test": [
                          0.2204953085,
                          3.676522345
                        ]
                      },
                      {
                        "learn": [
                          0.265172868,
                          3.545922929
                        ],
                        "iteration": 642,
                        "passed_time": 1246.540192,
                        "remaining_time": 304.365179,
                        "test": [
                          0.2205912438,
                          3.676354098
                        ]
                      },
                      {
                        "learn": [
                          0.2651619119,
                          3.54540613
                        ],
                        "iteration": 643,
                        "passed_time": 1248.288806,
                        "remaining_time": 302.3805183,
                        "test": [
                          0.2205853052,
                          3.675883516
                        ]
                      },
                      {
                        "learn": [
                          0.2654131617,
                          3.544902776
                        ],
                        "iteration": 644,
                        "passed_time": 1250.06387,
                        "remaining_time": 300.4029455,
                        "test": [
                          0.221124318,
                          3.675610429
                        ]
                      },
                      {
                        "learn": [
                          0.2655401717,
                          3.544336255
                        ],
                        "iteration": 645,
                        "passed_time": 1251.874687,
                        "remaining_time": 298.4345228,
                        "test": [
                          0.2212539412,
                          3.675084468
                        ]
                      },
                      {
                        "learn": [
                          0.265860962,
                          3.543694307
                        ],
                        "iteration": 646,
                        "passed_time": 1254.222129,
                        "remaining_time": 296.5934865,
                        "test": [
                          0.2212539412,
                          3.674619842
                        ]
                      },
                      {
                        "learn": [
                          0.265860962,
                          3.543134237
                        ],
                        "iteration": 647,
                        "passed_time": 1256.531841,
                        "remaining_time": 294.7420367,
                        "test": [
                          0.2212539412,
                          3.674152561
                        ]
                      },
                      {
                        "learn": [
                          0.2660711584,
                          3.542571615
                        ],
                        "iteration": 648,
                        "passed_time": 1258.339674,
                        "remaining_time": 292.772405,
                        "test": [
                          0.2212539412,
                          3.6737591
                        ]
                      },
                      {
                        "learn": [
                          0.2663114658,
                          3.542022173
                        ],
                        "iteration": 649,
                        "passed_time": 1260.172298,
                        "remaining_time": 290.808992,
                        "test": [
                          0.221689926,
                          3.673353211
                        ]
                      },
                      {
                        "learn": [
                          0.2688208306,
                          3.541388675
                        ],
                        "iteration": 650,
                        "passed_time": 1261.975289,
                        "remaining_time": 288.8391983,
                        "test": [
                          0.2233780645,
                          3.672836843
                        ]
                      },
                      {
                        "learn": [
                          0.2687379382,
                          3.540887869
                        ],
                        "iteration": 651,
                        "passed_time": 1263.766124,
                        "remaining_time": 286.8671569,
                        "test": [
                          0.2233108207,
                          3.672523044
                        ]
                      },
                      {
                        "learn": [
                          0.2691522352,
                          3.540296949
                        ],
                        "iteration": 652,
                        "passed_time": 1265.708791,
                        "remaining_time": 284.9298503,
                        "test": [
                          0.2236015882,
                          3.671963294
                        ]
                      },
                      {
                        "learn": [
                          0.2691547327,
                          3.539724814
                        ],
                        "iteration": 653,
                        "passed_time": 1268.468101,
                        "remaining_time": 283.174836,
                        "test": [
                          0.2236015882,
                          3.671463196
                        ]
                      },
                      {
                        "learn": [
                          0.2692166948,
                          3.539193811
                        ],
                        "iteration": 654,
                        "passed_time": 1270.292027,
                        "remaining_time": 281.2096854,
                        "test": [
                          0.2238318019,
                          3.67117448
                        ]
                      },
                      {
                        "learn": [
                          0.2695611712,
                          3.538626305
                        ],
                        "iteration": 655,
                        "passed_time": 1272.112466,
                        "remaining_time": 279.2441998,
                        "test": [
                          0.2238738322,
                          3.670962969
                        ]
                      },
                      {
                        "learn": [
                          0.269330966,
                          3.538171039
                        ],
                        "iteration": 656,
                        "passed_time": 1273.943207,
                        "remaining_time": 277.2813981,
                        "test": [
                          0.2238022806,
                          3.670521781
                        ]
                      },
                      {
                        "learn": [
                          0.2693301488,
                          3.537693141
                        ],
                        "iteration": 657,
                        "passed_time": 1275.765365,
                        "remaining_time": 275.3171457,
                        "test": [
                          0.2238022806,
                          3.67019552
                        ]
                      },
                      {
                        "learn": [
                          0.2695656171,
                          3.537195094
                        ],
                        "iteration": 658,
                        "passed_time": 1277.55702,
                        "remaining_time": 273.346798,
                        "test": [
                          0.2240809599,
                          3.669832228
                        ]
                      },
                      {
                        "learn": [
                          0.2695656171,
                          3.536657014
                        ],
                        "iteration": 659,
                        "passed_time": 1280.359431,
                        "remaining_time": 271.5913944,
                        "test": [
                          0.2240809599,
                          3.669499411
                        ]
                      },
                      {
                        "learn": [
                          0.269680742,
                          3.536109809
                        ],
                        "iteration": 660,
                        "passed_time": 1282.167618,
                        "remaining_time": 269.6237502,
                        "test": [
                          0.2242516088,
                          3.669087857
                        ]
                      },
                      {
                        "learn": [
                          0.2705554897,
                          3.535570616
                        ],
                        "iteration": 661,
                        "passed_time": 1283.953657,
                        "remaining_time": 267.6519709,
                        "test": [
                          0.2245809993,
                          3.66868542
                        ]
                      },
                      {
                        "learn": [
                          0.2712001344,
                          3.535016583
                        ],
                        "iteration": 662,
                        "passed_time": 1285.693708,
                        "remaining_time": 265.6712489,
                        "test": [
                          0.2247994267,
                          3.668182205
                        ]
                      },
                      {
                        "learn": [
                          0.2717609179,
                          3.534477694
                        ],
                        "iteration": 663,
                        "passed_time": 1287.671124,
                        "remaining_time": 263.7398688,
                        "test": [
                          0.2256488853,
                          3.667530102
                        ]
                      },
                      {
                        "learn": [
                          0.2717579034,
                          3.533964196
                        ],
                        "iteration": 664,
                        "passed_time": 1289.484606,
                        "remaining_time": 261.7750704,
                        "test": [
                          0.2256467334,
                          3.667233578
                        ]
                      },
                      {
                        "learn": [
                          0.2717571036,
                          3.533441595
                        ],
                        "iteration": 665,
                        "passed_time": 1291.826142,
                        "remaining_time": 259.9169716,
                        "test": [
                          0.2256467334,
                          3.66671664
                        ]
                      },
                      {
                        "learn": [
                          0.2723438087,
                          3.53295115
                        ],
                        "iteration": 666,
                        "passed_time": 1294.154905,
                        "remaining_time": 258.0548762,
                        "test": [
                          0.2257375205,
                          3.666456278
                        ]
                      },
                      {
                        "learn": [
                          0.2723445908,
                          3.53247019
                        ],
                        "iteration": 667,
                        "passed_time": 1295.945552,
                        "remaining_time": 256.0850492,
                        "test": [
                          0.2257375205,
                          3.666127355
                        ]
                      },
                      {
                        "learn": [
                          0.2723445908,
                          3.531999824
                        ],
                        "iteration": 668,
                        "passed_time": 1297.714507,
                        "remaining_time": 254.1115104,
                        "test": [
                          0.2257375205,
                          3.665843493
                        ]
                      },
                      {
                        "learn": [
                          0.2729912102,
                          3.531469073
                        ],
                        "iteration": 669,
                        "passed_time": 1299.466322,
                        "remaining_time": 252.1352565,
                        "test": [
                          0.2265428336,
                          3.665469572
                        ]
                      },
                      {
                        "learn": [
                          0.2728627842,
                          3.530865183
                        ],
                        "iteration": 670,
                        "passed_time": 1301.267876,
                        "remaining_time": 250.1692341,
                        "test": [
                          0.2264728447,
                          3.665180085
                        ]
                      },
                      {
                        "learn": [
                          0.2727779317,
                          3.530352634
                        ],
                        "iteration": 671,
                        "passed_time": 1303.119139,
                        "remaining_time": 248.2131693,
                        "test": [
                          0.2264749966,
                          3.664640835
                        ]
                      },
                      {
                        "learn": [
                          0.27289205,
                          3.529885046
                        ],
                        "iteration": 672,
                        "passed_time": 1305.964194,
                        "remaining_time": 246.4449519,
                        "test": [
                          0.2264749966,
                          3.664218577
                        ]
                      },
                      {
                        "learn": [
                          0.2701682762,
                          3.529300747
                        ],
                        "iteration": 673,
                        "passed_time": 1307.79529,
                        "remaining_time": 244.4839859,
                        "test": [
                          0.2247425145,
                          3.663726376
                        ]
                      },
                      {
                        "learn": [
                          0.2701662531,
                          3.528744137
                        ],
                        "iteration": 674,
                        "passed_time": 1309.580832,
                        "remaining_time": 242.5149688,
                        "test": [
                          0.2247401117,
                          3.663045968
                        ]
                      },
                      {
                        "learn": [
                          0.270206564,
                          3.528200748
                        ],
                        "iteration": 675,
                        "passed_time": 1311.394275,
                        "remaining_time": 240.5516126,
                        "test": [
                          0.2247611968,
                          3.662495885
                        ]
                      },
                      {
                        "learn": [
                          0.270206564,
                          3.527682856
                        ],
                        "iteration": 676,
                        "passed_time": 1313.176479,
                        "remaining_time": 238.5830236,
                        "test": [
                          0.2247611968,
                          3.662200535
                        ]
                      },
                      {
                        "learn": [
                          0.270206564,
                          3.527165279
                        ],
                        "iteration": 677,
                        "passed_time": 1314.95023,
                        "remaining_time": 236.6134633,
                        "test": [
                          0.2247611968,
                          3.661702252
                        ]
                      },
                      {
                        "learn": [
                          0.2706093728,
                          3.526721911
                        ],
                        "iteration": 678,
                        "passed_time": 1317.385189,
                        "remaining_time": 234.7623091,
                        "test": [
                          0.2252948746,
                          3.66128727
                        ]
                      },
                      {
                        "learn": [
                          0.2712598386,
                          3.526192644
                        ],
                        "iteration": 679,
                        "passed_time": 1319.596448,
                        "remaining_time": 232.8699614,
                        "test": [
                          0.2263228691,
                          3.660502563
                        ]
                      },
                      {
                        "learn": [
                          0.2714823725,
                          3.525718095
                        ],
                        "iteration": 680,
                        "passed_time": 1321.310869,
                        "remaining_time": 230.8898582,
                        "test": [
                          0.2264659396,
                          3.66000874
                        ]
                      },
                      {
                        "learn": [
                          0.2714681092,
                          3.525203086
                        ],
                        "iteration": 681,
                        "passed_time": 1323.050288,
                        "remaining_time": 228.9148593,
                        "test": [
                          0.2264594382,
                          3.659776637
                        ]
                      },
                      {
                        "learn": [
                          0.2720329136,
                          3.524596667
                        ],
                        "iteration": 682,
                        "passed_time": 1324.790118,
                        "remaining_time": 226.9406205,
                        "test": [
                          0.2273222908,
                          3.659026213
                        ]
                      },
                      {
                        "learn": [
                          0.2725276378,
                          3.523994902
                        ],
                        "iteration": 683,
                        "passed_time": 1326.567111,
                        "remaining_time": 224.9733698,
                        "test": [
                          0.2275671649,
                          3.658464458
                        ]
                      },
                      {
                        "learn": [
                          0.2725261033,
                          3.523446096
                        ],
                        "iteration": 684,
                        "passed_time": 1328.385847,
                        "remaining_time": 223.0136824,
                        "test": [
                          0.2275671649,
                          3.658047771
                        ]
                      },
                      {
                        "learn": [
                          0.2723361001,
                          3.522994775
                        ],
                        "iteration": 685,
                        "passed_time": 1331.234661,
                        "remaining_time": 221.2255851,
                        "test": [
                          0.227580128,
                          3.657726717
                        ]
                      },
                      {
                        "learn": [
                          0.2725552983,
                          3.522434534
                        ],
                        "iteration": 686,
                        "passed_time": 1333.031955,
                        "remaining_time": 219.2614424,
                        "test": [
                          0.227580128,
                          3.657115342
                        ]
                      },
                      {
                        "learn": [
                          0.2732221871,
                          3.521891276
                        ],
                        "iteration": 687,
                        "passed_time": 1334.782232,
                        "remaining_time": 217.2901308,
                        "test": [
                          0.227580128,
                          3.656794895
                        ]
                      },
                      {
                        "learn": [
                          0.2738027449,
                          3.521374138
                        ],
                        "iteration": 688,
                        "passed_time": 1336.549477,
                        "remaining_time": 215.3221944,
                        "test": [
                          0.2280621993,
                          3.656150477
                        ]
                      },
                      {
                        "learn": [
                          0.2738027449,
                          3.520864004
                        ],
                        "iteration": 689,
                        "passed_time": 1338.390492,
                        "remaining_time": 213.3666002,
                        "test": [
                          0.2280621993,
                          3.655869831
                        ]
                      },
                      {
                        "learn": [
                          0.273850223,
                          3.520418816
                        ],
                        "iteration": 690,
                        "passed_time": 1340.132838,
                        "remaining_time": 211.3957733,
                        "test": [
                          0.2280607023,
                          3.65557133
                        ]
                      },
                      {
                        "learn": [
                          0.2739545806,
                          3.519926844
                        ],
                        "iteration": 691,
                        "passed_time": 1342.402713,
                        "remaining_time": 209.5079378,
                        "test": [
                          0.2280607023,
                          3.655262624
                        ]
                      },
                      {
                        "learn": [
                          0.274058048,
                          3.519461066
                        ],
                        "iteration": 692,
                        "passed_time": 1344.733253,
                        "remaining_time": 207.6283667,
                        "test": [
                          0.2286657734,
                          3.654963647
                        ]
                      },
                      {
                        "learn": [
                          0.274058048,
                          3.518975619
                        ],
                        "iteration": 693,
                        "passed_time": 1346.50591,
                        "remaining_time": 205.6622859,
                        "test": [
                          0.2286657734,
                          3.654536623
                        ]
                      },
                      {
                        "learn": [
                          0.2745096363,
                          3.518296192
                        ],
                        "iteration": 694,
                        "passed_time": 1348.282364,
                        "remaining_time": 203.6973356,
                        "test": [
                          0.2290064941,
                          3.653726321
                        ]
                      },
                      {
                        "learn": [
                          0.274504781,
                          3.517843082
                        ],
                        "iteration": 695,
                        "passed_time": 1350.120886,
                        "remaining_time": 201.7422013,
                        "test": [
                          0.2289968325,
                          3.653377183
                        ]
                      },
                      {
                        "learn": [
                          0.2746024716,
                          3.517283747
                        ],
                        "iteration": 696,
                        "passed_time": 1351.883674,
                        "remaining_time": 199.7762101,
                        "test": [
                          0.2291954575,
                          3.652791612
                        ]
                      },
                      {
                        "learn": [
                          0.2743651309,
                          3.516809091
                        ],
                        "iteration": 697,
                        "passed_time": 1353.641341,
                        "remaining_time": 197.8100527,
                        "test": [
                          0.228766061,
                          3.652591172
                        ]
                      },
                      {
                        "learn": [
                          0.274400289,
                          3.516319749
                        ],
                        "iteration": 698,
                        "passed_time": 1356.537922,
                        "remaining_time": 196.009056,
                        "test": [
                          0.2289282635,
                          3.652275392
                        ]
                      },
                      {
                        "learn": [
                          0.274400289,
                          3.515886428
                        ],
                        "iteration": 699,
                        "passed_time": 1358.30892,
                        "remaining_time": 194.0441314,
                        "test": [
                          0.2289282635,
                          3.651938462
                        ]
                      },
                      {
                        "learn": [
                          0.2749920041,
                          3.515425353
                        ],
                        "iteration": 700,
                        "passed_time": 1360.094608,
                        "remaining_time": 192.0818348,
                        "test": [
                          0.2293645404,
                          3.651668341
                        ]
                      },
                      {
                        "learn": [
                          0.2752858547,
                          3.514922594
                        ],
                        "iteration": 701,
                        "passed_time": 1361.856111,
                        "remaining_time": 190.116665,
                        "test": [
                          0.2294338256,
                          3.651260184
                        ]
                      },
                      {
                        "learn": [
                          0.2756358072,
                          3.514426006
                        ],
                        "iteration": 702,
                        "passed_time": 1363.942832,
                        "remaining_time": 188.1969484,
                        "test": [
                          0.2294230804,
                          3.650790814
                        ]
                      },
                      {
                        "learn": [
                          0.2758153258,
                          3.513860191
                        ],
                        "iteration": 703,
                        "passed_time": 1365.703793,
                        "remaining_time": 186.2323354,
                        "test": [
                          0.2294230804,
                          3.650351106
                        ]
                      },
                      {
                        "learn": [
                          0.2766777198,
                          3.513294726
                        ],
                        "iteration": 704,
                        "passed_time": 1368.165139,
                        "remaining_time": 184.3626783,
                        "test": [
                          0.2303065919,
                          3.649774851
                        ]
                      },
                      {
                        "learn": [
                          0.2766777198,
                          3.512844717
                        ],
                        "iteration": 705,
                        "passed_time": 1370.240751,
                        "remaining_time": 182.4399867,
                        "test": [
                          0.2303065919,
                          3.649046689
                        ]
                      },
                      {
                        "learn": [
                          0.2766727448,
                          3.51231043
                        ],
                        "iteration": 706,
                        "passed_time": 1372.015381,
                        "remaining_time": 180.4772707,
                        "test": [
                          0.2302958554,
                          3.648669368
                        ]
                      },
                      {
                        "learn": [
                          0.2765265484,
                          3.511818981
                        ],
                        "iteration": 707,
                        "passed_time": 1373.766082,
                        "remaining_time": 178.5119767,
                        "test": [
                          0.2303983743,
                          3.648132417
                        ]
                      },
                      {
                        "learn": [
                          0.2767899514,
                          3.511308626
                        ],
                        "iteration": 708,
                        "passed_time": 1375.513825,
                        "remaining_time": 176.5469084,
                        "test": [
                          0.2305723652,
                          3.647838998
                        ]
                      },
                      {
                        "learn": [
                          0.277390005,
                          3.510713006
                        ],
                        "iteration": 709,
                        "passed_time": 1377.305689,
                        "remaining_time": 174.5880451,
                        "test": [
                          0.2310984734,
                          3.647305277
                        ]
                      },
                      {
                        "learn": [
                          0.277390005,
                          3.510196321
                        ],
                        "iteration": 710,
                        "passed_time": 1379.277678,
                        "remaining_time": 172.6521987,
                        "test": [
                          0.2310984734,
                          3.646882447
                        ]
                      },
                      {
                        "learn": [
                          0.2776009695,
                          3.509696603
                        ],
                        "iteration": 711,
                        "passed_time": 1381.942144,
                        "remaining_time": 170.801838,
                        "test": [
                          0.2310969763,
                          3.646342315
                        ]
                      },
                      {
                        "learn": [
                          0.2776040148,
                          3.509165624
                        ],
                        "iteration": 712,
                        "passed_time": 1383.700502,
                        "remaining_time": 168.8386307,
                        "test": [
                          0.2310984734,
                          3.645701868
                        ]
                      },
                      {
                        "learn": [
                          0.2781083016,
                          3.508726484
                        ],
                        "iteration": 713,
                        "passed_time": 1385.489423,
                        "remaining_time": 166.8796784,
                        "test": [
                          0.2319143322,
                          3.64522857
                        ]
                      },
                      {
                        "learn": [
                          0.2780742149,
                          3.508337995
                        ],
                        "iteration": 714,
                        "passed_time": 1387.276115,
                        "remaining_time": 164.9209368,
                        "test": [
                          0.2318008064,
                          3.644624671
                        ]
                      },
                      {
                        "learn": [
                          0.2780742149,
                          3.507791627
                        ],
                        "iteration": 715,
                        "passed_time": 1389.047637,
                        "remaining_time": 162.960896,
                        "test": [
                          0.2318008064,
                          3.644038716
                        ]
                      },
                      {
                        "learn": [
                          0.2782529608,
                          3.507266288
                        ],
                        "iteration": 716,
                        "passed_time": 1390.817646,
                        "remaining_time": 161.0012058,
                        "test": [
                          0.2318008064,
                          3.643525043
                        ]
                      },
                      {
                        "learn": [
                          0.2782544784,
                          3.506821945
                        ],
                        "iteration": 717,
                        "passed_time": 1393.656227,
                        "remaining_time": 159.1640817,
                        "test": [
                          0.2323751416,
                          3.643175642
                        ]
                      },
                      {
                        "learn": [
                          0.2786396754,
                          3.506408495
                        ],
                        "iteration": 718,
                        "passed_time": 1395.587156,
                        "remaining_time": 157.2219188,
                        "test": [
                          0.232833149,
                          3.642744456
                        ]
                      },
                      {
                        "learn": [
                          0.2786396754,
                          3.506008388
                        ],
                        "iteration": 719,
                        "passed_time": 1397.342986,
                        "remaining_time": 155.2603318,
                        "test": [
                          0.232833149,
                          3.642478287
                        ]
                      },
                      {
                        "learn": [
                          0.2788910214,
                          3.505465452
                        ],
                        "iteration": 720,
                        "passed_time": 1399.135336,
                        "remaining_time": 153.303317,
                        "test": [
                          0.2328461549,
                          3.642054202
                        ]
                      },
                      {
                        "learn": [
                          0.2797803902,
                          3.504939936
                        ],
                        "iteration": 721,
                        "passed_time": 1400.94419,
                        "remaining_time": 151.3485413,
                        "test": [
                          0.2330422341,
                          3.64152163
                        ]
                      },
                      {
                        "learn": [
                          0.2797803902,
                          3.504476202
                        ],
                        "iteration": 722,
                        "passed_time": 1402.712488,
                        "remaining_time": 149.38985,
                        "test": [
                          0.2330422341,
                          3.641290593
                        ]
                      },
                      {
                        "learn": [
                          0.2799362715,
                          3.504009575
                        ],
                        "iteration": 723,
                        "passed_time": 1405.003074,
                        "remaining_time": 147.4865105,
                        "test": [
                          0.2330532368,
                          3.640969474
                        ]
                      },
                      {
                        "learn": [
                          0.2801444709,
                          3.503586669
                        ],
                        "iteration": 724,
                        "passed_time": 1407.465559,
                        "remaining_time": 145.5998854,
                        "test": [
                          0.2330532368,
                          3.64070723
                        ]
                      },
                      {
                        "learn": [
                          0.2804536696,
                          3.502990417
                        ],
                        "iteration": 725,
                        "passed_time": 1409.247779,
                        "remaining_time": 143.6423356,
                        "test": [
                          0.2332916563,
                          3.640314914
                        ]
                      },
                      {
                        "learn": [
                          0.2806414869,
                          3.502528021
                        ],
                        "iteration": 726,
                        "passed_time": 1411.01743,
                        "remaining_time": 141.6840061,
                        "test": [
                          0.2334942764,
                          3.639878
                        ]
                      },
                      {
                        "learn": [
                          0.2806414869,
                          3.502035687
                        ],
                        "iteration": 727,
                        "passed_time": 1412.783434,
                        "remaining_time": 139.7258341,
                        "test": [
                          0.2334942764,
                          3.639512878
                        ]
                      },
                      {
                        "learn": [
                          0.2806414869,
                          3.501657389
                        ],
                        "iteration": 728,
                        "passed_time": 1414.559555,
                        "remaining_time": 137.7691748,
                        "test": [
                          0.2334942764,
                          3.639009329
                        ]
                      },
                      {
                        "learn": [
                          0.2806079939,
                          3.501251678
                        ],
                        "iteration": 729,
                        "passed_time": 1416.318635,
                        "remaining_time": 135.8113759,
                        "test": [
                          0.2334536861,
                          3.63848783
                        ]
                      },
                      {
                        "learn": [
                          0.2808280443,
                          3.500800231
                        ],
                        "iteration": 730,
                        "passed_time": 1419.215719,
                        "remaining_time": 133.9615384,
                        "test": [
                          0.2337306962,
                          3.637940145
                        ]
                      },
                      {
                        "learn": [
                          0.2810795909,
                          3.500352267
                        ],
                        "iteration": 731,
                        "passed_time": 1420.998625,
                        "remaining_time": 132.0053368,
                        "test": [
                          0.2337306962,
                          3.637447249
                        ]
                      },
                      {
                        "learn": [
                          0.2813860988,
                          3.499885577
                        ],
                        "iteration": 732,
                        "passed_time": 1422.761662,
                        "remaining_time": 130.0477917,
                        "test": [
                          0.2340051805,
                          3.63702634
                        ]
                      },
                      {
                        "learn": [
                          0.2813860988,
                          3.499352515
                        ],
                        "iteration": 733,
                        "passed_time": 1424.536804,
                        "remaining_time": 128.0918652,
                        "test": [
                          0.2340051805,
                          3.636640718
                        ]
                      },
                      {
                        "learn": [
                          0.2813860988,
                          3.498801455
                        ],
                        "iteration": 734,
                        "passed_time": 1426.326241,
                        "remaining_time": 126.1376948,
                        "test": [
                          0.2340051805,
                          3.636060738
                        ]
                      },
                      {
                        "learn": [
                          0.2813860988,
                          3.498233275
                        ],
                        "iteration": 735,
                        "passed_time": 1428.468823,
                        "remaining_time": 124.2146803,
                        "test": [
                          0.2340051805,
                          3.63546541
                        ]
                      },
                      {
                        "learn": [
                          0.2815932507,
                          3.497765693
                        ],
                        "iteration": 736,
                        "passed_time": 1431.150541,
                        "remaining_time": 122.3371562,
                        "test": [
                          0.2340051805,
                          3.635231074
                        ]
                      },
                      {
                        "learn": [
                          0.2815932507,
                          3.497250154
                        ],
                        "iteration": 737,
                        "passed_time": 1433.174406,
                        "remaining_time": 120.4021859,
                        "test": [
                          0.2340051805,
                          3.634408474
                        ]
                      },
                      {
                        "learn": [
                          0.2815932507,
                          3.496792905
                        ],
                        "iteration": 738,
                        "passed_time": 1434.933137,
                        "remaining_time": 118.4450898,
                        "test": [
                          0.2340051805,
                          3.633991533
                        ]
                      },
                      {
                        "learn": [
                          0.2814742562,
                          3.496287805
                        ],
                        "iteration": 739,
                        "passed_time": 1436.715962,
                        "remaining_time": 116.4904834,
                        "test": [
                          0.2340051805,
                          3.633777981
                        ]
                      },
                      {
                        "learn": [
                          0.2819214297,
                          3.495848453
                        ],
                        "iteration": 740,
                        "passed_time": 1438.523547,
                        "remaining_time": 114.5383121,
                        "test": [
                          0.2349354434,
                          3.63339583
                        ]
                      },
                      {
                        "learn": [
                          0.2821059088,
                          3.495408527
                        ],
                        "iteration": 741,
                        "passed_time": 1440.336331,
                        "remaining_time": 112.5869369,
                        "test": [
                          0.2349407228,
                          3.633189435
                        ]
                      },
                      {
                        "learn": [
                          0.2826930625,
                          3.494941027
                        ],
                        "iteration": 742,
                        "passed_time": 1442.553521,
                        "remaining_time": 110.6669592,
                        "test": [
                          0.2357273327,
                          3.632893203
                        ]
                      },
                      {
                        "learn": [
                          0.2826930625,
                          3.494432324
                        ],
                        "iteration": 743,
                        "passed_time": 1445.064934,
                        "remaining_time": 108.7683283,
                        "test": [
                          0.2357273327,
                          3.632410613
                        ]
                      },
                      {
                        "learn": [
                          0.2827694336,
                          3.493905047
                        ],
                        "iteration": 744,
                        "passed_time": 1446.85745,
                        "remaining_time": 106.8149796,
                        "test": [
                          0.2357273327,
                          3.632075582
                        ]
                      },
                      {
                        "learn": [
                          0.2827329502,
                          3.493402188
                        ],
                        "iteration": 745,
                        "passed_time": 1448.620293,
                        "remaining_time": 104.859914,
                        "test": [
                          0.2354615911,
                          3.631872286
                        ]
                      },
                      {
                        "learn": [
                          0.2829082081,
                          3.492921465
                        ],
                        "iteration": 746,
                        "passed_time": 1450.411455,
                        "remaining_time": 102.9073723,
                        "test": [
                          0.2357273327,
                          3.631428623
                        ]
                      },
                      {
                        "learn": [
                          0.2829082081,
                          3.492487631
                        ],
                        "iteration": 747,
                        "passed_time": 1452.189187,
                        "remaining_time": 100.9543285,
                        "test": [
                          0.2357273327,
                          3.630720329
                        ]
                      },
                      {
                        "learn": [
                          0.2832783586,
                          3.492006206
                        ],
                        "iteration": 748,
                        "passed_time": 1453.967591,
                        "remaining_time": 99.0017986,
                        "test": [
                          0.2358967243,
                          3.630457489
                        ]
                      },
                      {
                        "learn": [
                          0.283328013,
                          3.49155332
                        ],
                        "iteration": 749,
                        "passed_time": 1456.78654,
                        "remaining_time": 97.11910265,
                        "test": [
                          0.2358967243,
                          3.630153221
                        ]
                      },
                      {
                        "learn": [
                          0.2833266434,
                          3.491068331
                        ],
                        "iteration": 750,
                        "passed_time": 1458.542709,
                        "remaining_time": 95.16457087,
                        "test": [
                          0.235894676,
                          3.629806444
                        ]
                      },
                      {
                        "learn": [
                          0.2841455443,
                          3.490649442
                        ],
                        "iteration": 751,
                        "passed_time": 1460.279717,
                        "remaining_time": 93.20934365,
                        "test": [
                          0.2369054166,
                          3.629240602
                        ]
                      },
                      {
                        "learn": [
                          0.2841455443,
                          3.490151854
                        ],
                        "iteration": 752,
                        "passed_time": 1462.061796,
                        "remaining_time": 91.25750919,
                        "test": [
                          0.2369054166,
                          3.628896336
                        ]
                      },
                      {
                        "learn": [
                          0.2841804552,
                          3.489739559
                        ],
                        "iteration": 753,
                        "passed_time": 1463.837281,
                        "remaining_time": 89.30572271,
                        "test": [
                          0.2369054166,
                          3.628720338
                        ]
                      },
                      {
                        "learn": [
                          0.2840611358,
                          3.48924664
                        ],
                        "iteration": 754,
                        "passed_time": 1465.59255,
                        "remaining_time": 87.35319833,
                        "test": [
                          0.2369054166,
                          3.628233292
                        ]
                      },
                      {
                        "learn": [
                          0.2840611358,
                          3.488732068
                        ],
                        "iteration": 755,
                        "passed_time": 1467.836424,
                        "remaining_time": 85.42963316,
                        "test": [
                          0.2369054166,
                          3.627868642
                        ]
                      },
                      {
                        "learn": [
                          0.2844881096,
                          3.488235402
                        ],
                        "iteration": 756,
                        "passed_time": 1470.266223,
                        "remaining_time": 83.51578282,
                        "test": [
                          0.2369054166,
                          3.627655871
                        ]
                      },
                      {
                        "learn": [
                          0.2853731728,
                          3.487796878
                        ],
                        "iteration": 757,
                        "passed_time": 1472.060174,
                        "remaining_time": 81.56533945,
                        "test": [
                          0.2374411109,
                          3.627284753
                        ]
                      },
                      {
                        "learn": [
                          0.2853757557,
                          3.487332686
                        ],
                        "iteration": 758,
                        "passed_time": 1473.816902,
                        "remaining_time": 79.61329773,
                        "test": [
                          0.2374411109,
                          3.626757418
                        ]
                      },
                      {
                        "learn": [
                          0.2856394768,
                          3.486837398
                        ],
                        "iteration": 759,
                        "passed_time": 1475.57761,
                        "remaining_time": 77.66197946,
                        "test": [
                          0.2377305263,
                          3.626350787
                        ]
                      },
                      {
                        "learn": [
                          0.2857356287,
                          3.486388079
                        ],
                        "iteration": 760,
                        "passed_time": 1477.356021,
                        "remaining_time": 75.71206941,
                        "test": [
                          0.2379693997,
                          3.625908126
                        ]
                      },
                      {
                        "learn": [
                          0.2857369984,
                          3.485954851
                        ],
                        "iteration": 761,
                        "passed_time": 1479.164126,
                        "remaining_time": 73.76409027,
                        "test": [
                          0.237971448,
                          3.625342165
                        ]
                      },
                      {
                        "learn": [
                          0.2859644179,
                          3.485508695
                        ],
                        "iteration": 762,
                        "passed_time": 1482.280475,
                        "remaining_time": 71.87991817,
                        "test": [
                          0.2383614729,
                          3.62485961
                        ]
                      },
                      {
                        "learn": [
                          0.2859618387,
                          3.485022096
                        ],
                        "iteration": 763,
                        "passed_time": 1484.049787,
                        "remaining_time": 69.92904755,
                        "test": [
                          0.2383614729,
                          3.624484694
                        ]
                      },
                      {
                        "learn": [
                          0.2859618387,
                          3.484554108
                        ],
                        "iteration": 764,
                        "passed_time": 1485.832959,
                        "remaining_time": 67.97928573,
                        "test": [
                          0.2383614729,
                          3.624188486
                        ]
                      },
                      {
                        "learn": [
                          0.2859618387,
                          3.484089285
                        ],
                        "iteration": 765,
                        "passed_time": 1487.621293,
                        "remaining_time": 66.03018793,
                        "test": [
                          0.2383614729,
                          3.623988588
                        ]
                      },
                      {
                        "learn": [
                          0.2859618387,
                          3.483639006
                        ],
                        "iteration": 766,
                        "passed_time": 1489.401473,
                        "remaining_time": 64.08115854,
                        "test": [
                          0.2383614729,
                          3.623709341
                        ]
                      },
                      {
                        "learn": [
                          0.286213016,
                          3.483240252
                        ],
                        "iteration": 767,
                        "passed_time": 1491.232576,
                        "remaining_time": 62.13469065,
                        "test": [
                          0.2385771254,
                          3.623464959
                        ]
                      },
                      {
                        "learn": [
                          0.2863761886,
                          3.482744805
                        ],
                        "iteration": 768,
                        "passed_time": 1493.731326,
                        "remaining_time": 60.21543706,
                        "test": [
                          0.2387893314,
                          3.623033689
                        ]
                      },
                      {
                        "learn": [
                          0.2865735183,
                          3.482385073
                        ],
                        "iteration": 769,
                        "passed_time": 1495.938603,
                        "remaining_time": 58.2833222,
                        "test": [
                          0.2387893314,
                          3.622761815
                        ]
                      },
                      {
                        "learn": [
                          0.2869165831,
                          3.48193605
                        ],
                        "iteration": 770,
                        "passed_time": 1497.745936,
                        "remaining_time": 56.33545025,
                        "test": [
                          0.2387893314,
                          3.622434658
                        ]
                      },
                      {
                        "learn": [
                          0.2869165831,
                          3.481487916
                        ],
                        "iteration": 771,
                        "passed_time": 1499.558515,
                        "remaining_time": 54.38813268,
                        "test": [
                          0.2387893314,
                          3.62229966
                        ]
                      },
                      {
                        "learn": [
                          0.2871319016,
                          3.480998421
                        ],
                        "iteration": 772,
                        "passed_time": 1501.331117,
                        "remaining_time": 52.43976736,
                        "test": [
                          0.2387986108,
                          3.621886022
                        ]
                      },
                      {
                        "learn": [
                          0.2871319016,
                          3.480506904
                        ],
                        "iteration": 773,
                        "passed_time": 1503.13103,
                        "remaining_time": 50.49277363,
                        "test": [
                          0.2387986108,
                          3.621562737
                        ]
                      },
                      {
                        "learn": [
                          0.288247951,
                          3.47998561
                        ],
                        "iteration": 774,
                        "passed_time": 1505.077795,
                        "remaining_time": 48.55089663,
                        "test": [
                          0.2397558941,
                          3.621261301
                        ]
                      },
                      {
                        "learn": [
                          0.288247951,
                          3.4795211
                        ],
                        "iteration": 775,
                        "passed_time": 1507.742871,
                        "remaining_time": 46.6312228,
                        "test": [
                          0.2397558941,
                          3.620904952
                        ]
                      },
                      {
                        "learn": [
                          0.2883672992,
                          3.479059409
                        ],
                        "iteration": 776,
                        "passed_time": 1509.508414,
                        "remaining_time": 44.68300326,
                        "test": [
                          0.2397558941,
                          3.620588319
                        ]
                      },
                      {
                        "learn": [
                          0.2883672992,
                          3.478626748
                        ],
                        "iteration": 777,
                        "passed_time": 1511.252111,
                        "remaining_time": 42.73463552,
                        "test": [
                          0.2397558941,
                          3.620171967
                        ]
                      },
                      {
                        "learn": [
                          0.2883672992,
                          3.478221754
                        ],
                        "iteration": 778,
                        "passed_time": 1513.043945,
                        "remaining_time": 40.78809094,
                        "test": [
                          0.2397558941,
                          3.619797206
                        ]
                      },
                      {
                        "learn": [
                          0.2883672992,
                          3.477684116
                        ],
                        "iteration": 779,
                        "passed_time": 1514.824248,
                        "remaining_time": 38.8416474,
                        "test": [
                          0.2397558941,
                          3.61950828
                        ]
                      },
                      {
                        "learn": [
                          0.2883672992,
                          3.477112162
                        ],
                        "iteration": 780,
                        "passed_time": 1516.595099,
                        "remaining_time": 36.89539933,
                        "test": [
                          0.2397558941,
                          3.619234383
                        ]
                      },
                      {
                        "learn": [
                          0.2884373755,
                          3.476592365
                        ],
                        "iteration": 781,
                        "passed_time": 1519.288628,
                        "remaining_time": 34.97083799,
                        "test": [
                          0.2399463302,
                          3.618705056
                        ]
                      },
                      {
                        "learn": [
                          0.2884373755,
                          3.47613641
                        ],
                        "iteration": 782,
                        "passed_time": 1521.36805,
                        "remaining_time": 33.03097937,
                        "test": [
                          0.2399463302,
                          3.618451176
                        ]
                      },
                      {
                        "learn": [
                          0.2887601921,
                          3.475683367
                        ],
                        "iteration": 783,
                        "passed_time": 1523.154384,
                        "remaining_time": 31.08478334,
                        "test": [
                          0.2405034437,
                          3.618043547
                        ]
                      },
                      {
                        "learn": [
                          0.2887601921,
                          3.475186518
                        ],
                        "iteration": 784,
                        "passed_time": 1524.915961,
                        "remaining_time": 29.13852155,
                        "test": [
                          0.2405034437,
                          3.617458406
                        ]
                      },
                      {
                        "learn": [
                          0.2892997634,
                          3.474682796
                        ],
                        "iteration": 785,
                        "passed_time": 1526.680631,
                        "remaining_time": 27.19278478,
                        "test": [
                          0.2412640141,
                          3.616958292
                        ]
                      },
                      {
                        "learn": [
                          0.2894190221,
                          3.474224413
                        ],
                        "iteration": 786,
                        "passed_time": 1528.469247,
                        "remaining_time": 25.2479037,
                        "test": [
                          0.2413580403,
                          3.616595885
                        ]
                      },
                      {
                        "learn": [
                          0.2898530833,
                          3.473774166
                        ],
                        "iteration": 787,
                        "passed_time": 1530.497918,
                        "remaining_time": 23.3070749,
                        "test": [
                          0.2418214559,
                          3.616255197
                        ]
                      },
                      {
                        "learn": [
                          0.2898530833,
                          3.47328898
                        ],
                        "iteration": 788,
                        "passed_time": 1533.087652,
                        "remaining_time": 21.37384558,
                        "test": [
                          0.2418214559,
                          3.61573416
                        ]
                      },
                      {
                        "learn": [
                          0.2898530833,
                          3.472870455
                        ],
                        "iteration": 789,
                        "passed_time": 1534.852195,
                        "remaining_time": 19.4285088,
                        "test": [
                          0.2418214559,
                          3.615462154
                        ]
                      },
                      {
                        "learn": [
                          0.2899440861,
                          3.472432356
                        ],
                        "iteration": 790,
                        "passed_time": 1536.617189,
                        "remaining_time": 17.48363426,
                        "test": [
                          0.2422399581,
                          3.614765251
                        ]
                      },
                      {
                        "learn": [
                          0.2900373378,
                          3.471988647
                        ],
                        "iteration": 791,
                        "passed_time": 1538.375476,
                        "remaining_time": 15.53914622,
                        "test": [
                          0.2425574709,
                          3.614345772
                        ]
                      },
                      {
                        "learn": [
                          0.2900373378,
                          3.471448948
                        ],
                        "iteration": 792,
                        "passed_time": 1540.134673,
                        "remaining_time": 13.59513583,
                        "test": [
                          0.2425574709,
                          3.613914714
                        ]
                      },
                      {
                        "learn": [
                          0.2905792651,
                          3.470953462
                        ],
                        "iteration": 793,
                        "passed_time": 1542.162156,
                        "remaining_time": 11.65361831,
                        "test": [
                          0.2431359172,
                          3.613689983
                        ]
                      },
                      {
                        "learn": [
                          0.2906708979,
                          3.470472636
                        ],
                        "iteration": 794,
                        "passed_time": 1544.951295,
                        "remaining_time": 9.716674812,
                        "test": [
                          0.2435326742,
                          3.613449897
                        ]
                      },
                      {
                        "learn": [
                          0.2906708979,
                          3.469918388
                        ],
                        "iteration": 795,
                        "passed_time": 1546.755981,
                        "remaining_time": 7.772643121,
                        "test": [
                          0.2435326742,
                          3.612987278
                        ]
                      },
                      {
                        "learn": [
                          0.2906708979,
                          3.469530162
                        ],
                        "iteration": 796,
                        "passed_time": 1548.521971,
                        "remaining_time": 5.82881545,
                        "test": [
                          0.2435326742,
                          3.61252695
                        ]
                      },
                      {
                        "learn": [
                          0.2913781069,
                          3.469052491
                        ],
                        "iteration": 797,
                        "passed_time": 1550.354328,
                        "remaining_time": 3.88559982,
                        "test": [
                          0.243931601,
                          3.612197047
                        ]
                      },
                      {
                        "learn": [
                          0.2912297332,
                          3.468593003
                        ],
                        "iteration": 798,
                        "passed_time": 1552.11431,
                        "remaining_time": 1.942571101,
                        "test": [
                          0.2436226354,
                          3.611871804
                        ]
                      },
                      {
                        "learn": [
                          0.2913781069,
                          3.468125257
                        ],
                        "iteration": 799,
                        "passed_time": 1553.889686,
                        "remaining_time": 0,
                        "test": [
                          0.243931601,
                          3.611574398
                        ]
                      }
                    ],
                    "meta": {
                      "test_sets": [
                        "test"
                      ],
                      "test_metrics": [
                        {
                          "best_value": "Max",
                          "name": "TotalF1:average=Macro"
                        },
                        {
                          "best_value": "Min",
                          "name": "MultiClass"
                        }
                      ],
                      "learn_metrics": [
                        {
                          "best_value": "Max",
                          "name": "TotalF1:average=Macro"
                        },
                        {
                          "best_value": "Min",
                          "name": "MultiClass"
                        }
                      ],
                      "launch_mode": "Train",
                      "parameters": "",
                      "iteration_count": 800,
                      "learn_sets": [
                        "learn"
                      ],
                      "name": "experiment"
                    }
                  }
                }
              }
            },
            "layout": "IPY_MODEL_8c0000de52d94905aa758f19bc01a8d8"
          }
        }
      }
    }
  },
  "nbformat": 4,
  "nbformat_minor": 0
}